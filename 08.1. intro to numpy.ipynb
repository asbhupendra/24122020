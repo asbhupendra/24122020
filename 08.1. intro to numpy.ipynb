{
 "cells": [
  {
   "cell_type": "markdown",
   "metadata": {},
   "source": [
    "In this module we are going to learn to handle datasets, creating , reading from external files , modifying , summarising and visualising  in python with  packages numpy , pandas and seaborn .  this first video focuses on pacakge numpy . Through numpy we will learn to create and handle arrays. Functions that we'll learn here will serve a major purpose\n",
    "\n",
    "* They will set background for handling columns in our datasets when we eventually move to pandas dataframes\n",
    "\n",
    "\n",
    "In this video we are going to look at following aspect of numpy arrays\n",
    "    \n",
    "    a. creating nd arrays\n",
    "    \n",
    "\tb. subsetting with indices and conditions\n",
    "    \n",
    "    c. comparison with np and math functions [np.sqrt , log etc ], special numpy functions  \n",
    "\n",
    "Lets get started with creating  two dimensional arrays . Technically you can create arrays with more than two dimensions, but we dont need them for the purpose of this course or most of the machine learning algorithms even the ones which are not covered in the course\n"
   ]
  },
  {
   "cell_type": "code",
   "execution_count": 3,
   "metadata": {},
   "outputs": [],
   "source": [
    "import numpy as np\n",
    "np.arr"
   ]
  },
  {
   "cell_type": "code",
   "execution_count": 4,
   "metadata": {},
   "outputs": [
    {
     "data": {
      "text/plain": [
       "array([7, 5, 6])"
      ]
     },
     "execution_count": 4,
     "metadata": {},
     "output_type": "execute_result"
    }
   ],
   "source": [
    "d1=np.array([7,5,6])\n",
    "d1"
   ]
  },
  {
   "cell_type": "code",
   "execution_count": 5,
   "metadata": {},
   "outputs": [
    {
     "data": {
      "text/plain": [
       "(3,)"
      ]
     },
     "execution_count": 5,
     "metadata": {},
     "output_type": "execute_result"
    }
   ],
   "source": [
    "d1.shape"
   ]
  },
  {
   "cell_type": "code",
   "execution_count": null,
   "metadata": {},
   "outputs": [],
   "source": [
    "#print(None)"
   ]
  },
  {
   "cell_type": "code",
   "execution_count": 10,
   "metadata": {},
   "outputs": [
    {
     "data": {
      "text/plain": [
       "array([[  3. ,  20. ,  99. ],\n",
       "       [-13. ,   4.5,  26. ],\n",
       "       [  0. ,  -1. ,  20. ],\n",
       "       [  5. ,  78. , -19. ]])"
      ]
     },
     "execution_count": 10,
     "metadata": {},
     "output_type": "execute_result"
    }
   ],
   "source": [
    "b = np.array([[3,20,99],[-13,4.5,26],[0,-1,20],[5,78,-19]])   \n",
    "b"
   ]
  },
  {
   "cell_type": "code",
   "execution_count": 8,
   "metadata": {},
   "outputs": [
    {
     "data": {
      "text/plain": [
       "array([list([3, 20, 99]), list([-13, 26]), list([0, -1, 20]),\n",
       "       list([5, 78, -19])], dtype=object)"
      ]
     },
     "execution_count": 8,
     "metadata": {},
     "output_type": "execute_result"
    }
   ],
   "source": [
    "#Unequal number of elements in array\n",
    "b = np.array([[3,20,99],[-13,26],[0,-1,20],[5,78,-19]])   \n",
    "b"
   ]
  },
  {
   "cell_type": "markdown",
   "metadata": {},
   "source": [
    "b here is a 2 dimensional array , you can quickly determine size of each dimension by looking at shape attribute of an array "
   ]
  },
  {
   "cell_type": "code",
   "execution_count": 9,
   "metadata": {},
   "outputs": [
    {
     "data": {
      "text/plain": [
       "(4,)"
      ]
     },
     "execution_count": 9,
     "metadata": {},
     "output_type": "execute_result"
    }
   ],
   "source": [
    "b.shape"
   ]
  },
  {
   "cell_type": "markdown",
   "metadata": {},
   "source": [
    "dimension in numpy arrays are refered as axis, 2d arrays have two axis , labeled as 0 and 1. "
   ]
  },
  {
   "cell_type": "markdown",
   "metadata": {},
   "source": [
    "Since there are two dimension here we'll need to pass double indices while accessing them. counting along both the axes starts with 0"
   ]
  },
  {
   "cell_type": "markdown",
   "metadata": {},
   "source": [
    "if we want to extract value -1 from the array created above , we will need to access it with its indices across both the axes. which are 2 and 1"
   ]
  },
  {
   "cell_type": "code",
   "execution_count": 11,
   "metadata": {},
   "outputs": [
    {
     "data": {
      "text/plain": [
       "-1.0"
      ]
     },
     "execution_count": 11,
     "metadata": {},
     "output_type": "execute_result"
    }
   ],
   "source": [
    "b[2,1]"
   ]
  },
  {
   "cell_type": "markdown",
   "metadata": {},
   "source": [
    "For better understanding we can consider the first index to be index of the list where the element is , and second to be its index within that list. Indexing and slicing here works just as it worked for lists , just in two dimensions. lets look at few more examples"
   ]
  },
  {
   "cell_type": "code",
   "execution_count": 12,
   "metadata": {},
   "outputs": [
    {
     "name": "stdout",
     "output_type": "stream",
     "text": [
      "[[  3.   20.   99. ]\n",
      " [-13.    4.5  26. ]\n",
      " [  0.   -1.   20. ]\n",
      " [  5.   78.  -19. ]]\n"
     ]
    },
    {
     "data": {
      "text/plain": [
       "array([20. ,  4.5, -1. , 78. ])"
      ]
     },
     "execution_count": 12,
     "metadata": {},
     "output_type": "execute_result"
    }
   ],
   "source": [
    "print(b)\n",
    "b[:,1]"
   ]
  },
  {
   "cell_type": "markdown",
   "metadata": {},
   "source": [
    "as you can see , this simply gives us 2nd element from all the lists, and this gives us all the elements from the 2nd ist"
   ]
  },
  {
   "cell_type": "code",
   "execution_count": 13,
   "metadata": {},
   "outputs": [
    {
     "data": {
      "text/plain": [
       "array([-13. ,   4.5,  26. ])"
      ]
     },
     "execution_count": 13,
     "metadata": {},
     "output_type": "execute_result"
    }
   ],
   "source": [
    "b[1,:]"
   ]
  },
  {
   "cell_type": "markdown",
   "metadata": {},
   "source": [
    "by default you can access all the elements of a single list in a 2d array by providing a single index as well"
   ]
  },
  {
   "cell_type": "code",
   "execution_count": 15,
   "metadata": {},
   "outputs": [
    {
     "data": {
      "text/plain": [
       "array([[  3. ,  20. ,  99. ],\n",
       "       [-13. ,   4.5,  26. ],\n",
       "       [  0. ,  -1. ,  20. ],\n",
       "       [  5. ,  78. , -19. ]])"
      ]
     },
     "execution_count": 15,
     "metadata": {},
     "output_type": "execute_result"
    }
   ],
   "source": [
    "b[1]\n",
    "b"
   ]
  },
  {
   "cell_type": "markdown",
   "metadata": {},
   "source": [
    "you can pass lists of indices as well to access multiple elements of a 2d array"
   ]
  },
  {
   "cell_type": "code",
   "execution_count": 16,
   "metadata": {},
   "outputs": [
    {
     "data": {
      "text/plain": [
       "array([20. , 26. ,  4.5])"
      ]
     },
     "execution_count": 16,
     "metadata": {},
     "output_type": "execute_result"
    }
   ],
   "source": [
    "b[[0,1,1],[1,2,1]]"
   ]
  },
  {
   "cell_type": "markdown",
   "metadata": {},
   "source": [
    "here elements will come from pairing of indices , (0,1) , (1,2) and (1,1)"
   ]
  },
  {
   "cell_type": "markdown",
   "metadata": {},
   "source": [
    "you can use thin index access for modification as well"
   ]
  },
  {
   "cell_type": "code",
   "execution_count": 17,
   "metadata": {},
   "outputs": [
    {
     "name": "stdout",
     "output_type": "stream",
     "text": [
      "[[  3.   20.   99. ]\n",
      " [-13.    4.5  26. ]\n",
      " [  0.   -1.   20. ]\n",
      " [  5.   78.  -19. ]]\n",
      "[[  3. -10.  99.]\n",
      " [-13. -30. -20.]\n",
      " [  0.  -1.  20.]\n",
      " [  5.  78. -19.]]\n"
     ]
    }
   ],
   "source": [
    "print(b)\n",
    "b[[0,1,1],[1,2,1]]=[-10,-20,-30]\n",
    "print(b)"
   ]
  },
  {
   "cell_type": "markdown",
   "metadata": {},
   "source": [
    "you can see that corresponding elements are now changed to new values "
   ]
  },
  {
   "cell_type": "markdown",
   "metadata": {},
   "source": [
    "you subset an array on the basis of condition also"
   ]
  },
  {
   "cell_type": "code",
   "execution_count": 18,
   "metadata": {},
   "outputs": [
    {
     "data": {
      "text/plain": [
       "array([ 3., 99., 20.,  5., 78.])"
      ]
     },
     "execution_count": 18,
     "metadata": {},
     "output_type": "execute_result"
    }
   ],
   "source": [
    "b[b>0]"
   ]
  },
  {
   "cell_type": "code",
   "execution_count": 19,
   "metadata": {},
   "outputs": [
    {
     "name": "stdout",
     "output_type": "stream",
     "text": [
      "[[  3. -10.  99.]\n",
      " [-13. -30. -20.]\n",
      " [  0.  -1.  20.]\n",
      " [  5.  78. -19.]]\n"
     ]
    }
   ],
   "source": [
    "print(b)"
   ]
  },
  {
   "cell_type": "code",
   "execution_count": 20,
   "metadata": {},
   "outputs": [
    {
     "data": {
      "text/plain": [
       "array([[  3.,  99.],\n",
       "       [-13., -20.],\n",
       "       [  0.,  20.],\n",
       "       [  5., -19.]])"
      ]
     },
     "execution_count": 20,
     "metadata": {},
     "output_type": "execute_result"
    }
   ],
   "source": [
    "b[:,b[2]>=0]"
   ]
  },
  {
   "cell_type": "code",
   "execution_count": null,
   "metadata": {},
   "outputs": [],
   "source": []
  },
  {
   "cell_type": "markdown",
   "metadata": {},
   "source": [
    "keep in mind that applied condition should match in dimension size to which it is being applied if we want to apply it across a single dimension"
   ]
  },
  {
   "cell_type": "code",
   "execution_count": null,
   "metadata": {},
   "outputs": [],
   "source": [
    "b[2]>=0"
   ]
  },
  {
   "cell_type": "markdown",
   "metadata": {},
   "source": [
    "this condition gets applied across all the lists and they have dimension size as 3 "
   ]
  },
  {
   "cell_type": "markdown",
   "metadata": {},
   "source": [
    "if we wanted to apply the condition to first element of each list and then wanted to keep all corresponding elements across lists, we will have to write it like this "
   ]
  },
  {
   "cell_type": "code",
   "execution_count": null,
   "metadata": {},
   "outputs": [],
   "source": [
    "b[:,2]>=0"
   ]
  },
  {
   "cell_type": "code",
   "execution_count": null,
   "metadata": {},
   "outputs": [],
   "source": [
    "print(b)\n",
    "b[b[:,2]>=0,:]"
   ]
  },
  {
   "cell_type": "markdown",
   "metadata": {},
   "source": [
    "If we wanted to apply functions which work on multiple values or across a full dimension instead of single value , we will need to use numpy function instead of math package function because they work on scalars of single values . Lets try using them anyway , lets say we wanted to replace the entire 2nd list ( index =1 ) with its aboslute values."
   ]
  },
  {
   "cell_type": "code",
   "execution_count": null,
   "metadata": {},
   "outputs": [],
   "source": [
    "import math as m\n"
   ]
  },
  {
   "cell_type": "code",
   "execution_count": 21,
   "metadata": {},
   "outputs": [
    {
     "name": "stdout",
     "output_type": "stream",
     "text": [
      "1\n"
     ]
    }
   ],
   "source": [
    "#np.\n",
    "print(np.abs(-1))"
   ]
  },
  {
   "cell_type": "code",
   "execution_count": 22,
   "metadata": {},
   "outputs": [
    {
     "name": "stdout",
     "output_type": "stream",
     "text": [
      "4\n"
     ]
    }
   ],
   "source": [
    "print(np.abs(4))"
   ]
  },
  {
   "cell_type": "code",
   "execution_count": 23,
   "metadata": {},
   "outputs": [
    {
     "name": "stdout",
     "output_type": "stream",
     "text": [
      "[[  3. -10.  99.]\n",
      " [-13. -30. -20.]\n",
      " [  0.  -1.  20.]\n",
      " [  5.  78. -19.]]\n",
      "[[  3. -10.  99.]\n",
      " [ 13.  30.  20.]\n",
      " [  0.  -1.  20.]\n",
      " [  5.  78. -19.]]\n"
     ]
    }
   ],
   "source": [
    "print(b)\n",
    "b[1]=np.abs(b[1])\n",
    "print(b)"
   ]
  },
  {
   "cell_type": "code",
   "execution_count": 25,
   "metadata": {},
   "outputs": [
    {
     "name": "stdout",
     "output_type": "stream",
     "text": [
      "3.0\n"
     ]
    }
   ],
   "source": [
    "print(np.sqrt(9))"
   ]
  },
  {
   "cell_type": "markdown",
   "metadata": {},
   "source": [
    "there are multiple such functions available in numpy you can write np. and then hit tab to show you the list of such functions "
   ]
  },
  {
   "cell_type": "code",
   "execution_count": 24,
   "metadata": {},
   "outputs": [
    {
     "name": "stdout",
     "output_type": "stream",
     "text": [
      "[[  3. -10.  99.]\n",
      " [ 13.  30.  20.]\n",
      " [  0.  -1.  20.]\n",
      " [  5.  78. -19.]]\n",
      "[[  3.         -10.          99.        ]\n",
      " [  3.60555128   5.47722558   4.47213595]\n",
      " [  0.          -1.          20.        ]\n",
      " [  5.          78.         -19.        ]]\n"
     ]
    }
   ],
   "source": [
    "print(b)\n",
    "b[1]=np.sqrt(b[1])\n",
    "print(b)"
   ]
  },
  {
   "cell_type": "markdown",
   "metadata": {},
   "source": [
    "these functions can work across dimensions or multiple values at once "
   ]
  },
  {
   "cell_type": "markdown",
   "metadata": {},
   "source": [
    "to better understand idea of axis labels 0 and 1 , we will look at a function which collapses the array "
   ]
  },
  {
   "cell_type": "code",
   "execution_count": 26,
   "metadata": {},
   "outputs": [
    {
     "data": {
      "text/plain": [
       "188.55491280551524"
      ]
     },
     "execution_count": 26,
     "metadata": {},
     "output_type": "execute_result"
    }
   ],
   "source": [
    "np.sum(b)"
   ]
  },
  {
   "cell_type": "markdown",
   "metadata": {},
   "source": [
    "this simply sums the entire array , now lets instead of this we wanted sum across axis 0 "
   ]
  },
  {
   "cell_type": "code",
   "execution_count": 27,
   "metadata": {},
   "outputs": [
    {
     "name": "stdout",
     "output_type": "stream",
     "text": [
      "[[  3.         -10.          99.        ]\n",
      " [  3.60555128   5.47722558   4.47213595]\n",
      " [  0.          -1.          20.        ]\n",
      " [  5.          78.         -19.        ]]\n"
     ]
    },
    {
     "data": {
      "text/plain": [
       "array([ 11.60555128,  72.47722558, 104.47213595])"
      ]
     },
     "execution_count": 27,
     "metadata": {},
     "output_type": "execute_result"
    }
   ],
   "source": [
    "print(b)\n",
    "np.sum(b,axis=0)"
   ]
  },
  {
   "cell_type": "markdown",
   "metadata": {},
   "source": [
    "axis 0 here corresponds to elements across the lists , axis=1 corresponds to with in the list elements "
   ]
  },
  {
   "cell_type": "code",
   "execution_count": 28,
   "metadata": {},
   "outputs": [
    {
     "name": "stdout",
     "output_type": "stream",
     "text": [
      "[[  3.         -10.          99.        ]\n",
      " [  3.60555128   5.47722558   4.47213595]\n",
      " [  0.          -1.          20.        ]\n",
      " [  5.          78.         -19.        ]]\n"
     ]
    },
    {
     "data": {
      "text/plain": [
       "array([92.        , 13.55491281, 19.        , 64.        ])"
      ]
     },
     "execution_count": 28,
     "metadata": {},
     "output_type": "execute_result"
    }
   ],
   "source": [
    "\n",
    "print(b)\n",
    "np.sum(b,axis=1)"
   ]
  },
  {
   "cell_type": "markdown",
   "metadata": {},
   "source": [
    "As note keep in mind that when we start to work with pandas dataframes which are in a way 2d numpy arrays , each list will correspond to a column in the data. In that respect you can say axis=0 represent rows and axis=1 represent columns of a data frame"
   ]
  },
  {
   "cell_type": "markdown",
   "metadata": {},
   "source": [
    "Next we will look at a small subset of numpy functions which are commonly used a lot , rarely used functions of numpy we will learn about as and when we comes across their specific use cases "
   ]
  },
  {
   "cell_type": "markdown",
   "metadata": {},
   "source": [
    "These functions help in quickly creating special kind of numpy arrays"
   ]
  },
  {
   "cell_type": "code",
   "execution_count": 29,
   "metadata": {},
   "outputs": [
    {
     "data": {
      "text/plain": [
       "array([0, 1, 2, 3, 4, 5])"
      ]
     },
     "execution_count": 29,
     "metadata": {},
     "output_type": "execute_result"
    }
   ],
   "source": [
    "np.arange(6)"
   ]
  },
  {
   "cell_type": "code",
   "execution_count": 30,
   "metadata": {},
   "outputs": [
    {
     "data": {
      "text/plain": [
       "array([2, 3, 4, 5, 6, 7])"
      ]
     },
     "execution_count": 30,
     "metadata": {},
     "output_type": "execute_result"
    }
   ],
   "source": [
    "np.arange(2,8)"
   ]
  },
  {
   "cell_type": "markdown",
   "metadata": {},
   "source": [
    "As you can see arange function can be used to create sequence of integers with increment of 1. For creating a more custom sequence we can use linspace"
   ]
  },
  {
   "cell_type": "code",
   "execution_count": 31,
   "metadata": {},
   "outputs": [
    {
     "data": {
      "text/plain": [
       "array([ 2.        ,  2.57142857,  3.14285714,  3.71428571,  4.28571429,\n",
       "        4.85714286,  5.42857143,  6.        ,  6.57142857,  7.14285714,\n",
       "        7.71428571,  8.28571429,  8.85714286,  9.42857143, 10.        ])"
      ]
     },
     "execution_count": 31,
     "metadata": {},
     "output_type": "execute_result"
    }
   ],
   "source": [
    "np.linspace(start=2,stop=10,num=15)"
   ]
  },
  {
   "cell_type": "markdown",
   "metadata": {},
   "source": [
    "here argument num essentially represent number of elements in sequence , elements in sequence are natuarlly equally spaced ."
   ]
  },
  {
   "cell_type": "markdown",
   "metadata": {},
   "source": [
    "you can also create new arrays by randomly sampling an original array, or simply creating an array with random numbers using random package within numpy"
   ]
  },
  {
   "cell_type": "code",
   "execution_count": 38,
   "metadata": {},
   "outputs": [
    {
     "data": {
      "text/plain": [
       "array([[2, 1, 1],\n",
       "       [8, 3, 5]])"
      ]
     },
     "execution_count": 38,
     "metadata": {},
     "output_type": "execute_result"
    }
   ],
   "source": [
    "np.random.randint(high=10,low=1,size=(2,3))"
   ]
  },
  {
   "cell_type": "code",
   "execution_count": null,
   "metadata": {},
   "outputs": [],
   "source": []
  },
  {
   "cell_type": "code",
   "execution_count": 42,
   "metadata": {},
   "outputs": [
    {
     "data": {
      "text/plain": [
       "array([5, 5])"
      ]
     },
     "execution_count": 42,
     "metadata": {},
     "output_type": "execute_result"
    }
   ],
   "source": [
    "np.random.randint(high=10,low=1,size=(2,))"
   ]
  },
  {
   "cell_type": "code",
   "execution_count": 45,
   "metadata": {},
   "outputs": [
    {
     "data": {
      "text/plain": [
       "array([[0.10535632, 0.10532282, 0.80615313, 0.45266016],\n",
       "       [0.67942575, 0.98873609, 0.79775282, 0.01790276],\n",
       "       [0.36085828, 0.12953704, 0.20855807, 0.26972628]])"
      ]
     },
     "execution_count": 45,
     "metadata": {},
     "output_type": "execute_result"
    }
   ],
   "source": [
    "np.random.random(size=(3,4))"
   ]
  },
  {
   "cell_type": "code",
   "execution_count": 46,
   "metadata": {},
   "outputs": [],
   "source": [
    "x=np.arange(10)"
   ]
  },
  {
   "cell_type": "code",
   "execution_count": 47,
   "metadata": {},
   "outputs": [
    {
     "data": {
      "text/plain": [
       "array([0, 1, 2, 3, 4, 5, 6, 7, 8, 9])"
      ]
     },
     "execution_count": 47,
     "metadata": {},
     "output_type": "execute_result"
    }
   ],
   "source": [
    "x"
   ]
  },
  {
   "cell_type": "code",
   "execution_count": 48,
   "metadata": {},
   "outputs": [
    {
     "data": {
      "text/plain": [
       "array([2, 6, 8, 3, 3, 7])"
      ]
     },
     "execution_count": 48,
     "metadata": {},
     "output_type": "execute_result"
    }
   ],
   "source": [
    "np.random.choice(x,6)"
   ]
  },
  {
   "cell_type": "code",
   "execution_count": 62,
   "metadata": {},
   "outputs": [
    {
     "data": {
      "text/plain": [
       "array([8, 2, 5, 6, 3, 1])"
      ]
     },
     "execution_count": 62,
     "metadata": {},
     "output_type": "execute_result"
    }
   ],
   "source": [
    "np.random.seed(10)\n",
    "np.random.choice(x,6,replace=False)"
   ]
  },
  {
   "cell_type": "code",
   "execution_count": 61,
   "metadata": {},
   "outputs": [
    {
     "name": "stdout",
     "output_type": "stream",
     "text": [
      "['a' 'a' 'a' 'b' 'a' 'b']\n"
     ]
    }
   ],
   "source": [
    "y=np.random.choice(['a','b'],6)\n",
    "print(y)"
   ]
  },
  {
   "cell_type": "code",
   "execution_count": 63,
   "metadata": {},
   "outputs": [
    {
     "name": "stdout",
     "output_type": "stream",
     "text": [
      "['a' 'b' 'b' 'a' 'a' 'b' 'a' 'a' 'a' 'a' 'a' 'b' 'a' 'a' 'b' 'b' 'a' 'a'\n",
      " 'b' 'a' 'a' 'b' 'a' 'a' 'a' 'b' 'b' 'a' 'b' 'b' 'b' 'b' 'b' 'a' 'b' 'a'\n",
      " 'a' 'a' 'a' 'b' 'a' 'b' 'b' 'b' 'a' 'b' 'a' 'b' 'b' 'a' 'b' 'a' 'a' 'b'\n",
      " 'a' 'a' 'a' 'b' 'b' 'a' 'a' 'a' 'b' 'a' 'b' 'b' 'a' 'b' 'b' 'a' 'b' 'a'\n",
      " 'a' 'a' 'a' 'a' 'b' 'a' 'b' 'a' 'a' 'a' 'a' 'a' 'a' 'a' 'b' 'b' 'a' 'b'\n",
      " 'b' 'a' 'a' 'b' 'a' 'a' 'b' 'a' 'a' 'a' 'a' 'a' 'a' 'b' 'b' 'b' 'a' 'a'\n",
      " 'a' 'b' 'b' 'b' 'b' 'a' 'b' 'a' 'b' 'b' 'b' 'a' 'a' 'b' 'b' 'b' 'a' 'a'\n",
      " 'a' 'a' 'a' 'b' 'b' 'b' 'b' 'a' 'b' 'b' 'a' 'a' 'a' 'b' 'a' 'b' 'b' 'a'\n",
      " 'b' 'a' 'a' 'a' 'a' 'b' 'b' 'a' 'a' 'a' 'b' 'b' 'b' 'a' 'a' 'a' 'a' 'a'\n",
      " 'a' 'a' 'a' 'b' 'a' 'b' 'b' 'b' 'a' 'a' 'a' 'b' 'a' 'b' 'a' 'b' 'b' 'b'\n",
      " 'b' 'b' 'b' 'a' 'b' 'b' 'b' 'b' 'b' 'b' 'a' 'a' 'b' 'b' 'a' 'b' 'b' 'b'\n",
      " 'a' 'b' 'a' 'b' 'a' 'a' 'b' 'b' 'a' 'b' 'b' 'b' 'a' 'b' 'b' 'a' 'b' 'b'\n",
      " 'b' 'a' 'b' 'a' 'a' 'b' 'b' 'b' 'b' 'b' 'a' 'a' 'b' 'b' 'a' 'a' 'a' 'a'\n",
      " 'a' 'a' 'a' 'a' 'a' 'a' 'b' 'a' 'b' 'a' 'b' 'a' 'b' 'a' 'b' 'b' 'a' 'b'\n",
      " 'b' 'b' 'a' 'a' 'a' 'a' 'a' 'a' 'a' 'a' 'b' 'a' 'a' 'a' 'b' 'a' 'b' 'a'\n",
      " 'a' 'a' 'a' 'b' 'b' 'b' 'b' 'a' 'b' 'b' 'b' 'b' 'a' 'b' 'b' 'b' 'a' 'a'\n",
      " 'b' 'a' 'a' 'a' 'a' 'a' 'b' 'b' 'a' 'a' 'a' 'b' 'a' 'a' 'b' 'a' 'a' 'a'\n",
      " 'a' 'b' 'a' 'a' 'b' 'b' 'a' 'b' 'b' 'b' 'b' 'b' 'b' 'a' 'a' 'b' 'b' 'b'\n",
      " 'a' 'a' 'a' 'b' 'a' 'b' 'b' 'a' 'b' 'b' 'b' 'b' 'a' 'b' 'a' 'b' 'b' 'a'\n",
      " 'a' 'b' 'a' 'a' 'a' 'a' 'a' 'a' 'b' 'b' 'b' 'b' 'a' 'b' 'a' 'b' 'b' 'a'\n",
      " 'a' 'b' 'b' 'b' 'b' 'a' 'a' 'a' 'b' 'a' 'a' 'b' 'a' 'a' 'a' 'b' 'a' 'b'\n",
      " 'b' 'a' 'a' 'b' 'a' 'a' 'a' 'b' 'b' 'b' 'b' 'a' 'b' 'b' 'a' 'a' 'a' 'b'\n",
      " 'b' 'a' 'b' 'a' 'a' 'b' 'b' 'a' 'b' 'a' 'b' 'a' 'b' 'a' 'b' 'b' 'a' 'b'\n",
      " 'b' 'b' 'a' 'b' 'b' 'a' 'a' 'a' 'a' 'a' 'a' 'a' 'b' 'a' 'b' 'a' 'b' 'a'\n",
      " 'b' 'b' 'b' 'b' 'b' 'a' 'b' 'a' 'b' 'b' 'a' 'a' 'b' 'a' 'a' 'a' 'b' 'b'\n",
      " 'b' 'a' 'b' 'a' 'b' 'b' 'a' 'a' 'b' 'a' 'b' 'a' 'b' 'b' 'b' 'a' 'a' 'b'\n",
      " 'a' 'b' 'b' 'a' 'b' 'a' 'b' 'b' 'a' 'b' 'a' 'b' 'a' 'a' 'b' 'a' 'a' 'a'\n",
      " 'b' 'b' 'a' 'b' 'b' 'a' 'a' 'a' 'a' 'a' 'b' 'a' 'b' 'b' 'a' 'b' 'b' 'b'\n",
      " 'a' 'b' 'b' 'a' 'a' 'b' 'b' 'a' 'a' 'b' 'b' 'b' 'a' 'a' 'a' 'b' 'b' 'a'\n",
      " 'b' 'a' 'b' 'b' 'b' 'a' 'b' 'a' 'a' 'a' 'b' 'a' 'a' 'a' 'a' 'a' 'a' 'b'\n",
      " 'b' 'a' 'a' 'a' 'b' 'a' 'b' 'b' 'b' 'a' 'b' 'a' 'b' 'b' 'a' 'a' 'a' 'b'\n",
      " 'a' 'a' 'b' 'a' 'a' 'a' 'a' 'b' 'a' 'a' 'b' 'b' 'b' 'a' 'a' 'a' 'b' 'b'\n",
      " 'b' 'b' 'a' 'b' 'a' 'b' 'b' 'a' 'a' 'a' 'a' 'b' 'b' 'a' 'b' 'a' 'b' 'b'\n",
      " 'b' 'a' 'b' 'a' 'b' 'a' 'b' 'a' 'a' 'a' 'b' 'a' 'b' 'b' 'b' 'a' 'b' 'a'\n",
      " 'b' 'a' 'b' 'a' 'b' 'b' 'b' 'a' 'a' 'b' 'b' 'a' 'a' 'a' 'a' 'a' 'a' 'a'\n",
      " 'a' 'b' 'b' 'a' 'a' 'a' 'a' 'a' 'a' 'a' 'a' 'a' 'b' 'b' 'a' 'a' 'a' 'b'\n",
      " 'b' 'b' 'b' 'b' 'a' 'a' 'b' 'b' 'b' 'b' 'a' 'b' 'a' 'b' 'b' 'b' 'b' 'b'\n",
      " 'b' 'a' 'a' 'a' 'a' 'a' 'b' 'a' 'a' 'a' 'a' 'a' 'a' 'a' 'b' 'a' 'a' 'a'\n",
      " 'b' 'a' 'b' 'a' 'a' 'a' 'a' 'b' 'b' 'a' 'b' 'a' 'b' 'b' 'b' 'a' 'b' 'a'\n",
      " 'b' 'b' 'a' 'b' 'a' 'a' 'a' 'b' 'a' 'b' 'b' 'b' 'b' 'b' 'a' 'a' 'b' 'b'\n",
      " 'b' 'b' 'a' 'b' 'a' 'a' 'a' 'a' 'b' 'a' 'a' 'a' 'a' 'b' 'b' 'a' 'a' 'a'\n",
      " 'b' 'b' 'b' 'b' 'a' 'b' 'a' 'a' 'b' 'a' 'b' 'b' 'a' 'a' 'b' 'a' 'b' 'b'\n",
      " 'a' 'b' 'b' 'b' 'a' 'b' 'a' 'a' 'b' 'b' 'b' 'a' 'a' 'b' 'b' 'a' 'b' 'a'\n",
      " 'a' 'b' 'b' 'b' 'b' 'b' 'a' 'b' 'b' 'b' 'a' 'a' 'a' 'b' 'b' 'a' 'a' 'a'\n",
      " 'b' 'a' 'b' 'a' 'a' 'a' 'a' 'b' 'a' 'b' 'a' 'a' 'a' 'a' 'b' 'b' 'a' 'b'\n",
      " 'b' 'a' 'b' 'b' 'a' 'b' 'b' 'a' 'b' 'b' 'a' 'b' 'a' 'a' 'b' 'b' 'b' 'a'\n",
      " 'a' 'b' 'a' 'a' 'a' 'a' 'a' 'a' 'b' 'a' 'b' 'a' 'a' 'a' 'b' 'b' 'a' 'b'\n",
      " 'a' 'b' 'b' 'a' 'a' 'b' 'a' 'b' 'a' 'a' 'a' 'a' 'a' 'a' 'b' 'a' 'a' 'a'\n",
      " 'a' 'b' 'b' 'b' 'b' 'b' 'b' 'b' 'b' 'b' 'b' 'b' 'a' 'a' 'a' 'a' 'a' 'a'\n",
      " 'a' 'b' 'a' 'a' 'a' 'a' 'b' 'a' 'a' 'a' 'a' 'b' 'a' 'a' 'a' 'b' 'b' 'b'\n",
      " 'a' 'a' 'b' 'b' 'b' 'b' 'b' 'a' 'a' 'b' 'a' 'a' 'b' 'b' 'a' 'a' 'a' 'b'\n",
      " 'a' 'b' 'b' 'a' 'b' 'a' 'b' 'b' 'b' 'a' 'b' 'a' 'a' 'a' 'b' 'a' 'b' 'a'\n",
      " 'a' 'a' 'a' 'a' 'b' 'a' 'a' 'b' 'a' 'a' 'b' 'a' 'b' 'a' 'a' 'b' 'b' 'b'\n",
      " 'a' 'b' 'b' 'a' 'b' 'b' 'b' 'a' 'a' 'b' 'a' 'a' 'b' 'b' 'b' 'b' 'b' 'b'\n",
      " 'b' 'a' 'a' 'b' 'a' 'a' 'b' 'a' 'b' 'a' 'b' 'a' 'b' 'a' 'b' 'b' 'b' 'b'\n",
      " 'b' 'b' 'b' 'b' 'b' 'b' 'b' 'b' 'b' 'a']\n"
     ]
    }
   ],
   "source": [
    "y=np.random.choice(['a','b'],1000)\n",
    "print(y)"
   ]
  },
  {
   "cell_type": "code",
   "execution_count": 64,
   "metadata": {},
   "outputs": [
    {
     "data": {
      "text/plain": [
       "(array(['a', 'b'], dtype='<U1'), array([517, 483]))"
      ]
     },
     "execution_count": 64,
     "metadata": {},
     "output_type": "execute_result"
    }
   ],
   "source": [
    "np.unique(y,return_counts=True)"
   ]
  },
  {
   "cell_type": "markdown",
   "metadata": {},
   "source": [
    "by default here both a and b get picked with almost equal probability in the random sample. Although this doesnt mean that individual values are not random , but overall percentage of a and b remains almost same. We can force approx probability structure by using option p"
   ]
  },
  {
   "cell_type": "code",
   "execution_count": 65,
   "metadata": {},
   "outputs": [
    {
     "name": "stdout",
     "output_type": "stream",
     "text": [
      "['b' 'a' 'a' 'a' 'a' 'b' 'b' 'a' 'b' 'b' 'a' 'a' 'b' 'a' 'a' 'a' 'b' 'b'\n",
      " 'a' 'b' 'a' 'a' 'a' 'a' 'a' 'a' 'a' 'a' 'a' 'a' 'a' 'a' 'a' 'a' 'b' 'a'\n",
      " 'a' 'a' 'a' 'a' 'a' 'a' 'a' 'a' 'a' 'b' 'b' 'a' 'a' 'b' 'a' 'a' 'a' 'a'\n",
      " 'a' 'a' 'b' 'a' 'a' 'a' 'b' 'a' 'a' 'a' 'a' 'a' 'a' 'a' 'a' 'a' 'a' 'b'\n",
      " 'a' 'a' 'a' 'a' 'a' 'a' 'a' 'a' 'a' 'a' 'a' 'a' 'a' 'a' 'a' 'a' 'a' 'a'\n",
      " 'a' 'a' 'a' 'a' 'a' 'a' 'b' 'a' 'a' 'a' 'a' 'b' 'a' 'b' 'a' 'a' 'a' 'a'\n",
      " 'a' 'a' 'b' 'a' 'b' 'a' 'b' 'b' 'a' 'a' 'a' 'b' 'a' 'a' 'a' 'a' 'a' 'a'\n",
      " 'a' 'a' 'a' 'b' 'b' 'b' 'a' 'a' 'a' 'a' 'a' 'a' 'a' 'a' 'b' 'a' 'a' 'b'\n",
      " 'a' 'a' 'b' 'a' 'a' 'a' 'a' 'a' 'a' 'a' 'a' 'a' 'a' 'a' 'a' 'b' 'b' 'b'\n",
      " 'a' 'a' 'a' 'b' 'b' 'a' 'a' 'b' 'a' 'b' 'a' 'a' 'a' 'a' 'a' 'a' 'b' 'b'\n",
      " 'b' 'b' 'a' 'a' 'a' 'b' 'b' 'a' 'b' 'a' 'a' 'a' 'a' 'a' 'a' 'a' 'a' 'a'\n",
      " 'b' 'a' 'a' 'a' 'b' 'a' 'a' 'a' 'a' 'b' 'a' 'a' 'a' 'a' 'a' 'a' 'a' 'a'\n",
      " 'a' 'a' 'a' 'a' 'a' 'a' 'a' 'a' 'a' 'a' 'a' 'a' 'a' 'a' 'a' 'a' 'a' 'b'\n",
      " 'a' 'a' 'a' 'b' 'a' 'a' 'a' 'a' 'b' 'a' 'a' 'a' 'b' 'a' 'a' 'b' 'a' 'a'\n",
      " 'a' 'a' 'a' 'b' 'a' 'a' 'b' 'a' 'a' 'a' 'a' 'a' 'b' 'a' 'a' 'a' 'a' 'b'\n",
      " 'a' 'a' 'b' 'b' 'a' 'a' 'b' 'a' 'a' 'a' 'b' 'b' 'a' 'a' 'a' 'a' 'a' 'a'\n",
      " 'a' 'a' 'b' 'a' 'a' 'a' 'b' 'a' 'a' 'a' 'a' 'a' 'b' 'b' 'a' 'a' 'a' 'a'\n",
      " 'a' 'a' 'a' 'a' 'b' 'b' 'a' 'b' 'a' 'b' 'a' 'b' 'a' 'b' 'a' 'a' 'a' 'b'\n",
      " 'a' 'a' 'a' 'b' 'a' 'a' 'b' 'a' 'a' 'a' 'a' 'a' 'a' 'a' 'a' 'b' 'a' 'a'\n",
      " 'a' 'a' 'a' 'a' 'a' 'a' 'a' 'b' 'b' 'a' 'b' 'a' 'a' 'a' 'b' 'b' 'b' 'a'\n",
      " 'a' 'a' 'a' 'a' 'b' 'a' 'a' 'b' 'a' 'a' 'a' 'a' 'a' 'a' 'a' 'a' 'a' 'b'\n",
      " 'a' 'b' 'a' 'a' 'a' 'a' 'a' 'a' 'a' 'a' 'a' 'a' 'b' 'a' 'b' 'a' 'a' 'a'\n",
      " 'a' 'a' 'b' 'a' 'a' 'a' 'a' 'a' 'a' 'b' 'b' 'b' 'a' 'b' 'a' 'a' 'a' 'b'\n",
      " 'b' 'a' 'a' 'a' 'b' 'b' 'a' 'a' 'a' 'a' 'a' 'a' 'a' 'a' 'b' 'a' 'a' 'b'\n",
      " 'b' 'a' 'a' 'a' 'a' 'a' 'a' 'a' 'a' 'a' 'a' 'a' 'a' 'a' 'a' 'b' 'a' 'a'\n",
      " 'a' 'a' 'b' 'a' 'a' 'a' 'a' 'a' 'a' 'a' 'a' 'a' 'a' 'a' 'a' 'a' 'a' 'b'\n",
      " 'a' 'a' 'a' 'a' 'a' 'a' 'a' 'a' 'a' 'a' 'a' 'b' 'a' 'b' 'a' 'a' 'a' 'a'\n",
      " 'a' 'a' 'a' 'a' 'a' 'a' 'a' 'a' 'a' 'a' 'b' 'a' 'a' 'a' 'a' 'b' 'a' 'a'\n",
      " 'a' 'b' 'a' 'a' 'b' 'a' 'a' 'a' 'a' 'b' 'a' 'a' 'a' 'a' 'a' 'a' 'a' 'a'\n",
      " 'a' 'a' 'a' 'a' 'a' 'a' 'a' 'b' 'a' 'a' 'b' 'a' 'a' 'a' 'a' 'a' 'a' 'a'\n",
      " 'a' 'a' 'a' 'a' 'b' 'a' 'a' 'a' 'b' 'a' 'b' 'a' 'a' 'a' 'b' 'a' 'b' 'a'\n",
      " 'a' 'a' 'b' 'b' 'a' 'a' 'a' 'a' 'b' 'b' 'b' 'a' 'a' 'a' 'a' 'a' 'a' 'b'\n",
      " 'a' 'b' 'b' 'a' 'b' 'a' 'a' 'a' 'a' 'a' 'b' 'a' 'a' 'b' 'b' 'a' 'a' 'a'\n",
      " 'a' 'a' 'a' 'a' 'a' 'b' 'a' 'a' 'a' 'a' 'a' 'b' 'b' 'b' 'a' 'a' 'a' 'b'\n",
      " 'a' 'a' 'a' 'a' 'a' 'b' 'a' 'a' 'a' 'a' 'a' 'a' 'b' 'a' 'a' 'a' 'b' 'a'\n",
      " 'a' 'a' 'b' 'a' 'a' 'a' 'b' 'a' 'a' 'b' 'a' 'a' 'a' 'a' 'a' 'a' 'a' 'a'\n",
      " 'b' 'b' 'b' 'a' 'a' 'a' 'a' 'a' 'a' 'a' 'a' 'b' 'a' 'b' 'b' 'a' 'b' 'a'\n",
      " 'a' 'a' 'a' 'b' 'a' 'a' 'a' 'a' 'a' 'a' 'a' 'a' 'b' 'b' 'a' 'a' 'a' 'b'\n",
      " 'a' 'a' 'a' 'a' 'b' 'a' 'a' 'a' 'b' 'a' 'a' 'a' 'a' 'b' 'a' 'a' 'a' 'a'\n",
      " 'a' 'a' 'a' 'a' 'a' 'a' 'a' 'b' 'a' 'b' 'a' 'a' 'a' 'a' 'a' 'a' 'a' 'a'\n",
      " 'a' 'a' 'a' 'a' 'b' 'a' 'a' 'b' 'a' 'b' 'a' 'a' 'b' 'b' 'b' 'a' 'a' 'a'\n",
      " 'a' 'a' 'a' 'a' 'a' 'a' 'a' 'b' 'b' 'a' 'b' 'a' 'a' 'a' 'a' 'a' 'a' 'b'\n",
      " 'a' 'b' 'a' 'a' 'a' 'a' 'a' 'b' 'a' 'a' 'a' 'b' 'a' 'a' 'a' 'a' 'a' 'b'\n",
      " 'b' 'a' 'a' 'a' 'a' 'a' 'a' 'b' 'a' 'b' 'a' 'a' 'a' 'b' 'a' 'a' 'a' 'b'\n",
      " 'a' 'b' 'a' 'a' 'a' 'b' 'a' 'a' 'b' 'a' 'a' 'a' 'a' 'a' 'a' 'a' 'a' 'a'\n",
      " 'b' 'a' 'b' 'a' 'b' 'a' 'a' 'a' 'a' 'a' 'a' 'a' 'a' 'a' 'a' 'a' 'a' 'a'\n",
      " 'a' 'a' 'a' 'a' 'a' 'a' 'a' 'a' 'a' 'b' 'a' 'a' 'a' 'b' 'a' 'a' 'a' 'a'\n",
      " 'b' 'a' 'a' 'b' 'a' 'a' 'a' 'a' 'a' 'a' 'b' 'a' 'a' 'a' 'b' 'a' 'a' 'a'\n",
      " 'a' 'a' 'a' 'a' 'a' 'a' 'a' 'a' 'a' 'b' 'b' 'a' 'a' 'b' 'b' 'b' 'a' 'b'\n",
      " 'a' 'a' 'a' 'a' 'a' 'a' 'a' 'a' 'b' 'a' 'a' 'a' 'b' 'b' 'a' 'a' 'a' 'a'\n",
      " 'a' 'a' 'a' 'b' 'a' 'a' 'b' 'b' 'a' 'a' 'a' 'a' 'a' 'b' 'a' 'a' 'b' 'a'\n",
      " 'a' 'a' 'b' 'a' 'a' 'a' 'a' 'a' 'b' 'a' 'a' 'a' 'b' 'a' 'a' 'a' 'a' 'a'\n",
      " 'a' 'b' 'a' 'a' 'a' 'a' 'a' 'a' 'b' 'b' 'a' 'b' 'a' 'a' 'b' 'a' 'a' 'a'\n",
      " 'a' 'a' 'a' 'b' 'a' 'a' 'a' 'a' 'a' 'a' 'a' 'a' 'a' 'b' 'a' 'a' 'a' 'a'\n",
      " 'a' 'a' 'a' 'b' 'a' 'a' 'a' 'b' 'b' 'a' 'a' 'a' 'a' 'a' 'a' 'b' 'a' 'a'\n",
      " 'a' 'a' 'a' 'a' 'a' 'a' 'a' 'a' 'a' 'b']\n"
     ]
    }
   ],
   "source": [
    "y=np.random.choice(['a','b'],1000,p=[0.8,0.2])\n",
    "print(y)"
   ]
  },
  {
   "cell_type": "code",
   "execution_count": 66,
   "metadata": {},
   "outputs": [
    {
     "data": {
      "text/plain": [
       "(array(['a', 'b'], dtype='<U1'), array([785, 215]))"
      ]
     },
     "execution_count": 66,
     "metadata": {},
     "output_type": "execute_result"
    }
   ],
   "source": [
    "np.unique(y,return_counts=True)"
   ]
  },
  {
   "cell_type": "markdown",
   "metadata": {},
   "source": [
    "Another useful function is for sorting "
   ]
  },
  {
   "cell_type": "code",
   "execution_count": 67,
   "metadata": {},
   "outputs": [
    {
     "name": "stdout",
     "output_type": "stream",
     "text": [
      "[36 19 67 70 24 41 47 90 78 84 24 26 87 15 24]\n"
     ]
    }
   ],
   "source": [
    "x=np.random.randint(high=100,low=12,size=(15,))\n",
    "print(x)"
   ]
  },
  {
   "cell_type": "code",
   "execution_count": 68,
   "metadata": {},
   "outputs": [],
   "source": [
    "x.sort()"
   ]
  },
  {
   "cell_type": "code",
   "execution_count": 70,
   "metadata": {},
   "outputs": [
    {
     "name": "stdout",
     "output_type": "stream",
     "text": [
      "[52 56 95 84 93 43 39 69 82 32 75 13 83 17 62]\n"
     ]
    }
   ],
   "source": [
    "x=np.random.randint(high=100,low=12,size=(15))\n",
    "print(x)"
   ]
  },
  {
   "cell_type": "code",
   "execution_count": 69,
   "metadata": {},
   "outputs": [
    {
     "data": {
      "text/plain": [
       "array([15, 19, 24, 24, 24, 26, 36, 41, 47, 67, 70, 78, 84, 87, 90])"
      ]
     },
     "execution_count": 69,
     "metadata": {},
     "output_type": "execute_result"
    }
   ],
   "source": [
    "x"
   ]
  },
  {
   "cell_type": "markdown",
   "metadata": {},
   "source": [
    "Now lets look at sorting 2darrays "
   ]
  },
  {
   "cell_type": "code",
   "execution_count": 71,
   "metadata": {},
   "outputs": [],
   "source": [
    "x=np.random.randint(high=100,low=12,size=(4,6))"
   ]
  },
  {
   "cell_type": "code",
   "execution_count": 72,
   "metadata": {},
   "outputs": [
    {
     "data": {
      "text/plain": [
       "array([[75, 28, 76, 71, 57, 27],\n",
       "       [54, 75, 47, 58, 29, 13],\n",
       "       [23, 83, 98, 53, 28, 87],\n",
       "       [57, 54, 50, 30, 96, 39]])"
      ]
     },
     "execution_count": 72,
     "metadata": {},
     "output_type": "execute_result"
    }
   ],
   "source": [
    "x"
   ]
  },
  {
   "cell_type": "markdown",
   "metadata": {},
   "source": [
    "if you simply sort it sorts each individual array without mainting any order "
   ]
  },
  {
   "cell_type": "code",
   "execution_count": 73,
   "metadata": {},
   "outputs": [],
   "source": [
    "x.sort()"
   ]
  },
  {
   "cell_type": "code",
   "execution_count": 74,
   "metadata": {},
   "outputs": [
    {
     "data": {
      "text/plain": [
       "array([[27, 28, 57, 71, 75, 76],\n",
       "       [13, 29, 47, 54, 58, 75],\n",
       "       [23, 28, 53, 83, 87, 98],\n",
       "       [30, 39, 50, 54, 57, 96]])"
      ]
     },
     "execution_count": 74,
     "metadata": {},
     "output_type": "execute_result"
    }
   ],
   "source": [
    "x"
   ]
  },
  {
   "cell_type": "code",
   "execution_count": null,
   "metadata": {},
   "outputs": [],
   "source": [
    "x=np.random.randint(high=100,low=12,size=(4,6))\n",
    "x"
   ]
  },
  {
   "cell_type": "markdown",
   "metadata": {},
   "source": [
    "For maintaining order along either of the axis what we can do is that we can extract indices of the sorted values and reorder original array with , here is what i mean"
   ]
  },
  {
   "cell_type": "code",
   "execution_count": 76,
   "metadata": {},
   "outputs": [
    {
     "data": {
      "text/plain": [
       "array([57, 47, 53, 50])"
      ]
     },
     "execution_count": 76,
     "metadata": {},
     "output_type": "execute_result"
    }
   ],
   "source": [
    "x[:,2]"
   ]
  },
  {
   "cell_type": "markdown",
   "metadata": {},
   "source": [
    "these are the 3rd elements of all arrays , lets i want to sort my 2darray by these and other values should move with them maintaining correspondence"
   ]
  },
  {
   "cell_type": "code",
   "execution_count": 77,
   "metadata": {},
   "outputs": [
    {
     "data": {
      "text/plain": [
       "array([1, 3, 2, 0])"
      ]
     },
     "execution_count": 77,
     "metadata": {},
     "output_type": "execute_result"
    }
   ],
   "source": [
    "\n",
    "x[:,2].argsort()"
   ]
  },
  {
   "cell_type": "markdown",
   "metadata": {},
   "source": [
    "what argsort does is that it gives indices of sorted elements , now we can arrange the list along another axes using the result of argsort like this "
   ]
  },
  {
   "cell_type": "code",
   "execution_count": 78,
   "metadata": {},
   "outputs": [
    {
     "data": {
      "text/plain": [
       "array([[13, 29, 47, 54, 58, 75],\n",
       "       [30, 39, 50, 54, 57, 96],\n",
       "       [23, 28, 53, 83, 87, 98],\n",
       "       [27, 28, 57, 71, 75, 76]])"
      ]
     },
     "execution_count": 78,
     "metadata": {},
     "output_type": "execute_result"
    }
   ],
   "source": [
    "x[x[:,2].argsort(),:]"
   ]
  },
  {
   "cell_type": "markdown",
   "metadata": {},
   "source": [
    "you can see that correspondence doesnt break here"
   ]
  },
  {
   "cell_type": "markdown",
   "metadata": {},
   "source": [
    "similar to sort and argsort , another use ful combination at times is max and argmax and its counterparts min and argmin"
   ]
  },
  {
   "cell_type": "code",
   "execution_count": 79,
   "metadata": {},
   "outputs": [],
   "source": [
    "x=np.random.randint(high=100,low=12,size=(15,))"
   ]
  },
  {
   "cell_type": "code",
   "execution_count": 80,
   "metadata": {},
   "outputs": [
    {
     "data": {
      "text/plain": [
       "array([30, 70, 26, 63, 46, 57, 29, 37, 87, 30, 60, 54, 67, 83, 15])"
      ]
     },
     "execution_count": 80,
     "metadata": {},
     "output_type": "execute_result"
    }
   ],
   "source": [
    "x"
   ]
  },
  {
   "cell_type": "code",
   "execution_count": 83,
   "metadata": {},
   "outputs": [
    {
     "data": {
      "text/plain": [
       "(87, 15)"
      ]
     },
     "execution_count": 83,
     "metadata": {},
     "output_type": "execute_result"
    }
   ],
   "source": [
    "x.max(), x.min()"
   ]
  },
  {
   "cell_type": "code",
   "execution_count": 84,
   "metadata": {},
   "outputs": [
    {
     "data": {
      "text/plain": [
       "(8, 14)"
      ]
     },
     "execution_count": 84,
     "metadata": {},
     "output_type": "execute_result"
    }
   ],
   "source": [
    "x.argmax(),x.argmin()"
   ]
  },
  {
   "cell_type": "markdown",
   "metadata": {},
   "source": [
    "We will stop our discussion on numpy , other numpy related functions which are not as often used will be discussed as and when we come across their use case. In the next video we will start with pandas , the go to package for handling datasets in python. see you in the next video"
   ]
  }
 ],
 "metadata": {
  "kernelspec": {
   "display_name": "Python 3",
   "language": "python",
   "name": "python3"
  },
  "language_info": {
   "codemirror_mode": {
    "name": "ipython",
    "version": 3
   },
   "file_extension": ".py",
   "mimetype": "text/x-python",
   "name": "python",
   "nbconvert_exporter": "python",
   "pygments_lexer": "ipython3",
   "version": "3.7.4"
  }
 },
 "nbformat": 4,
 "nbformat_minor": 4
}
