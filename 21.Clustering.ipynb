{
 "cells": [
  {
   "cell_type": "code",
   "execution_count": 26,
   "metadata": {},
   "outputs": [],
   "source": [
    "myfile=r'/Users/ed/Dropbox/Python/Dataset/Data/Data/winequality-white.csv'\n",
    "\n",
    "import pandas as pd\n",
    "from sklearn.preprocessing import scale\n",
    "from sklearn.cluster import KMeans\n",
    "from sklearn.metrics import  silhouette_score\n",
    "\n",
    "import matplotlib.pyplot as plt\n",
    "import numpy as np\n",
    "\n",
    "%matplotlib inline\n",
    "\n",
    "wine=pd.read_csv(myfile,sep=\";\")"
   ]
  },
  {
   "cell_type": "code",
   "execution_count": 27,
   "metadata": {},
   "outputs": [],
   "source": [
    "wine=wine[[\"sulphates\",\"alcohol\"]]"
   ]
  },
  {
   "cell_type": "code",
   "execution_count": 28,
   "metadata": {},
   "outputs": [
    {
     "data": {
      "text/html": [
       "<div>\n",
       "<style scoped>\n",
       "    .dataframe tbody tr th:only-of-type {\n",
       "        vertical-align: middle;\n",
       "    }\n",
       "\n",
       "    .dataframe tbody tr th {\n",
       "        vertical-align: top;\n",
       "    }\n",
       "\n",
       "    .dataframe thead th {\n",
       "        text-align: right;\n",
       "    }\n",
       "</style>\n",
       "<table border=\"1\" class=\"dataframe\">\n",
       "  <thead>\n",
       "    <tr style=\"text-align: right;\">\n",
       "      <th></th>\n",
       "      <th>sulphates</th>\n",
       "      <th>alcohol</th>\n",
       "    </tr>\n",
       "  </thead>\n",
       "  <tbody>\n",
       "    <tr>\n",
       "      <th>0</th>\n",
       "      <td>0.45</td>\n",
       "      <td>8.8</td>\n",
       "    </tr>\n",
       "    <tr>\n",
       "      <th>1</th>\n",
       "      <td>0.49</td>\n",
       "      <td>9.5</td>\n",
       "    </tr>\n",
       "    <tr>\n",
       "      <th>2</th>\n",
       "      <td>0.44</td>\n",
       "      <td>10.1</td>\n",
       "    </tr>\n",
       "    <tr>\n",
       "      <th>3</th>\n",
       "      <td>0.40</td>\n",
       "      <td>9.9</td>\n",
       "    </tr>\n",
       "    <tr>\n",
       "      <th>4</th>\n",
       "      <td>0.40</td>\n",
       "      <td>9.9</td>\n",
       "    </tr>\n",
       "  </tbody>\n",
       "</table>\n",
       "</div>"
      ],
      "text/plain": [
       "   sulphates  alcohol\n",
       "0       0.45      8.8\n",
       "1       0.49      9.5\n",
       "2       0.44     10.1\n",
       "3       0.40      9.9\n",
       "4       0.40      9.9"
      ]
     },
     "execution_count": 28,
     "metadata": {},
     "output_type": "execute_result"
    }
   ],
   "source": [
    "wine.head()"
   ]
  },
  {
   "cell_type": "code",
   "execution_count": 29,
   "metadata": {},
   "outputs": [
    {
     "data": {
      "text/html": [
       "<div>\n",
       "<style scoped>\n",
       "    .dataframe tbody tr th:only-of-type {\n",
       "        vertical-align: middle;\n",
       "    }\n",
       "\n",
       "    .dataframe tbody tr th {\n",
       "        vertical-align: top;\n",
       "    }\n",
       "\n",
       "    .dataframe thead th {\n",
       "        text-align: right;\n",
       "    }\n",
       "</style>\n",
       "<table border=\"1\" class=\"dataframe\">\n",
       "  <thead>\n",
       "    <tr style=\"text-align: right;\">\n",
       "      <th></th>\n",
       "      <th>sulphates</th>\n",
       "      <th>alcohol</th>\n",
       "    </tr>\n",
       "  </thead>\n",
       "  <tbody>\n",
       "    <tr>\n",
       "      <th>count</th>\n",
       "      <td>4898.000000</td>\n",
       "      <td>4898.000000</td>\n",
       "    </tr>\n",
       "    <tr>\n",
       "      <th>mean</th>\n",
       "      <td>0.489847</td>\n",
       "      <td>10.514267</td>\n",
       "    </tr>\n",
       "    <tr>\n",
       "      <th>std</th>\n",
       "      <td>0.114126</td>\n",
       "      <td>1.230621</td>\n",
       "    </tr>\n",
       "    <tr>\n",
       "      <th>min</th>\n",
       "      <td>0.220000</td>\n",
       "      <td>8.000000</td>\n",
       "    </tr>\n",
       "    <tr>\n",
       "      <th>25%</th>\n",
       "      <td>0.410000</td>\n",
       "      <td>9.500000</td>\n",
       "    </tr>\n",
       "    <tr>\n",
       "      <th>50%</th>\n",
       "      <td>0.470000</td>\n",
       "      <td>10.400000</td>\n",
       "    </tr>\n",
       "    <tr>\n",
       "      <th>75%</th>\n",
       "      <td>0.550000</td>\n",
       "      <td>11.400000</td>\n",
       "    </tr>\n",
       "    <tr>\n",
       "      <th>max</th>\n",
       "      <td>1.080000</td>\n",
       "      <td>14.200000</td>\n",
       "    </tr>\n",
       "  </tbody>\n",
       "</table>\n",
       "</div>"
      ],
      "text/plain": [
       "         sulphates      alcohol\n",
       "count  4898.000000  4898.000000\n",
       "mean      0.489847    10.514267\n",
       "std       0.114126     1.230621\n",
       "min       0.220000     8.000000\n",
       "25%       0.410000     9.500000\n",
       "50%       0.470000    10.400000\n",
       "75%       0.550000    11.400000\n",
       "max       1.080000    14.200000"
      ]
     },
     "execution_count": 29,
     "metadata": {},
     "output_type": "execute_result"
    }
   ],
   "source": [
    "wine.describe()"
   ]
  },
  {
   "cell_type": "code",
   "execution_count": 30,
   "metadata": {},
   "outputs": [],
   "source": [
    "wine_std=pd.DataFrame(scale(wine),\n",
    "                      columns=list(wine.columns))"
   ]
  },
  {
   "cell_type": "code",
   "execution_count": 31,
   "metadata": {},
   "outputs": [
    {
     "data": {
      "text/html": [
       "<div>\n",
       "<style scoped>\n",
       "    .dataframe tbody tr th:only-of-type {\n",
       "        vertical-align: middle;\n",
       "    }\n",
       "\n",
       "    .dataframe tbody tr th {\n",
       "        vertical-align: top;\n",
       "    }\n",
       "\n",
       "    .dataframe thead th {\n",
       "        text-align: right;\n",
       "    }\n",
       "</style>\n",
       "<table border=\"1\" class=\"dataframe\">\n",
       "  <thead>\n",
       "    <tr style=\"text-align: right;\">\n",
       "      <th></th>\n",
       "      <th>sulphates</th>\n",
       "      <th>alcohol</th>\n",
       "    </tr>\n",
       "  </thead>\n",
       "  <tbody>\n",
       "    <tr>\n",
       "      <th>count</th>\n",
       "      <td>4.898000e+03</td>\n",
       "      <td>4.898000e+03</td>\n",
       "    </tr>\n",
       "    <tr>\n",
       "      <th>mean</th>\n",
       "      <td>-7.572999e-16</td>\n",
       "      <td>-2.178784e-15</td>\n",
       "    </tr>\n",
       "    <tr>\n",
       "      <th>std</th>\n",
       "      <td>1.000102e+00</td>\n",
       "      <td>1.000102e+00</td>\n",
       "    </tr>\n",
       "    <tr>\n",
       "      <th>min</th>\n",
       "      <td>-2.364709e+00</td>\n",
       "      <td>-2.043297e+00</td>\n",
       "    </tr>\n",
       "    <tr>\n",
       "      <th>25%</th>\n",
       "      <td>-6.997104e-01</td>\n",
       "      <td>-8.242757e-01</td>\n",
       "    </tr>\n",
       "    <tr>\n",
       "      <th>50%</th>\n",
       "      <td>-1.739212e-01</td>\n",
       "      <td>-9.286267e-02</td>\n",
       "    </tr>\n",
       "    <tr>\n",
       "      <th>75%</th>\n",
       "      <td>5.271310e-01</td>\n",
       "      <td>7.198184e-01</td>\n",
       "    </tr>\n",
       "    <tr>\n",
       "      <th>max</th>\n",
       "      <td>5.171602e+00</td>\n",
       "      <td>2.995326e+00</td>\n",
       "    </tr>\n",
       "  </tbody>\n",
       "</table>\n",
       "</div>"
      ],
      "text/plain": [
       "          sulphates       alcohol\n",
       "count  4.898000e+03  4.898000e+03\n",
       "mean  -7.572999e-16 -2.178784e-15\n",
       "std    1.000102e+00  1.000102e+00\n",
       "min   -2.364709e+00 -2.043297e+00\n",
       "25%   -6.997104e-01 -8.242757e-01\n",
       "50%   -1.739212e-01 -9.286267e-02\n",
       "75%    5.271310e-01  7.198184e-01\n",
       "max    5.171602e+00  2.995326e+00"
      ]
     },
     "execution_count": 31,
     "metadata": {},
     "output_type": "execute_result"
    }
   ],
   "source": [
    "wine_std.describe()"
   ]
  },
  {
   "cell_type": "code",
   "execution_count": 33,
   "metadata": {},
   "outputs": [],
   "source": [
    "range_n_clusters = [2, 3, 4, 5, 6,7,8,9]"
   ]
  },
  {
   "cell_type": "code",
   "execution_count": 34,
   "metadata": {},
   "outputs": [
    {
     "name": "stdout",
     "output_type": "stream",
     "text": [
      "2 0.3739606160278498\n",
      "3 0.4108733144046192\n",
      "4 0.3807889880138742\n",
      "5 0.33457661751536383\n",
      "6 0.3511329909762325\n",
      "7 0.3527609066409706\n",
      "8 0.35406429913010123\n",
      "9 0.35041397914530015\n"
     ]
    }
   ],
   "source": [
    "for k in range_n_clusters:\n",
    "    kmeans=KMeans(n_clusters=k)\n",
    "    kmeans.fit(wine_std)\n",
    "    \n",
    "    print(k,silhouette_score(wine_std,kmeans.labels_))"
   ]
  },
  {
   "cell_type": "code",
   "execution_count": 44,
   "metadata": {},
   "outputs": [
    {
     "data": {
      "text/plain": [
       "KMeans(algorithm='auto', copy_x=True, init='k-means++', max_iter=300,\n",
       "       n_clusters=4, n_init=10, n_jobs=None, precompute_distances='auto',\n",
       "       random_state=None, tol=0.0001, verbose=0)"
      ]
     },
     "execution_count": 44,
     "metadata": {},
     "output_type": "execute_result"
    }
   ],
   "source": [
    "k = 3\n",
    "kmeans = KMeans(n_clusters=k)\n",
    "kmeans.fit(wine_std)"
   ]
  },
  {
   "cell_type": "code",
   "execution_count": 45,
   "metadata": {},
   "outputs": [
    {
     "data": {
      "text/plain": [
       "array([1, 1, 1, ..., 1, 2, 2], dtype=int32)"
      ]
     },
     "execution_count": 45,
     "metadata": {},
     "output_type": "execute_result"
    }
   ],
   "source": [
    "kmeans.labels_"
   ]
  },
  {
   "cell_type": "code",
   "execution_count": 46,
   "metadata": {},
   "outputs": [],
   "source": [
    "labels = kmeans.labels_\n",
    "wine[\"cluster\"]=labels"
   ]
  },
  {
   "cell_type": "code",
   "execution_count": 47,
   "metadata": {},
   "outputs": [
    {
     "data": {
      "text/plain": [
       "1    1923\n",
       "2    1376\n",
       "0    1205\n",
       "3     394\n",
       "Name: cluster, dtype: int64"
      ]
     },
     "execution_count": 47,
     "metadata": {},
     "output_type": "execute_result"
    }
   ],
   "source": [
    "wine['cluster'].value_counts()"
   ]
  },
  {
   "cell_type": "code",
   "execution_count": 48,
   "metadata": {},
   "outputs": [
    {
     "data": {
      "text/html": [
       "<div>\n",
       "<style scoped>\n",
       "    .dataframe tbody tr th:only-of-type {\n",
       "        vertical-align: middle;\n",
       "    }\n",
       "\n",
       "    .dataframe tbody tr th {\n",
       "        vertical-align: top;\n",
       "    }\n",
       "\n",
       "    .dataframe thead th {\n",
       "        text-align: right;\n",
       "    }\n",
       "</style>\n",
       "<table border=\"1\" class=\"dataframe\">\n",
       "  <thead>\n",
       "    <tr style=\"text-align: right;\">\n",
       "      <th></th>\n",
       "      <th>sulphates</th>\n",
       "      <th>alcohol</th>\n",
       "    </tr>\n",
       "    <tr>\n",
       "      <th>cluster</th>\n",
       "      <th></th>\n",
       "      <th></th>\n",
       "    </tr>\n",
       "  </thead>\n",
       "  <tbody>\n",
       "    <tr>\n",
       "      <th>0</th>\n",
       "      <td>0.591693</td>\n",
       "      <td>10.123994</td>\n",
       "    </tr>\n",
       "    <tr>\n",
       "      <th>1</th>\n",
       "      <td>0.439163</td>\n",
       "      <td>9.525654</td>\n",
       "    </tr>\n",
       "    <tr>\n",
       "      <th>2</th>\n",
       "      <td>0.413365</td>\n",
       "      <td>11.826163</td>\n",
       "    </tr>\n",
       "    <tr>\n",
       "      <th>3</th>\n",
       "      <td>0.692843</td>\n",
       "      <td>11.951354</td>\n",
       "    </tr>\n",
       "  </tbody>\n",
       "</table>\n",
       "</div>"
      ],
      "text/plain": [
       "         sulphates    alcohol\n",
       "cluster                      \n",
       "0         0.591693  10.123994\n",
       "1         0.439163   9.525654\n",
       "2         0.413365  11.826163\n",
       "3         0.692843  11.951354"
      ]
     },
     "execution_count": 48,
     "metadata": {},
     "output_type": "execute_result"
    }
   ],
   "source": [
    "wine.groupby(['cluster']).mean()"
   ]
  },
  {
   "cell_type": "code",
   "execution_count": 49,
   "metadata": {},
   "outputs": [],
   "source": [
    "import seaborn as sns"
   ]
  },
  {
   "cell_type": "code",
   "execution_count": 50,
   "metadata": {},
   "outputs": [],
   "source": [
    "%matplotlib inline"
   ]
  },
  {
   "cell_type": "code",
   "execution_count": 51,
   "metadata": {},
   "outputs": [
    {
     "data": {
      "text/plain": [
       "<seaborn.axisgrid.FacetGrid at 0x7fc5442ebed0>"
      ]
     },
     "execution_count": 51,
     "metadata": {},
     "output_type": "execute_result"
    },
    {
     "data": {
      "image/png": "[encoded data removed]",
      "text/plain": [
       "<Figure size 402.375x360 with 1 Axes>"
      ]
     },
     "metadata": {
      "needs_background": "light"
     },
     "output_type": "display_data"
    }
   ],
   "source": [
    "sns.lmplot(fit_reg=True,x='sulphates',y='alcohol',data=wine,hue='cluster')"
   ]
  },
  {
   "cell_type": "code",
   "execution_count": 52,
   "metadata": {},
   "outputs": [],
   "source": [
    "from sklearn.cluster import AgglomerativeClustering"
   ]
  },
  {
   "cell_type": "code",
   "execution_count": 53,
   "metadata": {},
   "outputs": [
    {
     "name": "stdout",
     "output_type": "stream",
     "text": [
      "For n_clusters = 2 The average silhouette_score is: 0.3091095689547383\n",
      "For n_clusters = 3 The average silhouette_score is: 0.36507065689263013\n",
      "For n_clusters = 4 The average silhouette_score is: 0.36394118955693916\n",
      "For n_clusters = 5 The average silhouette_score is: 0.2849369402765109\n",
      "For n_clusters = 6 The average silhouette_score is: 0.28173689619112985\n",
      "For n_clusters = 7 The average silhouette_score is: 0.30584775050004287\n",
      "For n_clusters = 8 The average silhouette_score is: 0.29918403546397854\n",
      "For n_clusters = 9 The average silhouette_score is: 0.2931385252344828\n"
     ]
    }
   ],
   "source": [
    "for n_clusters in range(2,10):\n",
    "    cluster_model = AgglomerativeClustering(n_clusters=n_clusters, affinity='euclidean',linkage='ward')\n",
    "    cluster_labels = cluster_model.fit_predict(wine_std)\n",
    "    silhouette_avg = silhouette_score(wine_std,cluster_labels,metric='euclidean')\n",
    "    print(\"For n_clusters =\", n_clusters, \n",
    "          \"The average silhouette_score is:\", silhouette_avg)"
   ]
  },
  {
   "cell_type": "code",
   "execution_count": 54,
   "metadata": {},
   "outputs": [],
   "source": [
    "k=3\n",
    "hclus=AgglomerativeClustering(n_clusters=k, affinity='euclidean',linkage='ward')\n"
   ]
  },
  {
   "cell_type": "code",
   "execution_count": 55,
   "metadata": {},
   "outputs": [
    {
     "name": "stdout",
     "output_type": "stream",
     "text": [
      "Help on class AgglomerativeClustering in module sklearn.cluster.hierarchical:\n",
      "\n",
      "class AgglomerativeClustering(sklearn.base.BaseEstimator, sklearn.base.ClusterMixin)\n",
      " |  AgglomerativeClustering(n_clusters=2, affinity='euclidean', memory=None, connectivity=None, compute_full_tree='auto', linkage='ward', pooling_func='deprecated', distance_threshold=None)\n",
      " |  \n",
      " |  Agglomerative Clustering\n",
      " |  \n",
      " |  Recursively merges the pair of clusters that minimally increases\n",
      " |  a given linkage distance.\n",
      " |  \n",
      " |  Read more in the :ref:`User Guide <hierarchical_clustering>`.\n",
      " |  \n",
      " |  Parameters\n",
      " |  ----------\n",
      " |  n_clusters : int or None, optional (default=2)\n",
      " |      The number of clusters to find. It must be ``None`` if\n",
      " |      ``distance_threshold`` is not ``None``.\n",
      " |  \n",
      " |  affinity : string or callable, default: \"euclidean\"\n",
      " |      Metric used to compute the linkage. Can be \"euclidean\", \"l1\", \"l2\",\n",
      " |      \"manhattan\", \"cosine\", or \"precomputed\".\n",
      " |      If linkage is \"ward\", only \"euclidean\" is accepted.\n",
      " |      If \"precomputed\", a distance matrix (instead of a similarity matrix)\n",
      " |      is needed as input for the fit method.\n",
      " |  \n",
      " |  memory : None, str or object with the joblib.Memory interface, optional\n",
      " |      Used to cache the output of the computation of the tree.\n",
      " |      By default, no caching is done. If a string is given, it is the\n",
      " |      path to the caching directory.\n",
      " |  \n",
      " |  connectivity : array-like or callable, optional\n",
      " |      Connectivity matrix. Defines for each sample the neighboring\n",
      " |      samples following a given structure of the data.\n",
      " |      This can be a connectivity matrix itself or a callable that transforms\n",
      " |      the data into a connectivity matrix, such as derived from\n",
      " |      kneighbors_graph. Default is None, i.e, the\n",
      " |      hierarchical clustering algorithm is unstructured.\n",
      " |  \n",
      " |  compute_full_tree : bool or 'auto' (optional)\n",
      " |      Stop early the construction of the tree at n_clusters. This is\n",
      " |      useful to decrease computation time if the number of clusters is\n",
      " |      not small compared to the number of samples. This option is\n",
      " |      useful only when specifying a connectivity matrix. Note also that\n",
      " |      when varying the number of clusters and using caching, it may\n",
      " |      be advantageous to compute the full tree. It must be ``True`` if\n",
      " |      ``distance_threshold`` is not ``None``.\n",
      " |  \n",
      " |  linkage : {\"ward\", \"complete\", \"average\", \"single\"}, optional             (default=\"ward\")\n",
      " |      Which linkage criterion to use. The linkage criterion determines which\n",
      " |      distance to use between sets of observation. The algorithm will merge\n",
      " |      the pairs of cluster that minimize this criterion.\n",
      " |  \n",
      " |      - ward minimizes the variance of the clusters being merged.\n",
      " |      - average uses the average of the distances of each observation of\n",
      " |        the two sets.\n",
      " |      - complete or maximum linkage uses the maximum distances between\n",
      " |        all observations of the two sets.\n",
      " |      - single uses the minimum of the distances between all observations\n",
      " |        of the two sets.\n",
      " |  \n",
      " |  pooling_func : callable, default='deprecated'\n",
      " |      Ignored.\n",
      " |  \n",
      " |      .. deprecated:: 0.20\n",
      " |          ``pooling_func`` has been deprecated in 0.20 and will be removed\n",
      " |          in 0.22.\n",
      " |  \n",
      " |  distance_threshold : float, optional (default=None)\n",
      " |      The linkage distance threshold above which, clusters will not be\n",
      " |      merged. If not ``None``, ``n_clusters`` must be ``None`` and\n",
      " |      ``compute_full_tree`` must be ``True``.\n",
      " |  \n",
      " |      .. versionadded:: 0.21\n",
      " |  \n",
      " |  Attributes\n",
      " |  ----------\n",
      " |  n_clusters_ : int\n",
      " |      The number of clusters found by the algorithm. If\n",
      " |      ``distance_threshold=None``, it will be equal to the given\n",
      " |      ``n_clusters``.\n",
      " |  \n",
      " |  labels_ : array [n_samples]\n",
      " |      cluster labels for each point\n",
      " |  \n",
      " |  n_leaves_ : int\n",
      " |      Number of leaves in the hierarchical tree.\n",
      " |  \n",
      " |  n_connected_components_ : int\n",
      " |      The estimated number of connected components in the graph.\n",
      " |  \n",
      " |  children_ : array-like, shape (n_samples-1, 2)\n",
      " |      The children of each non-leaf node. Values less than `n_samples`\n",
      " |      correspond to leaves of the tree which are the original samples.\n",
      " |      A node `i` greater than or equal to `n_samples` is a non-leaf\n",
      " |      node and has children `children_[i - n_samples]`. Alternatively\n",
      " |      at the i-th iteration, children[i][0] and children[i][1]\n",
      " |      are merged to form node `n_samples + i`\n",
      " |  \n",
      " |  Examples\n",
      " |  --------\n",
      " |  >>> from sklearn.cluster import AgglomerativeClustering\n",
      " |  >>> import numpy as np\n",
      " |  >>> X = np.array([[1, 2], [1, 4], [1, 0],\n",
      " |  ...               [4, 2], [4, 4], [4, 0]])\n",
      " |  >>> clustering = AgglomerativeClustering().fit(X)\n",
      " |  >>> clustering # doctest: +NORMALIZE_WHITESPACE\n",
      " |  AgglomerativeClustering(affinity='euclidean', compute_full_tree='auto',\n",
      " |                          connectivity=None, distance_threshold=None,\n",
      " |                          linkage='ward', memory=None, n_clusters=2,\n",
      " |                          pooling_func='deprecated')\n",
      " |  >>> clustering.labels_\n",
      " |  array([1, 1, 1, 0, 0, 0])\n",
      " |  \n",
      " |  Method resolution order:\n",
      " |      AgglomerativeClustering\n",
      " |      sklearn.base.BaseEstimator\n",
      " |      sklearn.base.ClusterMixin\n",
      " |      builtins.object\n",
      " |  \n",
      " |  Methods defined here:\n",
      " |  \n",
      " |  __init__(self, n_clusters=2, affinity='euclidean', memory=None, connectivity=None, compute_full_tree='auto', linkage='ward', pooling_func='deprecated', distance_threshold=None)\n",
      " |      Initialize self.  See help(type(self)) for accurate signature.\n",
      " |  \n",
      " |  fit(self, X, y=None)\n",
      " |      Fit the hierarchical clustering on the data\n",
      " |      \n",
      " |      Parameters\n",
      " |      ----------\n",
      " |      X : array-like, shape = [n_samples, n_features]\n",
      " |          Training data. Shape [n_samples, n_features], or [n_samples,\n",
      " |          n_samples] if affinity=='precomputed'.\n",
      " |      \n",
      " |      y : Ignored\n",
      " |      \n",
      " |      Returns\n",
      " |      -------\n",
      " |      self\n",
      " |  \n",
      " |  ----------------------------------------------------------------------\n",
      " |  Data descriptors defined here:\n",
      " |  \n",
      " |  n_components_\n",
      " |  \n",
      " |  ----------------------------------------------------------------------\n",
      " |  Methods inherited from sklearn.base.BaseEstimator:\n",
      " |  \n",
      " |  __getstate__(self)\n",
      " |  \n",
      " |  __repr__(self, N_CHAR_MAX=700)\n",
      " |      Return repr(self).\n",
      " |  \n",
      " |  __setstate__(self, state)\n",
      " |  \n",
      " |  get_params(self, deep=True)\n",
      " |      Get parameters for this estimator.\n",
      " |      \n",
      " |      Parameters\n",
      " |      ----------\n",
      " |      deep : boolean, optional\n",
      " |          If True, will return the parameters for this estimator and\n",
      " |          contained subobjects that are estimators.\n",
      " |      \n",
      " |      Returns\n",
      " |      -------\n",
      " |      params : mapping of string to any\n",
      " |          Parameter names mapped to their values.\n",
      " |  \n",
      " |  set_params(self, **params)\n",
      " |      Set the parameters of this estimator.\n",
      " |      \n",
      " |      The method works on simple estimators as well as on nested objects\n",
      " |      (such as pipelines). The latter have parameters of the form\n",
      " |      ``<component>__<parameter>`` so that it's possible to update each\n",
      " |      component of a nested object.\n",
      " |      \n",
      " |      Returns\n",
      " |      -------\n",
      " |      self\n",
      " |  \n",
      " |  ----------------------------------------------------------------------\n",
      " |  Data descriptors inherited from sklearn.base.BaseEstimator:\n",
      " |  \n",
      " |  __dict__\n",
      " |      dictionary for instance variables (if defined)\n",
      " |  \n",
      " |  __weakref__\n",
      " |      list of weak references to the object (if defined)\n",
      " |  \n",
      " |  ----------------------------------------------------------------------\n",
      " |  Methods inherited from sklearn.base.ClusterMixin:\n",
      " |  \n",
      " |  fit_predict(self, X, y=None)\n",
      " |      Performs clustering on X and returns cluster labels.\n",
      " |      \n",
      " |      Parameters\n",
      " |      ----------\n",
      " |      X : ndarray, shape (n_samples, n_features)\n",
      " |          Input data.\n",
      " |      \n",
      " |      y : Ignored\n",
      " |          not used, present for API consistency by convention.\n",
      " |      \n",
      " |      Returns\n",
      " |      -------\n",
      " |      labels : ndarray, shape (n_samples,)\n",
      " |          cluster labels\n",
      "\n"
     ]
    }
   ],
   "source": [
    "help(AgglomerativeClustering)"
   ]
  },
  {
   "cell_type": "code",
   "execution_count": 56,
   "metadata": {},
   "outputs": [],
   "source": [
    "labels_hclus=hclus.fit_predict(wine_std)"
   ]
  },
  {
   "cell_type": "code",
   "execution_count": 57,
   "metadata": {},
   "outputs": [],
   "source": [
    "wine['cluster_hclus']=labels_hclus"
   ]
  },
  {
   "cell_type": "code",
   "execution_count": 58,
   "metadata": {},
   "outputs": [
    {
     "data": {
      "text/plain": [
       "<seaborn.axisgrid.FacetGrid at 0x7fc533b8f0d0>"
      ]
     },
     "execution_count": 58,
     "metadata": {},
     "output_type": "execute_result"
    },
    {
     "data": {
      "image/png": "[encoded data removed]",
      "text/plain": [
       "<Figure size 433.5x360 with 1 Axes>"
      ]
     },
     "metadata": {
      "needs_background": "light"
     },
     "output_type": "display_data"
    }
   ],
   "source": [
    "sns.lmplot(fit_reg=False,x='sulphates',y='alcohol',data=wine,hue='cluster_hclus')"
   ]
  },
  {
   "cell_type": "code",
   "execution_count": null,
   "metadata": {},
   "outputs": [],
   "source": [
    "wine.head()"
   ]
  },
  {
   "cell_type": "markdown",
   "metadata": {},
   "source": [
    "# DBSCAN"
   ]
  },
  {
   "cell_type": "code",
   "execution_count": 59,
   "metadata": {},
   "outputs": [
    {
     "data": {
      "text/html": [
       "<div>\n",
       "<style scoped>\n",
       "    .dataframe tbody tr th:only-of-type {\n",
       "        vertical-align: middle;\n",
       "    }\n",
       "\n",
       "    .dataframe tbody tr th {\n",
       "        vertical-align: top;\n",
       "    }\n",
       "\n",
       "    .dataframe thead th {\n",
       "        text-align: right;\n",
       "    }\n",
       "</style>\n",
       "<table border=\"1\" class=\"dataframe\">\n",
       "  <thead>\n",
       "    <tr style=\"text-align: right;\">\n",
       "      <th></th>\n",
       "      <th>X</th>\n",
       "      <th>Y</th>\n",
       "    </tr>\n",
       "  </thead>\n",
       "  <tbody>\n",
       "    <tr>\n",
       "      <th>0</th>\n",
       "      <td>1.045255</td>\n",
       "      <td>0.332214</td>\n",
       "    </tr>\n",
       "    <tr>\n",
       "      <th>1</th>\n",
       "      <td>0.801944</td>\n",
       "      <td>-0.411547</td>\n",
       "    </tr>\n",
       "    <tr>\n",
       "      <th>2</th>\n",
       "      <td>-0.749356</td>\n",
       "      <td>0.775108</td>\n",
       "    </tr>\n",
       "    <tr>\n",
       "      <th>3</th>\n",
       "      <td>0.975674</td>\n",
       "      <td>0.191768</td>\n",
       "    </tr>\n",
       "    <tr>\n",
       "      <th>4</th>\n",
       "      <td>-0.512188</td>\n",
       "      <td>0.929997</td>\n",
       "    </tr>\n",
       "  </tbody>\n",
       "</table>\n",
       "</div>"
      ],
      "text/plain": [
       "          X         Y\n",
       "0  1.045255  0.332214\n",
       "1  0.801944 -0.411547\n",
       "2 -0.749356  0.775108\n",
       "3  0.975674  0.191768\n",
       "4 -0.512188  0.929997"
      ]
     },
     "execution_count": 59,
     "metadata": {},
     "output_type": "execute_result"
    }
   ],
   "source": [
    "\n",
    "mydata=pd.read_csv(\"/Users/ed/Dropbox/Python/Dataset/Data/Data/moon_data.csv\").iloc[:,1:]\n",
    "mydata.head()"
   ]
  },
  {
   "cell_type": "code",
   "execution_count": 60,
   "metadata": {},
   "outputs": [
    {
     "data": {
      "text/plain": [
       "<seaborn.axisgrid.FacetGrid at 0x7fc533b8f1d0>"
      ]
     },
     "execution_count": 60,
     "metadata": {},
     "output_type": "execute_result"
    },
    {
     "data": {
      "image/png": "[encoded data removed]",
      "text/plain": [
       "<Figure size 360x360 with 1 Axes>"
      ]
     },
     "metadata": {
      "needs_background": "light"
     },
     "output_type": "display_data"
    }
   ],
   "source": [
    "sns.lmplot('X','Y',data=mydata,fit_reg=False) "
   ]
  },
  {
   "cell_type": "code",
   "execution_count": 61,
   "metadata": {},
   "outputs": [],
   "source": [
    "kmeans=KMeans(n_clusters=2)\n",
    "kmeans.fit(mydata)\n",
    "mydata[\"cluster\"]=kmeans.labels_"
   ]
  },
  {
   "cell_type": "code",
   "execution_count": 62,
   "metadata": {},
   "outputs": [
    {
     "data": {
      "text/plain": [
       "<seaborn.axisgrid.FacetGrid at 0x7fc533f6ec90>"
      ]
     },
     "execution_count": 62,
     "metadata": {},
     "output_type": "execute_result"
    },
    {
     "data": {
      "image/png": "[encoded data removed]",
      "text/plain": [
       "<Figure size 402.375x360 with 1 Axes>"
      ]
     },
     "metadata": {
      "needs_background": "light"
     },
     "output_type": "display_data"
    }
   ],
   "source": [
    "sns.lmplot('X','Y',data=mydata,hue='cluster',fit_reg=False)"
   ]
  },
  {
   "cell_type": "code",
   "execution_count": 63,
   "metadata": {},
   "outputs": [],
   "source": [
    "from sklearn.cluster import DBSCAN"
   ]
  },
  {
   "cell_type": "code",
   "execution_count": 64,
   "metadata": {},
   "outputs": [],
   "source": [
    "del mydata['cluster']"
   ]
  },
  {
   "cell_type": "code",
   "execution_count": 66,
   "metadata": {},
   "outputs": [
    {
     "name": "stdout",
     "output_type": "stream",
     "text": [
      "Help on class DBSCAN in module sklearn.cluster.dbscan_:\n",
      "\n",
      "class DBSCAN(sklearn.base.BaseEstimator, sklearn.base.ClusterMixin)\n",
      " |  DBSCAN(eps=0.5, min_samples=5, metric='euclidean', metric_params=None, algorithm='auto', leaf_size=30, p=None, n_jobs=None)\n",
      " |  \n",
      " |  Perform DBSCAN clustering from vector array or distance matrix.\n",
      " |  \n",
      " |  DBSCAN - Density-Based Spatial Clustering of Applications with Noise.\n",
      " |  Finds core samples of high density and expands clusters from them.\n",
      " |  Good for data which contains clusters of similar density.\n",
      " |  \n",
      " |  Read more in the :ref:`User Guide <dbscan>`.\n",
      " |  \n",
      " |  Parameters\n",
      " |  ----------\n",
      " |  eps : float, optional\n",
      " |      The maximum distance between two samples for one to be considered\n",
      " |      as in the neighborhood of the other. This is not a maximum bound\n",
      " |      on the distances of points within a cluster. This is the most\n",
      " |      important DBSCAN parameter to choose appropriately for your data set\n",
      " |      and distance function.\n",
      " |  \n",
      " |  min_samples : int, optional\n",
      " |      The number of samples (or total weight) in a neighborhood for a point\n",
      " |      to be considered as a core point. This includes the point itself.\n",
      " |  \n",
      " |  metric : string, or callable\n",
      " |      The metric to use when calculating distance between instances in a\n",
      " |      feature array. If metric is a string or callable, it must be one of\n",
      " |      the options allowed by :func:`sklearn.metrics.pairwise_distances` for\n",
      " |      its metric parameter.\n",
      " |      If metric is \"precomputed\", X is assumed to be a distance matrix and\n",
      " |      must be square. X may be a sparse matrix, in which case only \"nonzero\"\n",
      " |      elements may be considered neighbors for DBSCAN.\n",
      " |  \n",
      " |      .. versionadded:: 0.17\n",
      " |         metric *precomputed* to accept precomputed sparse matrix.\n",
      " |  \n",
      " |  metric_params : dict, optional\n",
      " |      Additional keyword arguments for the metric function.\n",
      " |  \n",
      " |      .. versionadded:: 0.19\n",
      " |  \n",
      " |  algorithm : {'auto', 'ball_tree', 'kd_tree', 'brute'}, optional\n",
      " |      The algorithm to be used by the NearestNeighbors module\n",
      " |      to compute pointwise distances and find nearest neighbors.\n",
      " |      See NearestNeighbors module documentation for details.\n",
      " |  \n",
      " |  leaf_size : int, optional (default = 30)\n",
      " |      Leaf size passed to BallTree or cKDTree. This can affect the speed\n",
      " |      of the construction and query, as well as the memory required\n",
      " |      to store the tree. The optimal value depends\n",
      " |      on the nature of the problem.\n",
      " |  \n",
      " |  p : float, optional\n",
      " |      The power of the Minkowski metric to be used to calculate distance\n",
      " |      between points.\n",
      " |  \n",
      " |  n_jobs : int or None, optional (default=None)\n",
      " |      The number of parallel jobs to run.\n",
      " |      ``None`` means 1 unless in a :obj:`joblib.parallel_backend` context.\n",
      " |      ``-1`` means using all processors. See :term:`Glossary <n_jobs>`\n",
      " |      for more details.\n",
      " |  \n",
      " |  Attributes\n",
      " |  ----------\n",
      " |  core_sample_indices_ : array, shape = [n_core_samples]\n",
      " |      Indices of core samples.\n",
      " |  \n",
      " |  components_ : array, shape = [n_core_samples, n_features]\n",
      " |      Copy of each core sample found by training.\n",
      " |  \n",
      " |  labels_ : array, shape = [n_samples]\n",
      " |      Cluster labels for each point in the dataset given to fit().\n",
      " |      Noisy samples are given the label -1.\n",
      " |  \n",
      " |  Examples\n",
      " |  --------\n",
      " |  >>> from sklearn.cluster import DBSCAN\n",
      " |  >>> import numpy as np\n",
      " |  >>> X = np.array([[1, 2], [2, 2], [2, 3],\n",
      " |  ...               [8, 7], [8, 8], [25, 80]])\n",
      " |  >>> clustering = DBSCAN(eps=3, min_samples=2).fit(X)\n",
      " |  >>> clustering.labels_\n",
      " |  array([ 0,  0,  0,  1,  1, -1])\n",
      " |  >>> clustering # doctest: +NORMALIZE_WHITESPACE\n",
      " |  DBSCAN(algorithm='auto', eps=3, leaf_size=30, metric='euclidean',\n",
      " |      metric_params=None, min_samples=2, n_jobs=None, p=None)\n",
      " |  \n",
      " |  See also\n",
      " |  --------\n",
      " |  OPTICS\n",
      " |      A similar clustering at multiple values of eps. Our implementation\n",
      " |      is optimized for memory usage.\n",
      " |  \n",
      " |  Notes\n",
      " |  -----\n",
      " |  For an example, see :ref:`examples/cluster/plot_dbscan.py\n",
      " |  <sphx_glr_auto_examples_cluster_plot_dbscan.py>`.\n",
      " |  \n",
      " |  This implementation bulk-computes all neighborhood queries, which increases\n",
      " |  the memory complexity to O(n.d) where d is the average number of neighbors,\n",
      " |  while original DBSCAN had memory complexity O(n). It may attract a higher\n",
      " |  memory complexity when querying these nearest neighborhoods, depending\n",
      " |  on the ``algorithm``.\n",
      " |  \n",
      " |  One way to avoid the query complexity is to pre-compute sparse\n",
      " |  neighborhoods in chunks using\n",
      " |  :func:`NearestNeighbors.radius_neighbors_graph\n",
      " |  <sklearn.neighbors.NearestNeighbors.radius_neighbors_graph>` with\n",
      " |  ``mode='distance'``, then using ``metric='precomputed'`` here.\n",
      " |  \n",
      " |  Another way to reduce memory and computation time is to remove\n",
      " |  (near-)duplicate points and use ``sample_weight`` instead.\n",
      " |  \n",
      " |  :class:`cluster.OPTICS` provides a similar clustering with lower memory\n",
      " |  usage.\n",
      " |  \n",
      " |  References\n",
      " |  ----------\n",
      " |  Ester, M., H. P. Kriegel, J. Sander, and X. Xu, \"A Density-Based\n",
      " |  Algorithm for Discovering Clusters in Large Spatial Databases with Noise\".\n",
      " |  In: Proceedings of the 2nd International Conference on Knowledge Discovery\n",
      " |  and Data Mining, Portland, OR, AAAI Press, pp. 226-231. 1996\n",
      " |  \n",
      " |  Schubert, E., Sander, J., Ester, M., Kriegel, H. P., & Xu, X. (2017).\n",
      " |  DBSCAN revisited, revisited: why and how you should (still) use DBSCAN.\n",
      " |  ACM Transactions on Database Systems (TODS), 42(3), 19.\n",
      " |  \n",
      " |  Method resolution order:\n",
      " |      DBSCAN\n",
      " |      sklearn.base.BaseEstimator\n",
      " |      sklearn.base.ClusterMixin\n",
      " |      builtins.object\n",
      " |  \n",
      " |  Methods defined here:\n",
      " |  \n",
      " |  __init__(self, eps=0.5, min_samples=5, metric='euclidean', metric_params=None, algorithm='auto', leaf_size=30, p=None, n_jobs=None)\n",
      " |      Initialize self.  See help(type(self)) for accurate signature.\n",
      " |  \n",
      " |  fit(self, X, y=None, sample_weight=None)\n",
      " |      Perform DBSCAN clustering from features or distance matrix.\n",
      " |      \n",
      " |      Parameters\n",
      " |      ----------\n",
      " |      X : array or sparse (CSR) matrix of shape (n_samples, n_features), or                 array of shape (n_samples, n_samples)\n",
      " |          A feature array, or array of distances between samples if\n",
      " |          ``metric='precomputed'``.\n",
      " |      sample_weight : array, shape (n_samples,), optional\n",
      " |          Weight of each sample, such that a sample with a weight of at least\n",
      " |          ``min_samples`` is by itself a core sample; a sample with negative\n",
      " |          weight may inhibit its eps-neighbor from being core.\n",
      " |          Note that weights are absolute, and default to 1.\n",
      " |      \n",
      " |      y : Ignored\n",
      " |  \n",
      " |  fit_predict(self, X, y=None, sample_weight=None)\n",
      " |      Performs clustering on X and returns cluster labels.\n",
      " |      \n",
      " |      Parameters\n",
      " |      ----------\n",
      " |      X : array or sparse (CSR) matrix of shape (n_samples, n_features), or                 array of shape (n_samples, n_samples)\n",
      " |          A feature array, or array of distances between samples if\n",
      " |          ``metric='precomputed'``.\n",
      " |      sample_weight : array, shape (n_samples,), optional\n",
      " |          Weight of each sample, such that a sample with a weight of at least\n",
      " |          ``min_samples`` is by itself a core sample; a sample with negative\n",
      " |          weight may inhibit its eps-neighbor from being core.\n",
      " |          Note that weights are absolute, and default to 1.\n",
      " |      \n",
      " |      y : Ignored\n",
      " |      \n",
      " |      Returns\n",
      " |      -------\n",
      " |      y : ndarray, shape (n_samples,)\n",
      " |          cluster labels\n",
      " |  \n",
      " |  ----------------------------------------------------------------------\n",
      " |  Methods inherited from sklearn.base.BaseEstimator:\n",
      " |  \n",
      " |  __getstate__(self)\n",
      " |  \n",
      " |  __repr__(self, N_CHAR_MAX=700)\n",
      " |      Return repr(self).\n",
      " |  \n",
      " |  __setstate__(self, state)\n",
      " |  \n",
      " |  get_params(self, deep=True)\n",
      " |      Get parameters for this estimator.\n",
      " |      \n",
      " |      Parameters\n",
      " |      ----------\n",
      " |      deep : boolean, optional\n",
      " |          If True, will return the parameters for this estimator and\n",
      " |          contained subobjects that are estimators.\n",
      " |      \n",
      " |      Returns\n",
      " |      -------\n",
      " |      params : mapping of string to any\n",
      " |          Parameter names mapped to their values.\n",
      " |  \n",
      " |  set_params(self, **params)\n",
      " |      Set the parameters of this estimator.\n",
      " |      \n",
      " |      The method works on simple estimators as well as on nested objects\n",
      " |      (such as pipelines). The latter have parameters of the form\n",
      " |      ``<component>__<parameter>`` so that it's possible to update each\n",
      " |      component of a nested object.\n",
      " |      \n",
      " |      Returns\n",
      " |      -------\n",
      " |      self\n",
      " |  \n",
      " |  ----------------------------------------------------------------------\n",
      " |  Data descriptors inherited from sklearn.base.BaseEstimator:\n",
      " |  \n",
      " |  __dict__\n",
      " |      dictionary for instance variables (if defined)\n",
      " |  \n",
      " |  __weakref__\n",
      " |      list of weak references to the object (if defined)\n",
      "\n"
     ]
    }
   ],
   "source": [
    "help(DBSCAN)"
   ]
  },
  {
   "cell_type": "code",
   "execution_count": 69,
   "metadata": {},
   "outputs": [
    {
     "data": {
      "text/plain": [
       "<seaborn.axisgrid.FacetGrid at 0x7fc533fbf690>"
      ]
     },
     "execution_count": 69,
     "metadata": {},
     "output_type": "execute_result"
    },
    {
     "data": {
      "image/png": "[encoded data removed]",
      "text/plain": [
       "<Figure size 406x360 with 1 Axes>"
      ]
     },
     "metadata": {
      "needs_background": "light"
     },
     "output_type": "display_data"
    }
   ],
   "source": [
    "db = DBSCAN(eps=0.1, min_samples=30, metric='euclidean').fit(mydata)\n",
    "mydata['cluster']=db.labels_\n",
    "sns.lmplot('X','Y',data=mydata,hue='cluster',fit_reg=False)\n"
   ]
  },
  {
   "cell_type": "code",
   "execution_count": 70,
   "metadata": {},
   "outputs": [
    {
     "data": {
      "text/plain": [
       " 1    999\n",
       " 0    995\n",
       "-1      6\n",
       "dtype: int64"
      ]
     },
     "execution_count": 70,
     "metadata": {},
     "output_type": "execute_result"
    }
   ],
   "source": [
    "pd.Series(db.labels_).value_counts()"
   ]
  },
  {
   "cell_type": "markdown",
   "metadata": {},
   "source": [
    "# anamoly detection with dbscan"
   ]
  },
  {
   "cell_type": "code",
   "execution_count": 71,
   "metadata": {},
   "outputs": [],
   "source": [
    "myfile=r'/Users/ed/Dropbox/Python/Dataset/Data/Data/Wholesale customers data.csv'\n",
    "\n",
    "groc=pd.read_csv(myfile)\n",
    "\n",
    "groc=groc[[\"Milk\",\"Grocery\"]]\n",
    "\n",
    "groc_std=pd.DataFrame(scale(groc),columns=list(groc.columns))"
   ]
  },
  {
   "cell_type": "code",
   "execution_count": 72,
   "metadata": {},
   "outputs": [
    {
     "data": {
      "text/plain": [
       "<seaborn.axisgrid.FacetGrid at 0x7fc538cee150>"
      ]
     },
     "execution_count": 72,
     "metadata": {},
     "output_type": "execute_result"
    },
    {
     "data": {
      "image/png": "[encoded data removed]",
      "text/plain": [
       "<Figure size 360x360 with 1 Axes>"
      ]
     },
     "metadata": {
      "needs_background": "light"
     },
     "output_type": "display_data"
    }
   ],
   "source": [
    "sns.lmplot(x='Milk',y='Grocery',data=groc,fit_reg=False)"
   ]
  },
  {
   "cell_type": "code",
   "execution_count": 74,
   "metadata": {},
   "outputs": [
    {
     "data": {
      "text/plain": [
       "array([0.5       , 0.59183673, 0.68367347, 0.7755102 , 0.86734694,\n",
       "       0.95918367, 1.05102041, 1.14285714, 1.23469388, 1.32653061,\n",
       "       1.41836735, 1.51020408, 1.60204082, 1.69387755, 1.78571429,\n",
       "       1.87755102, 1.96938776, 2.06122449, 2.15306122, 2.24489796,\n",
       "       2.33673469, 2.42857143, 2.52040816, 2.6122449 , 2.70408163,\n",
       "       2.79591837, 2.8877551 , 2.97959184, 3.07142857, 3.16326531,\n",
       "       3.25510204, 3.34693878, 3.43877551, 3.53061224, 3.62244898,\n",
       "       3.71428571, 3.80612245, 3.89795918, 3.98979592, 4.08163265,\n",
       "       4.17346939, 4.26530612, 4.35714286, 4.44897959, 4.54081633,\n",
       "       4.63265306, 4.7244898 , 4.81632653, 4.90816327, 5.        ])"
      ]
     },
     "execution_count": 74,
     "metadata": {},
     "output_type": "execute_result"
    }
   ],
   "source": [
    "r=np.linspace(0.5,5)\n",
    "r"
   ]
  },
  {
   "cell_type": "code",
   "execution_count": 75,
   "metadata": {},
   "outputs": [
    {
     "data": {
      "text/plain": [
       "array([ 10.,  20.,  30.,  40.,  50.,  60.,  70.,  80.,  90., 100.])"
      ]
     },
     "execution_count": 75,
     "metadata": {},
     "output_type": "execute_result"
    }
   ],
   "source": [
    "\n",
    "m=np.linspace(10,100,10)\n",
    "m"
   ]
  },
  {
   "cell_type": "code",
   "execution_count": 76,
   "metadata": {},
   "outputs": [
    {
     "name": "stdout",
     "output_type": "stream",
     "text": [
      "For epsilon = 0.5  and number of min samples 10.0 , percentage of outliers is:  7.27\n",
      "For epsilon = 0.5918367346938775  and number of min samples 10.0 , percentage of outliers is:  6.14\n",
      "For epsilon = 0.6836734693877551  and number of min samples 10.0 , percentage of outliers is:  5.23\n",
      "For epsilon = 0.7755102040816326  and number of min samples 10.0 , percentage of outliers is:  4.77\n",
      "For epsilon = 0.8673469387755102  and number of min samples 10.0 , percentage of outliers is:  4.09\n",
      "For epsilon = 0.9591836734693877  and number of min samples 10.0 , percentage of outliers is:  3.64\n",
      "For epsilon = 1.0510204081632653  and number of min samples 10.0 , percentage of outliers is:  2.5\n",
      "For epsilon = 1.1428571428571428  and number of min samples 10.0 , percentage of outliers is:  2.05\n",
      "For epsilon = 1.2346938775510203  and number of min samples 10.0 , percentage of outliers is:  1.59\n",
      "For epsilon = 1.3265306122448979  and number of min samples 10.0 , percentage of outliers is:  1.36\n",
      "For epsilon = 1.4183673469387754  and number of min samples 10.0 , percentage of outliers is:  1.36\n",
      "For epsilon = 1.5102040816326532  and number of min samples 10.0 , percentage of outliers is:  1.36\n",
      "For epsilon = 1.6020408163265307  and number of min samples 10.0 , percentage of outliers is:  1.36\n",
      "For epsilon = 1.6938775510204083  and number of min samples 10.0 , percentage of outliers is:  1.36\n",
      "For epsilon = 1.7857142857142858  and number of min samples 10.0 , percentage of outliers is:  1.36\n",
      "For epsilon = 1.8775510204081634  and number of min samples 10.0 , percentage of outliers is:  1.36\n",
      "For epsilon = 1.969387755102041  and number of min samples 10.0 , percentage of outliers is:  1.14\n",
      "For epsilon = 2.0612244897959187  and number of min samples 10.0 , percentage of outliers is:  1.14\n",
      "For epsilon = 2.1530612244897958  and number of min samples 10.0 , percentage of outliers is:  1.14\n",
      "For epsilon = 2.2448979591836737  and number of min samples 10.0 , percentage of outliers is:  1.14\n",
      "For epsilon = 2.336734693877551  and number of min samples 10.0 , percentage of outliers is:  1.14\n",
      "For epsilon = 2.428571428571429  and number of min samples 10.0 , percentage of outliers is:  1.14\n",
      "For epsilon = 2.5204081632653064  and number of min samples 10.0 , percentage of outliers is:  0.91\n",
      "For epsilon = 2.612244897959184  and number of min samples 10.0 , percentage of outliers is:  0.91\n",
      "For epsilon = 2.7040816326530615  and number of min samples 10.0 , percentage of outliers is:  0.91\n",
      "For epsilon = 2.795918367346939  and number of min samples 10.0 , percentage of outliers is:  0.91\n",
      "For epsilon = 2.8877551020408165  and number of min samples 10.0 , percentage of outliers is:  0.91\n",
      "For epsilon = 2.979591836734694  and number of min samples 10.0 , percentage of outliers is:  0.91\n",
      "For epsilon = 3.0714285714285716  and number of min samples 10.0 , percentage of outliers is:  0.91\n",
      "For epsilon = 3.163265306122449  and number of min samples 10.0 , percentage of outliers is:  0.68\n",
      "For epsilon = 3.2551020408163267  and number of min samples 10.0 , percentage of outliers is:  0.68\n",
      "For epsilon = 3.3469387755102042  and number of min samples 10.0 , percentage of outliers is:  0.68\n",
      "For epsilon = 3.438775510204082  and number of min samples 10.0 , percentage of outliers is:  0.68\n",
      "For epsilon = 3.5306122448979593  and number of min samples 10.0 , percentage of outliers is:  0.68\n",
      "For epsilon = 3.622448979591837  and number of min samples 10.0 , percentage of outliers is:  0.68\n",
      "For epsilon = 3.7142857142857144  and number of min samples 10.0 , percentage of outliers is:  0.68\n",
      "For epsilon = 3.806122448979592  and number of min samples 10.0 , percentage of outliers is:  0.68\n",
      "For epsilon = 3.8979591836734695  and number of min samples 10.0 , percentage of outliers is:  0.45\n",
      "For epsilon = 3.989795918367347  and number of min samples 10.0 , percentage of outliers is:  0.23\n",
      "For epsilon = 4.081632653061225  and number of min samples 10.0 , percentage of outliers is:  0.23\n",
      "For epsilon = 4.173469387755102  and number of min samples 10.0 , percentage of outliers is:  0.23\n",
      "For epsilon = 4.26530612244898  and number of min samples 10.0 , percentage of outliers is:  0.0\n",
      "For epsilon = 4.357142857142858  and number of min samples 10.0 , percentage of outliers is:  0.0\n",
      "For epsilon = 4.448979591836735  and number of min samples 10.0 , percentage of outliers is:  0.0\n",
      "For epsilon = 4.540816326530613  and number of min samples 10.0 , percentage of outliers is:  0.0\n",
      "For epsilon = 4.63265306122449  and number of min samples 10.0 , percentage of outliers is:  0.0\n",
      "For epsilon = 4.724489795918368  and number of min samples 10.0 , percentage of outliers is:  0.0\n",
      "For epsilon = 4.816326530612245  and number of min samples 10.0 , percentage of outliers is:  0.0\n",
      "For epsilon = 4.908163265306123  and number of min samples 10.0 , percentage of outliers is:  0.0\n",
      "For epsilon = 5.0  and number of min samples 10.0 , percentage of outliers is:  0.0\n",
      "For epsilon = 0.5  and number of min samples 20.0 , percentage of outliers is:  9.77\n",
      "For epsilon = 0.5918367346938775  and number of min samples 20.0 , percentage of outliers is:  7.95\n",
      "For epsilon = 0.6836734693877551  and number of min samples 20.0 , percentage of outliers is:  6.36\n",
      "For epsilon = 0.7755102040816326  and number of min samples 20.0 , percentage of outliers is:  5.68\n",
      "For epsilon = 0.8673469387755102  and number of min samples 20.0 , percentage of outliers is:  4.55\n",
      "For epsilon = 0.9591836734693877  and number of min samples 20.0 , percentage of outliers is:  4.32\n",
      "For epsilon = 1.0510204081632653  and number of min samples 20.0 , percentage of outliers is:  3.41\n",
      "For epsilon = 1.1428571428571428  and number of min samples 20.0 , percentage of outliers is:  3.41\n",
      "For epsilon = 1.2346938775510203  and number of min samples 20.0 , percentage of outliers is:  2.05\n",
      "For epsilon = 1.3265306122448979  and number of min samples 20.0 , percentage of outliers is:  2.05\n",
      "For epsilon = 1.4183673469387754  and number of min samples 20.0 , percentage of outliers is:  2.05\n",
      "For epsilon = 1.5102040816326532  and number of min samples 20.0 , percentage of outliers is:  1.82\n",
      "For epsilon = 1.6020408163265307  and number of min samples 20.0 , percentage of outliers is:  1.82\n",
      "For epsilon = 1.6938775510204083  and number of min samples 20.0 , percentage of outliers is:  1.36\n",
      "For epsilon = 1.7857142857142858  and number of min samples 20.0 , percentage of outliers is:  1.36\n",
      "For epsilon = 1.8775510204081634  and number of min samples 20.0 , percentage of outliers is:  1.36\n",
      "For epsilon = 1.969387755102041  and number of min samples 20.0 , percentage of outliers is:  1.36\n",
      "For epsilon = 2.0612244897959187  and number of min samples 20.0 , percentage of outliers is:  1.36\n",
      "For epsilon = 2.1530612244897958  and number of min samples 20.0 , percentage of outliers is:  1.14\n",
      "For epsilon = 2.2448979591836737  and number of min samples 20.0 , percentage of outliers is:  1.14\n",
      "For epsilon = 2.336734693877551  and number of min samples 20.0 , percentage of outliers is:  1.14\n",
      "For epsilon = 2.428571428571429  and number of min samples 20.0 , percentage of outliers is:  1.14\n",
      "For epsilon = 2.5204081632653064  and number of min samples 20.0 , percentage of outliers is:  0.91\n",
      "For epsilon = 2.612244897959184  and number of min samples 20.0 , percentage of outliers is:  0.91\n",
      "For epsilon = 2.7040816326530615  and number of min samples 20.0 , percentage of outliers is:  0.91\n",
      "For epsilon = 2.795918367346939  and number of min samples 20.0 , percentage of outliers is:  0.91\n",
      "For epsilon = 2.8877551020408165  and number of min samples 20.0 , percentage of outliers is:  0.91\n",
      "For epsilon = 2.979591836734694  and number of min samples 20.0 , percentage of outliers is:  0.91\n",
      "For epsilon = 3.0714285714285716  and number of min samples 20.0 , percentage of outliers is:  0.91\n",
      "For epsilon = 3.163265306122449  and number of min samples 20.0 , percentage of outliers is:  0.68\n",
      "For epsilon = 3.2551020408163267  and number of min samples 20.0 , percentage of outliers is:  0.68\n",
      "For epsilon = 3.3469387755102042  and number of min samples 20.0 , percentage of outliers is:  0.68\n",
      "For epsilon = 3.438775510204082  and number of min samples 20.0 , percentage of outliers is:  0.68\n",
      "For epsilon = 3.5306122448979593  and number of min samples 20.0 , percentage of outliers is:  0.68\n",
      "For epsilon = 3.622448979591837  and number of min samples 20.0 , percentage of outliers is:  0.68\n",
      "For epsilon = 3.7142857142857144  and number of min samples 20.0 , percentage of outliers is:  0.68\n",
      "For epsilon = 3.806122448979592  and number of min samples 20.0 , percentage of outliers is:  0.68\n",
      "For epsilon = 3.8979591836734695  and number of min samples 20.0 , percentage of outliers is:  0.45\n",
      "For epsilon = 3.989795918367347  and number of min samples 20.0 , percentage of outliers is:  0.45\n",
      "For epsilon = 4.081632653061225  and number of min samples 20.0 , percentage of outliers is:  0.45\n",
      "For epsilon = 4.173469387755102  and number of min samples 20.0 , percentage of outliers is:  0.45\n",
      "For epsilon = 4.26530612244898  and number of min samples 20.0 , percentage of outliers is:  0.23\n",
      "For epsilon = 4.357142857142858  and number of min samples 20.0 , percentage of outliers is:  0.23\n",
      "For epsilon = 4.448979591836735  and number of min samples 20.0 , percentage of outliers is:  0.23\n",
      "For epsilon = 4.540816326530613  and number of min samples 20.0 , percentage of outliers is:  0.23\n",
      "For epsilon = 4.63265306122449  and number of min samples 20.0 , percentage of outliers is:  0.0\n",
      "For epsilon = 4.724489795918368  and number of min samples 20.0 , percentage of outliers is:  0.0\n",
      "For epsilon = 4.816326530612245  and number of min samples 20.0 , percentage of outliers is:  0.0\n",
      "For epsilon = 4.908163265306123  and number of min samples 20.0 , percentage of outliers is:  0.0\n",
      "For epsilon = 5.0  and number of min samples 20.0 , percentage of outliers is:  0.0\n",
      "For epsilon = 0.5  and number of min samples 30.0 , percentage of outliers is:  12.05\n",
      "For epsilon = 0.5918367346938775  and number of min samples 30.0 , percentage of outliers is:  9.55\n",
      "For epsilon = 0.6836734693877551  and number of min samples 30.0 , percentage of outliers is:  7.5\n",
      "For epsilon = 0.7755102040816326  and number of min samples 30.0 , percentage of outliers is:  6.82\n",
      "For epsilon = 0.8673469387755102  and number of min samples 30.0 , percentage of outliers is:  5.0\n",
      "For epsilon = 0.9591836734693877  and number of min samples 30.0 , percentage of outliers is:  4.55\n",
      "For epsilon = 1.0510204081632653  and number of min samples 30.0 , percentage of outliers is:  3.86\n",
      "For epsilon = 1.1428571428571428  and number of min samples 30.0 , percentage of outliers is:  3.64\n",
      "For epsilon = 1.2346938775510203  and number of min samples 30.0 , percentage of outliers is:  3.18\n",
      "For epsilon = 1.3265306122448979  and number of min samples 30.0 , percentage of outliers is:  2.95\n",
      "For epsilon = 1.4183673469387754  and number of min samples 30.0 , percentage of outliers is:  2.5\n",
      "For epsilon = 1.5102040816326532  and number of min samples 30.0 , percentage of outliers is:  2.05\n",
      "For epsilon = 1.6020408163265307  and number of min samples 30.0 , percentage of outliers is:  2.05\n",
      "For epsilon = 1.6938775510204083  and number of min samples 30.0 , percentage of outliers is:  1.82\n",
      "For epsilon = 1.7857142857142858  and number of min samples 30.0 , percentage of outliers is:  1.36\n",
      "For epsilon = 1.8775510204081634  and number of min samples 30.0 , percentage of outliers is:  1.36\n",
      "For epsilon = 1.969387755102041  and number of min samples 30.0 , percentage of outliers is:  1.36\n",
      "For epsilon = 2.0612244897959187  and number of min samples 30.0 , percentage of outliers is:  1.36\n",
      "For epsilon = 2.1530612244897958  and number of min samples 30.0 , percentage of outliers is:  1.36\n",
      "For epsilon = 2.2448979591836737  and number of min samples 30.0 , percentage of outliers is:  1.36\n",
      "For epsilon = 2.336734693877551  and number of min samples 30.0 , percentage of outliers is:  1.14\n",
      "For epsilon = 2.428571428571429  and number of min samples 30.0 , percentage of outliers is:  1.14\n",
      "For epsilon = 2.5204081632653064  and number of min samples 30.0 , percentage of outliers is:  1.14\n",
      "For epsilon = 2.612244897959184  and number of min samples 30.0 , percentage of outliers is:  1.14\n",
      "For epsilon = 2.7040816326530615  and number of min samples 30.0 , percentage of outliers is:  1.14\n",
      "For epsilon = 2.795918367346939  and number of min samples 30.0 , percentage of outliers is:  1.14\n",
      "For epsilon = 2.8877551020408165  and number of min samples 30.0 , percentage of outliers is:  0.91\n",
      "For epsilon = 2.979591836734694  and number of min samples 30.0 , percentage of outliers is:  0.91\n",
      "For epsilon = 3.0714285714285716  and number of min samples 30.0 , percentage of outliers is:  0.91\n",
      "For epsilon = 3.163265306122449  and number of min samples 30.0 , percentage of outliers is:  0.68\n",
      "For epsilon = 3.2551020408163267  and number of min samples 30.0 , percentage of outliers is:  0.68\n",
      "For epsilon = 3.3469387755102042  and number of min samples 30.0 , percentage of outliers is:  0.68\n",
      "For epsilon = 3.438775510204082  and number of min samples 30.0 , percentage of outliers is:  0.68\n",
      "For epsilon = 3.5306122448979593  and number of min samples 30.0 , percentage of outliers is:  0.68\n",
      "For epsilon = 3.622448979591837  and number of min samples 30.0 , percentage of outliers is:  0.68\n",
      "For epsilon = 3.7142857142857144  and number of min samples 30.0 , percentage of outliers is:  0.68\n",
      "For epsilon = 3.806122448979592  and number of min samples 30.0 , percentage of outliers is:  0.68\n",
      "For epsilon = 3.8979591836734695  and number of min samples 30.0 , percentage of outliers is:  0.45\n",
      "For epsilon = 3.989795918367347  and number of min samples 30.0 , percentage of outliers is:  0.45\n",
      "For epsilon = 4.081632653061225  and number of min samples 30.0 , percentage of outliers is:  0.45\n",
      "For epsilon = 4.173469387755102  and number of min samples 30.0 , percentage of outliers is:  0.45\n",
      "For epsilon = 4.26530612244898  and number of min samples 30.0 , percentage of outliers is:  0.23\n",
      "For epsilon = 4.357142857142858  and number of min samples 30.0 , percentage of outliers is:  0.23\n",
      "For epsilon = 4.448979591836735  and number of min samples 30.0 , percentage of outliers is:  0.23\n",
      "For epsilon = 4.540816326530613  and number of min samples 30.0 , percentage of outliers is:  0.23\n",
      "For epsilon = 4.63265306122449  and number of min samples 30.0 , percentage of outliers is:  0.23\n",
      "For epsilon = 4.724489795918368  and number of min samples 30.0 , percentage of outliers is:  0.23\n",
      "For epsilon = 4.816326530612245  and number of min samples 30.0 , percentage of outliers is:  0.23\n",
      "For epsilon = 4.908163265306123  and number of min samples 30.0 , percentage of outliers is:  0.23\n",
      "For epsilon = 5.0  and number of min samples 30.0 , percentage of outliers is:  0.23\n",
      "For epsilon = 0.5  and number of min samples 40.0 , percentage of outliers is:  13.18\n",
      "For epsilon = 0.5918367346938775  and number of min samples 40.0 , percentage of outliers is:  11.14\n",
      "For epsilon = 0.6836734693877551  and number of min samples 40.0 , percentage of outliers is:  8.18\n",
      "For epsilon = 0.7755102040816326  and number of min samples 40.0 , percentage of outliers is:  6.82\n",
      "For epsilon = 0.8673469387755102  and number of min samples 40.0 , percentage of outliers is:  5.91\n",
      "For epsilon = 0.9591836734693877  and number of min samples 40.0 , percentage of outliers is:  5.45\n",
      "For epsilon = 1.0510204081632653  and number of min samples 40.0 , percentage of outliers is:  4.09\n",
      "For epsilon = 1.1428571428571428  and number of min samples 40.0 , percentage of outliers is:  3.86\n",
      "For epsilon = 1.2346938775510203  and number of min samples 40.0 , percentage of outliers is:  3.64\n",
      "For epsilon = 1.3265306122448979  and number of min samples 40.0 , percentage of outliers is:  3.18\n",
      "For epsilon = 1.4183673469387754  and number of min samples 40.0 , percentage of outliers is:  2.73\n",
      "For epsilon = 1.5102040816326532  and number of min samples 40.0 , percentage of outliers is:  2.5\n",
      "For epsilon = 1.6020408163265307  and number of min samples 40.0 , percentage of outliers is:  2.5\n",
      "For epsilon = 1.6938775510204083  and number of min samples 40.0 , percentage of outliers is:  2.05\n",
      "For epsilon = 1.7857142857142858  and number of min samples 40.0 , percentage of outliers is:  2.05\n",
      "For epsilon = 1.8775510204081634  and number of min samples 40.0 , percentage of outliers is:  1.59\n",
      "For epsilon = 1.969387755102041  and number of min samples 40.0 , percentage of outliers is:  1.36\n",
      "For epsilon = 2.0612244897959187  and number of min samples 40.0 , percentage of outliers is:  1.36\n",
      "For epsilon = 2.1530612244897958  and number of min samples 40.0 , percentage of outliers is:  1.36\n",
      "For epsilon = 2.2448979591836737  and number of min samples 40.0 , percentage of outliers is:  1.36\n",
      "For epsilon = 2.336734693877551  and number of min samples 40.0 , percentage of outliers is:  1.36\n",
      "For epsilon = 2.428571428571429  and number of min samples 40.0 , percentage of outliers is:  1.36\n",
      "For epsilon = 2.5204081632653064  and number of min samples 40.0 , percentage of outliers is:  1.14\n",
      "For epsilon = 2.612244897959184  and number of min samples 40.0 , percentage of outliers is:  1.14\n",
      "For epsilon = 2.7040816326530615  and number of min samples 40.0 , percentage of outliers is:  1.14\n",
      "For epsilon = 2.795918367346939  and number of min samples 40.0 , percentage of outliers is:  1.14\n",
      "For epsilon = 2.8877551020408165  and number of min samples 40.0 , percentage of outliers is:  1.14\n",
      "For epsilon = 2.979591836734694  and number of min samples 40.0 , percentage of outliers is:  1.14\n",
      "For epsilon = 3.0714285714285716  and number of min samples 40.0 , percentage of outliers is:  1.14\n",
      "For epsilon = 3.163265306122449  and number of min samples 40.0 , percentage of outliers is:  1.14\n",
      "For epsilon = 3.2551020408163267  and number of min samples 40.0 , percentage of outliers is:  0.91\n",
      "For epsilon = 3.3469387755102042  and number of min samples 40.0 , percentage of outliers is:  0.68\n",
      "For epsilon = 3.438775510204082  and number of min samples 40.0 , percentage of outliers is:  0.68\n",
      "For epsilon = 3.5306122448979593  and number of min samples 40.0 , percentage of outliers is:  0.68\n",
      "For epsilon = 3.622448979591837  and number of min samples 40.0 , percentage of outliers is:  0.68\n",
      "For epsilon = 3.7142857142857144  and number of min samples 40.0 , percentage of outliers is:  0.68\n",
      "For epsilon = 3.806122448979592  and number of min samples 40.0 , percentage of outliers is:  0.68\n",
      "For epsilon = 3.8979591836734695  and number of min samples 40.0 , percentage of outliers is:  0.45\n",
      "For epsilon = 3.989795918367347  and number of min samples 40.0 , percentage of outliers is:  0.45\n",
      "For epsilon = 4.081632653061225  and number of min samples 40.0 , percentage of outliers is:  0.45\n",
      "For epsilon = 4.173469387755102  and number of min samples 40.0 , percentage of outliers is:  0.45\n",
      "For epsilon = 4.26530612244898  and number of min samples 40.0 , percentage of outliers is:  0.45\n",
      "For epsilon = 4.357142857142858  and number of min samples 40.0 , percentage of outliers is:  0.23\n",
      "For epsilon = 4.448979591836735  and number of min samples 40.0 , percentage of outliers is:  0.23\n",
      "For epsilon = 4.540816326530613  and number of min samples 40.0 , percentage of outliers is:  0.23\n",
      "For epsilon = 4.63265306122449  and number of min samples 40.0 , percentage of outliers is:  0.23\n",
      "For epsilon = 4.724489795918368  and number of min samples 40.0 , percentage of outliers is:  0.23\n",
      "For epsilon = 4.816326530612245  and number of min samples 40.0 , percentage of outliers is:  0.23\n",
      "For epsilon = 4.908163265306123  and number of min samples 40.0 , percentage of outliers is:  0.23\n",
      "For epsilon = 5.0  and number of min samples 40.0 , percentage of outliers is:  0.23\n",
      "For epsilon = 0.5  and number of min samples 50.0 , percentage of outliers is:  14.32\n",
      "For epsilon = 0.5918367346938775  and number of min samples 50.0 , percentage of outliers is:  11.82\n",
      "For epsilon = 0.6836734693877551  and number of min samples 50.0 , percentage of outliers is:  10.0\n",
      "For epsilon = 0.7755102040816326  and number of min samples 50.0 , percentage of outliers is:  7.27\n",
      "For epsilon = 0.8673469387755102  and number of min samples 50.0 , percentage of outliers is:  6.59\n",
      "For epsilon = 0.9591836734693877  and number of min samples 50.0 , percentage of outliers is:  5.91\n",
      "For epsilon = 1.0510204081632653  and number of min samples 50.0 , percentage of outliers is:  5.0\n",
      "For epsilon = 1.1428571428571428  and number of min samples 50.0 , percentage of outliers is:  4.09\n",
      "For epsilon = 1.2346938775510203  and number of min samples 50.0 , percentage of outliers is:  3.64\n",
      "For epsilon = 1.3265306122448979  and number of min samples 50.0 , percentage of outliers is:  3.41\n",
      "For epsilon = 1.4183673469387754  and number of min samples 50.0 , percentage of outliers is:  2.95\n",
      "For epsilon = 1.5102040816326532  and number of min samples 50.0 , percentage of outliers is:  2.73\n",
      "For epsilon = 1.6020408163265307  and number of min samples 50.0 , percentage of outliers is:  2.5\n",
      "For epsilon = 1.6938775510204083  and number of min samples 50.0 , percentage of outliers is:  2.05\n",
      "For epsilon = 1.7857142857142858  and number of min samples 50.0 , percentage of outliers is:  2.05\n",
      "For epsilon = 1.8775510204081634  and number of min samples 50.0 , percentage of outliers is:  1.59\n",
      "For epsilon = 1.969387755102041  and number of min samples 50.0 , percentage of outliers is:  1.36\n",
      "For epsilon = 2.0612244897959187  and number of min samples 50.0 , percentage of outliers is:  1.36\n",
      "For epsilon = 2.1530612244897958  and number of min samples 50.0 , percentage of outliers is:  1.36\n",
      "For epsilon = 2.2448979591836737  and number of min samples 50.0 , percentage of outliers is:  1.36\n",
      "For epsilon = 2.336734693877551  and number of min samples 50.0 , percentage of outliers is:  1.36\n",
      "For epsilon = 2.428571428571429  and number of min samples 50.0 , percentage of outliers is:  1.36\n",
      "For epsilon = 2.5204081632653064  and number of min samples 50.0 , percentage of outliers is:  1.14\n",
      "For epsilon = 2.612244897959184  and number of min samples 50.0 , percentage of outliers is:  1.14\n",
      "For epsilon = 2.7040816326530615  and number of min samples 50.0 , percentage of outliers is:  1.14\n",
      "For epsilon = 2.795918367346939  and number of min samples 50.0 , percentage of outliers is:  1.14\n",
      "For epsilon = 2.8877551020408165  and number of min samples 50.0 , percentage of outliers is:  1.14\n",
      "For epsilon = 2.979591836734694  and number of min samples 50.0 , percentage of outliers is:  1.14\n",
      "For epsilon = 3.0714285714285716  and number of min samples 50.0 , percentage of outliers is:  1.14\n",
      "For epsilon = 3.163265306122449  and number of min samples 50.0 , percentage of outliers is:  1.14\n",
      "For epsilon = 3.2551020408163267  and number of min samples 50.0 , percentage of outliers is:  1.14\n",
      "For epsilon = 3.3469387755102042  and number of min samples 50.0 , percentage of outliers is:  0.91\n",
      "For epsilon = 3.438775510204082  and number of min samples 50.0 , percentage of outliers is:  0.68\n",
      "For epsilon = 3.5306122448979593  and number of min samples 50.0 , percentage of outliers is:  0.68\n",
      "For epsilon = 3.622448979591837  and number of min samples 50.0 , percentage of outliers is:  0.68\n",
      "For epsilon = 3.7142857142857144  and number of min samples 50.0 , percentage of outliers is:  0.68\n",
      "For epsilon = 3.806122448979592  and number of min samples 50.0 , percentage of outliers is:  0.68\n",
      "For epsilon = 3.8979591836734695  and number of min samples 50.0 , percentage of outliers is:  0.45\n",
      "For epsilon = 3.989795918367347  and number of min samples 50.0 , percentage of outliers is:  0.45\n",
      "For epsilon = 4.081632653061225  and number of min samples 50.0 , percentage of outliers is:  0.45\n",
      "For epsilon = 4.173469387755102  and number of min samples 50.0 , percentage of outliers is:  0.45\n",
      "For epsilon = 4.26530612244898  and number of min samples 50.0 , percentage of outliers is:  0.45\n",
      "For epsilon = 4.357142857142858  and number of min samples 50.0 , percentage of outliers is:  0.45\n",
      "For epsilon = 4.448979591836735  and number of min samples 50.0 , percentage of outliers is:  0.45\n",
      "For epsilon = 4.540816326530613  and number of min samples 50.0 , percentage of outliers is:  0.23\n",
      "For epsilon = 4.63265306122449  and number of min samples 50.0 , percentage of outliers is:  0.23\n",
      "For epsilon = 4.724489795918368  and number of min samples 50.0 , percentage of outliers is:  0.23\n",
      "For epsilon = 4.816326530612245  and number of min samples 50.0 , percentage of outliers is:  0.23\n",
      "For epsilon = 4.908163265306123  and number of min samples 50.0 , percentage of outliers is:  0.23\n",
      "For epsilon = 5.0  and number of min samples 50.0 , percentage of outliers is:  0.23\n",
      "For epsilon = 0.5  and number of min samples 60.0 , percentage of outliers is:  15.23\n",
      "For epsilon = 0.5918367346938775  and number of min samples 60.0 , percentage of outliers is:  13.18\n",
      "For epsilon = 0.6836734693877551  and number of min samples 60.0 , percentage of outliers is:  10.91\n",
      "For epsilon = 0.7755102040816326  and number of min samples 60.0 , percentage of outliers is:  8.64\n",
      "For epsilon = 0.8673469387755102  and number of min samples 60.0 , percentage of outliers is:  6.82\n",
      "For epsilon = 0.9591836734693877  and number of min samples 60.0 , percentage of outliers is:  6.59\n",
      "For epsilon = 1.0510204081632653  and number of min samples 60.0 , percentage of outliers is:  5.68\n",
      "For epsilon = 1.1428571428571428  and number of min samples 60.0 , percentage of outliers is:  5.0\n",
      "For epsilon = 1.2346938775510203  and number of min samples 60.0 , percentage of outliers is:  4.09\n",
      "For epsilon = 1.3265306122448979  and number of min samples 60.0 , percentage of outliers is:  3.41\n",
      "For epsilon = 1.4183673469387754  and number of min samples 60.0 , percentage of outliers is:  3.18\n",
      "For epsilon = 1.5102040816326532  and number of min samples 60.0 , percentage of outliers is:  2.73\n",
      "For epsilon = 1.6020408163265307  and number of min samples 60.0 , percentage of outliers is:  2.73\n",
      "For epsilon = 1.6938775510204083  and number of min samples 60.0 , percentage of outliers is:  2.5\n",
      "For epsilon = 1.7857142857142858  and number of min samples 60.0 , percentage of outliers is:  2.27\n",
      "For epsilon = 1.8775510204081634  and number of min samples 60.0 , percentage of outliers is:  2.05\n",
      "For epsilon = 1.969387755102041  and number of min samples 60.0 , percentage of outliers is:  1.36\n",
      "For epsilon = 2.0612244897959187  and number of min samples 60.0 , percentage of outliers is:  1.36\n",
      "For epsilon = 2.1530612244897958  and number of min samples 60.0 , percentage of outliers is:  1.36\n",
      "For epsilon = 2.2448979591836737  and number of min samples 60.0 , percentage of outliers is:  1.36\n",
      "For epsilon = 2.336734693877551  and number of min samples 60.0 , percentage of outliers is:  1.36\n",
      "For epsilon = 2.428571428571429  and number of min samples 60.0 , percentage of outliers is:  1.36\n",
      "For epsilon = 2.5204081632653064  and number of min samples 60.0 , percentage of outliers is:  1.14\n",
      "For epsilon = 2.612244897959184  and number of min samples 60.0 , percentage of outliers is:  1.14\n",
      "For epsilon = 2.7040816326530615  and number of min samples 60.0 , percentage of outliers is:  1.14\n",
      "For epsilon = 2.795918367346939  and number of min samples 60.0 , percentage of outliers is:  1.14\n",
      "For epsilon = 2.8877551020408165  and number of min samples 60.0 , percentage of outliers is:  1.14\n",
      "For epsilon = 2.979591836734694  and number of min samples 60.0 , percentage of outliers is:  1.14\n",
      "For epsilon = 3.0714285714285716  and number of min samples 60.0 , percentage of outliers is:  1.14\n",
      "For epsilon = 3.163265306122449  and number of min samples 60.0 , percentage of outliers is:  1.14\n",
      "For epsilon = 3.2551020408163267  and number of min samples 60.0 , percentage of outliers is:  1.14\n",
      "For epsilon = 3.3469387755102042  and number of min samples 60.0 , percentage of outliers is:  0.91\n",
      "For epsilon = 3.438775510204082  and number of min samples 60.0 , percentage of outliers is:  0.91\n",
      "For epsilon = 3.5306122448979593  and number of min samples 60.0 , percentage of outliers is:  0.68\n",
      "For epsilon = 3.622448979591837  and number of min samples 60.0 , percentage of outliers is:  0.68\n",
      "For epsilon = 3.7142857142857144  and number of min samples 60.0 , percentage of outliers is:  0.68\n",
      "For epsilon = 3.806122448979592  and number of min samples 60.0 , percentage of outliers is:  0.68\n",
      "For epsilon = 3.8979591836734695  and number of min samples 60.0 , percentage of outliers is:  0.45\n",
      "For epsilon = 3.989795918367347  and number of min samples 60.0 , percentage of outliers is:  0.45\n",
      "For epsilon = 4.081632653061225  and number of min samples 60.0 , percentage of outliers is:  0.45\n",
      "For epsilon = 4.173469387755102  and number of min samples 60.0 , percentage of outliers is:  0.45\n",
      "For epsilon = 4.26530612244898  and number of min samples 60.0 , percentage of outliers is:  0.45\n",
      "For epsilon = 4.357142857142858  and number of min samples 60.0 , percentage of outliers is:  0.45\n",
      "For epsilon = 4.448979591836735  and number of min samples 60.0 , percentage of outliers is:  0.45\n",
      "For epsilon = 4.540816326530613  and number of min samples 60.0 , percentage of outliers is:  0.45\n",
      "For epsilon = 4.63265306122449  and number of min samples 60.0 , percentage of outliers is:  0.23\n",
      "For epsilon = 4.724489795918368  and number of min samples 60.0 , percentage of outliers is:  0.23\n",
      "For epsilon = 4.816326530612245  and number of min samples 60.0 , percentage of outliers is:  0.23\n",
      "For epsilon = 4.908163265306123  and number of min samples 60.0 , percentage of outliers is:  0.23\n",
      "For epsilon = 5.0  and number of min samples 60.0 , percentage of outliers is:  0.23\n",
      "For epsilon = 0.5  and number of min samples 70.0 , percentage of outliers is:  16.82\n",
      "For epsilon = 0.5918367346938775  and number of min samples 70.0 , percentage of outliers is:  13.64\n",
      "For epsilon = 0.6836734693877551  and number of min samples 70.0 , percentage of outliers is:  10.91\n",
      "For epsilon = 0.7755102040816326  and number of min samples 70.0 , percentage of outliers is:  9.77\n",
      "For epsilon = 0.8673469387755102  and number of min samples 70.0 , percentage of outliers is:  7.5\n",
      "For epsilon = 0.9591836734693877  and number of min samples 70.0 , percentage of outliers is:  6.59\n",
      "For epsilon = 1.0510204081632653  and number of min samples 70.0 , percentage of outliers is:  5.68\n",
      "For epsilon = 1.1428571428571428  and number of min samples 70.0 , percentage of outliers is:  5.23\n",
      "For epsilon = 1.2346938775510203  and number of min samples 70.0 , percentage of outliers is:  4.09\n",
      "For epsilon = 1.3265306122448979  and number of min samples 70.0 , percentage of outliers is:  3.86\n",
      "For epsilon = 1.4183673469387754  and number of min samples 70.0 , percentage of outliers is:  3.18\n",
      "For epsilon = 1.5102040816326532  and number of min samples 70.0 , percentage of outliers is:  2.95\n",
      "For epsilon = 1.6020408163265307  and number of min samples 70.0 , percentage of outliers is:  2.95\n",
      "For epsilon = 1.6938775510204083  and number of min samples 70.0 , percentage of outliers is:  2.73\n",
      "For epsilon = 1.7857142857142858  and number of min samples 70.0 , percentage of outliers is:  2.5\n",
      "For epsilon = 1.8775510204081634  and number of min samples 70.0 , percentage of outliers is:  2.27\n",
      "For epsilon = 1.969387755102041  and number of min samples 70.0 , percentage of outliers is:  2.05\n",
      "For epsilon = 2.0612244897959187  and number of min samples 70.0 , percentage of outliers is:  1.36\n",
      "For epsilon = 2.1530612244897958  and number of min samples 70.0 , percentage of outliers is:  1.36\n",
      "For epsilon = 2.2448979591836737  and number of min samples 70.0 , percentage of outliers is:  1.36\n",
      "For epsilon = 2.336734693877551  and number of min samples 70.0 , percentage of outliers is:  1.36\n",
      "For epsilon = 2.428571428571429  and number of min samples 70.0 , percentage of outliers is:  1.36\n",
      "For epsilon = 2.5204081632653064  and number of min samples 70.0 , percentage of outliers is:  1.14\n",
      "For epsilon = 2.612244897959184  and number of min samples 70.0 , percentage of outliers is:  1.14\n",
      "For epsilon = 2.7040816326530615  and number of min samples 70.0 , percentage of outliers is:  1.14\n",
      "For epsilon = 2.795918367346939  and number of min samples 70.0 , percentage of outliers is:  1.14\n",
      "For epsilon = 2.8877551020408165  and number of min samples 70.0 , percentage of outliers is:  1.14\n",
      "For epsilon = 2.979591836734694  and number of min samples 70.0 , percentage of outliers is:  1.14\n",
      "For epsilon = 3.0714285714285716  and number of min samples 70.0 , percentage of outliers is:  1.14\n",
      "For epsilon = 3.163265306122449  and number of min samples 70.0 , percentage of outliers is:  1.14\n",
      "For epsilon = 3.2551020408163267  and number of min samples 70.0 , percentage of outliers is:  1.14\n",
      "For epsilon = 3.3469387755102042  and number of min samples 70.0 , percentage of outliers is:  0.91\n",
      "For epsilon = 3.438775510204082  and number of min samples 70.0 , percentage of outliers is:  0.91\n",
      "For epsilon = 3.5306122448979593  and number of min samples 70.0 , percentage of outliers is:  0.68\n",
      "For epsilon = 3.622448979591837  and number of min samples 70.0 , percentage of outliers is:  0.68\n",
      "For epsilon = 3.7142857142857144  and number of min samples 70.0 , percentage of outliers is:  0.68\n",
      "For epsilon = 3.806122448979592  and number of min samples 70.0 , percentage of outliers is:  0.68\n",
      "For epsilon = 3.8979591836734695  and number of min samples 70.0 , percentage of outliers is:  0.45\n",
      "For epsilon = 3.989795918367347  and number of min samples 70.0 , percentage of outliers is:  0.45\n",
      "For epsilon = 4.081632653061225  and number of min samples 70.0 , percentage of outliers is:  0.45\n",
      "For epsilon = 4.173469387755102  and number of min samples 70.0 , percentage of outliers is:  0.45\n",
      "For epsilon = 4.26530612244898  and number of min samples 70.0 , percentage of outliers is:  0.45\n",
      "For epsilon = 4.357142857142858  and number of min samples 70.0 , percentage of outliers is:  0.45\n",
      "For epsilon = 4.448979591836735  and number of min samples 70.0 , percentage of outliers is:  0.45\n",
      "For epsilon = 4.540816326530613  and number of min samples 70.0 , percentage of outliers is:  0.45\n",
      "For epsilon = 4.63265306122449  and number of min samples 70.0 , percentage of outliers is:  0.45\n",
      "For epsilon = 4.724489795918368  and number of min samples 70.0 , percentage of outliers is:  0.45\n",
      "For epsilon = 4.816326530612245  and number of min samples 70.0 , percentage of outliers is:  0.23\n",
      "For epsilon = 4.908163265306123  and number of min samples 70.0 , percentage of outliers is:  0.23\n",
      "For epsilon = 5.0  and number of min samples 70.0 , percentage of outliers is:  0.23\n",
      "For epsilon = 0.5  and number of min samples 80.0 , percentage of outliers is:  19.09\n",
      "For epsilon = 0.5918367346938775  and number of min samples 80.0 , percentage of outliers is:  14.55\n",
      "For epsilon = 0.6836734693877551  and number of min samples 80.0 , percentage of outliers is:  11.82\n",
      "For epsilon = 0.7755102040816326  and number of min samples 80.0 , percentage of outliers is:  10.68\n",
      "For epsilon = 0.8673469387755102  and number of min samples 80.0 , percentage of outliers is:  7.5\n",
      "For epsilon = 0.9591836734693877  and number of min samples 80.0 , percentage of outliers is:  6.82\n",
      "For epsilon = 1.0510204081632653  and number of min samples 80.0 , percentage of outliers is:  5.91\n",
      "For epsilon = 1.1428571428571428  and number of min samples 80.0 , percentage of outliers is:  5.45\n",
      "For epsilon = 1.2346938775510203  and number of min samples 80.0 , percentage of outliers is:  4.55\n",
      "For epsilon = 1.3265306122448979  and number of min samples 80.0 , percentage of outliers is:  4.09\n",
      "For epsilon = 1.4183673469387754  and number of min samples 80.0 , percentage of outliers is:  3.18\n",
      "For epsilon = 1.5102040816326532  and number of min samples 80.0 , percentage of outliers is:  2.95\n",
      "For epsilon = 1.6020408163265307  and number of min samples 80.0 , percentage of outliers is:  2.95\n",
      "For epsilon = 1.6938775510204083  and number of min samples 80.0 , percentage of outliers is:  2.73\n",
      "For epsilon = 1.7857142857142858  and number of min samples 80.0 , percentage of outliers is:  2.73\n",
      "For epsilon = 1.8775510204081634  and number of min samples 80.0 , percentage of outliers is:  2.27\n",
      "For epsilon = 1.969387755102041  and number of min samples 80.0 , percentage of outliers is:  2.05\n",
      "For epsilon = 2.0612244897959187  and number of min samples 80.0 , percentage of outliers is:  2.05\n",
      "For epsilon = 2.1530612244897958  and number of min samples 80.0 , percentage of outliers is:  1.36\n",
      "For epsilon = 2.2448979591836737  and number of min samples 80.0 , percentage of outliers is:  1.36\n",
      "For epsilon = 2.336734693877551  and number of min samples 80.0 , percentage of outliers is:  1.36\n",
      "For epsilon = 2.428571428571429  and number of min samples 80.0 , percentage of outliers is:  1.36\n",
      "For epsilon = 2.5204081632653064  and number of min samples 80.0 , percentage of outliers is:  1.36\n",
      "For epsilon = 2.612244897959184  and number of min samples 80.0 , percentage of outliers is:  1.14\n",
      "For epsilon = 2.7040816326530615  and number of min samples 80.0 , percentage of outliers is:  1.14\n",
      "For epsilon = 2.795918367346939  and number of min samples 80.0 , percentage of outliers is:  1.14\n",
      "For epsilon = 2.8877551020408165  and number of min samples 80.0 , percentage of outliers is:  1.14\n",
      "For epsilon = 2.979591836734694  and number of min samples 80.0 , percentage of outliers is:  1.14\n",
      "For epsilon = 3.0714285714285716  and number of min samples 80.0 , percentage of outliers is:  1.14\n",
      "For epsilon = 3.163265306122449  and number of min samples 80.0 , percentage of outliers is:  1.14\n",
      "For epsilon = 3.2551020408163267  and number of min samples 80.0 , percentage of outliers is:  1.14\n",
      "For epsilon = 3.3469387755102042  and number of min samples 80.0 , percentage of outliers is:  0.91\n",
      "For epsilon = 3.438775510204082  and number of min samples 80.0 , percentage of outliers is:  0.91\n",
      "For epsilon = 3.5306122448979593  and number of min samples 80.0 , percentage of outliers is:  0.68\n",
      "For epsilon = 3.622448979591837  and number of min samples 80.0 , percentage of outliers is:  0.68\n",
      "For epsilon = 3.7142857142857144  and number of min samples 80.0 , percentage of outliers is:  0.68\n",
      "For epsilon = 3.806122448979592  and number of min samples 80.0 , percentage of outliers is:  0.68\n",
      "For epsilon = 3.8979591836734695  and number of min samples 80.0 , percentage of outliers is:  0.68\n",
      "For epsilon = 3.989795918367347  and number of min samples 80.0 , percentage of outliers is:  0.45\n",
      "For epsilon = 4.081632653061225  and number of min samples 80.0 , percentage of outliers is:  0.45\n",
      "For epsilon = 4.173469387755102  and number of min samples 80.0 , percentage of outliers is:  0.45\n",
      "For epsilon = 4.26530612244898  and number of min samples 80.0 , percentage of outliers is:  0.45\n",
      "For epsilon = 4.357142857142858  and number of min samples 80.0 , percentage of outliers is:  0.45\n",
      "For epsilon = 4.448979591836735  and number of min samples 80.0 , percentage of outliers is:  0.45\n",
      "For epsilon = 4.540816326530613  and number of min samples 80.0 , percentage of outliers is:  0.45\n",
      "For epsilon = 4.63265306122449  and number of min samples 80.0 , percentage of outliers is:  0.45\n",
      "For epsilon = 4.724489795918368  and number of min samples 80.0 , percentage of outliers is:  0.45\n",
      "For epsilon = 4.816326530612245  and number of min samples 80.0 , percentage of outliers is:  0.45\n",
      "For epsilon = 4.908163265306123  and number of min samples 80.0 , percentage of outliers is:  0.23\n",
      "For epsilon = 5.0  and number of min samples 80.0 , percentage of outliers is:  0.23\n",
      "For epsilon = 0.5  and number of min samples 90.0 , percentage of outliers is:  21.59\n",
      "For epsilon = 0.5918367346938775  and number of min samples 90.0 , percentage of outliers is:  15.68\n",
      "For epsilon = 0.6836734693877551  and number of min samples 90.0 , percentage of outliers is:  13.41\n",
      "For epsilon = 0.7755102040816326  and number of min samples 90.0 , percentage of outliers is:  11.14\n",
      "For epsilon = 0.8673469387755102  and number of min samples 90.0 , percentage of outliers is:  8.64\n",
      "For epsilon = 0.9591836734693877  and number of min samples 90.0 , percentage of outliers is:  7.05\n",
      "For epsilon = 1.0510204081632653  and number of min samples 90.0 , percentage of outliers is:  6.59\n",
      "For epsilon = 1.1428571428571428  and number of min samples 90.0 , percentage of outliers is:  5.45\n",
      "For epsilon = 1.2346938775510203  and number of min samples 90.0 , percentage of outliers is:  5.0\n",
      "For epsilon = 1.3265306122448979  and number of min samples 90.0 , percentage of outliers is:  4.09\n",
      "For epsilon = 1.4183673469387754  and number of min samples 90.0 , percentage of outliers is:  3.41\n",
      "For epsilon = 1.5102040816326532  and number of min samples 90.0 , percentage of outliers is:  3.18\n",
      "For epsilon = 1.6020408163265307  and number of min samples 90.0 , percentage of outliers is:  2.95\n",
      "For epsilon = 1.6938775510204083  and number of min samples 90.0 , percentage of outliers is:  2.95\n",
      "For epsilon = 1.7857142857142858  and number of min samples 90.0 , percentage of outliers is:  2.73\n",
      "For epsilon = 1.8775510204081634  and number of min samples 90.0 , percentage of outliers is:  2.5\n",
      "For epsilon = 1.969387755102041  and number of min samples 90.0 , percentage of outliers is:  2.05\n",
      "For epsilon = 2.0612244897959187  and number of min samples 90.0 , percentage of outliers is:  2.05\n",
      "For epsilon = 2.1530612244897958  and number of min samples 90.0 , percentage of outliers is:  1.59\n",
      "For epsilon = 2.2448979591836737  and number of min samples 90.0 , percentage of outliers is:  1.36\n",
      "For epsilon = 2.336734693877551  and number of min samples 90.0 , percentage of outliers is:  1.36\n",
      "For epsilon = 2.428571428571429  and number of min samples 90.0 , percentage of outliers is:  1.36\n",
      "For epsilon = 2.5204081632653064  and number of min samples 90.0 , percentage of outliers is:  1.36\n",
      "For epsilon = 2.612244897959184  and number of min samples 90.0 , percentage of outliers is:  1.14\n",
      "For epsilon = 2.7040816326530615  and number of min samples 90.0 , percentage of outliers is:  1.14\n",
      "For epsilon = 2.795918367346939  and number of min samples 90.0 , percentage of outliers is:  1.14\n",
      "For epsilon = 2.8877551020408165  and number of min samples 90.0 , percentage of outliers is:  1.14\n",
      "For epsilon = 2.979591836734694  and number of min samples 90.0 , percentage of outliers is:  1.14\n",
      "For epsilon = 3.0714285714285716  and number of min samples 90.0 , percentage of outliers is:  1.14\n",
      "For epsilon = 3.163265306122449  and number of min samples 90.0 , percentage of outliers is:  1.14\n",
      "For epsilon = 3.2551020408163267  and number of min samples 90.0 , percentage of outliers is:  1.14\n",
      "For epsilon = 3.3469387755102042  and number of min samples 90.0 , percentage of outliers is:  1.14\n",
      "For epsilon = 3.438775510204082  and number of min samples 90.0 , percentage of outliers is:  0.91\n",
      "For epsilon = 3.5306122448979593  and number of min samples 90.0 , percentage of outliers is:  0.68\n",
      "For epsilon = 3.622448979591837  and number of min samples 90.0 , percentage of outliers is:  0.68\n",
      "For epsilon = 3.7142857142857144  and number of min samples 90.0 , percentage of outliers is:  0.68\n",
      "For epsilon = 3.806122448979592  and number of min samples 90.0 , percentage of outliers is:  0.68\n",
      "For epsilon = 3.8979591836734695  and number of min samples 90.0 , percentage of outliers is:  0.68\n",
      "For epsilon = 3.989795918367347  and number of min samples 90.0 , percentage of outliers is:  0.68\n",
      "For epsilon = 4.081632653061225  and number of min samples 90.0 , percentage of outliers is:  0.45\n",
      "For epsilon = 4.173469387755102  and number of min samples 90.0 , percentage of outliers is:  0.45\n",
      "For epsilon = 4.26530612244898  and number of min samples 90.0 , percentage of outliers is:  0.45\n",
      "For epsilon = 4.357142857142858  and number of min samples 90.0 , percentage of outliers is:  0.45\n",
      "For epsilon = 4.448979591836735  and number of min samples 90.0 , percentage of outliers is:  0.45\n",
      "For epsilon = 4.540816326530613  and number of min samples 90.0 , percentage of outliers is:  0.45\n",
      "For epsilon = 4.63265306122449  and number of min samples 90.0 , percentage of outliers is:  0.45\n",
      "For epsilon = 4.724489795918368  and number of min samples 90.0 , percentage of outliers is:  0.45\n",
      "For epsilon = 4.816326530612245  and number of min samples 90.0 , percentage of outliers is:  0.45\n",
      "For epsilon = 4.908163265306123  and number of min samples 90.0 , percentage of outliers is:  0.45\n",
      "For epsilon = 5.0  and number of min samples 90.0 , percentage of outliers is:  0.23\n",
      "For epsilon = 0.5  and number of min samples 100.0 , percentage of outliers is:  21.59\n",
      "For epsilon = 0.5918367346938775  and number of min samples 100.0 , percentage of outliers is:  16.59\n",
      "For epsilon = 0.6836734693877551  and number of min samples 100.0 , percentage of outliers is:  13.86\n",
      "For epsilon = 0.7755102040816326  and number of min samples 100.0 , percentage of outliers is:  11.59\n",
      "For epsilon = 0.8673469387755102  and number of min samples 100.0 , percentage of outliers is:  9.32\n",
      "For epsilon = 0.9591836734693877  and number of min samples 100.0 , percentage of outliers is:  7.27\n",
      "For epsilon = 1.0510204081632653  and number of min samples 100.0 , percentage of outliers is:  6.59\n",
      "For epsilon = 1.1428571428571428  and number of min samples 100.0 , percentage of outliers is:  6.14\n",
      "For epsilon = 1.2346938775510203  and number of min samples 100.0 , percentage of outliers is:  5.45\n",
      "For epsilon = 1.3265306122448979  and number of min samples 100.0 , percentage of outliers is:  4.09\n",
      "For epsilon = 1.4183673469387754  and number of min samples 100.0 , percentage of outliers is:  3.86\n",
      "For epsilon = 1.5102040816326532  and number of min samples 100.0 , percentage of outliers is:  3.18\n",
      "For epsilon = 1.6020408163265307  and number of min samples 100.0 , percentage of outliers is:  2.95\n",
      "For epsilon = 1.6938775510204083  and number of min samples 100.0 , percentage of outliers is:  2.95\n",
      "For epsilon = 1.7857142857142858  and number of min samples 100.0 , percentage of outliers is:  2.73\n",
      "For epsilon = 1.8775510204081634  and number of min samples 100.0 , percentage of outliers is:  2.5\n",
      "For epsilon = 1.969387755102041  and number of min samples 100.0 , percentage of outliers is:  2.05\n",
      "For epsilon = 2.0612244897959187  and number of min samples 100.0 , percentage of outliers is:  2.05\n",
      "For epsilon = 2.1530612244897958  and number of min samples 100.0 , percentage of outliers is:  1.59\n",
      "For epsilon = 2.2448979591836737  and number of min samples 100.0 , percentage of outliers is:  1.36\n",
      "For epsilon = 2.336734693877551  and number of min samples 100.0 , percentage of outliers is:  1.36\n",
      "For epsilon = 2.428571428571429  and number of min samples 100.0 , percentage of outliers is:  1.36\n",
      "For epsilon = 2.5204081632653064  and number of min samples 100.0 , percentage of outliers is:  1.36\n",
      "For epsilon = 2.612244897959184  and number of min samples 100.0 , percentage of outliers is:  1.14\n",
      "For epsilon = 2.7040816326530615  and number of min samples 100.0 , percentage of outliers is:  1.14\n",
      "For epsilon = 2.795918367346939  and number of min samples 100.0 , percentage of outliers is:  1.14\n",
      "For epsilon = 2.8877551020408165  and number of min samples 100.0 , percentage of outliers is:  1.14\n",
      "For epsilon = 2.979591836734694  and number of min samples 100.0 , percentage of outliers is:  1.14\n",
      "For epsilon = 3.0714285714285716  and number of min samples 100.0 , percentage of outliers is:  1.14\n",
      "For epsilon = 3.163265306122449  and number of min samples 100.0 , percentage of outliers is:  1.14\n",
      "For epsilon = 3.2551020408163267  and number of min samples 100.0 , percentage of outliers is:  1.14\n",
      "For epsilon = 3.3469387755102042  and number of min samples 100.0 , percentage of outliers is:  1.14\n",
      "For epsilon = 3.438775510204082  and number of min samples 100.0 , percentage of outliers is:  0.91\n",
      "For epsilon = 3.5306122448979593  and number of min samples 100.0 , percentage of outliers is:  0.68\n",
      "For epsilon = 3.622448979591837  and number of min samples 100.0 , percentage of outliers is:  0.68\n",
      "For epsilon = 3.7142857142857144  and number of min samples 100.0 , percentage of outliers is:  0.68\n",
      "For epsilon = 3.806122448979592  and number of min samples 100.0 , percentage of outliers is:  0.68\n",
      "For epsilon = 3.8979591836734695  and number of min samples 100.0 , percentage of outliers is:  0.68\n",
      "For epsilon = 3.989795918367347  and number of min samples 100.0 , percentage of outliers is:  0.68\n",
      "For epsilon = 4.081632653061225  and number of min samples 100.0 , percentage of outliers is:  0.68\n",
      "For epsilon = 4.173469387755102  and number of min samples 100.0 , percentage of outliers is:  0.45\n",
      "For epsilon = 4.26530612244898  and number of min samples 100.0 , percentage of outliers is:  0.45\n",
      "For epsilon = 4.357142857142858  and number of min samples 100.0 , percentage of outliers is:  0.45\n",
      "For epsilon = 4.448979591836735  and number of min samples 100.0 , percentage of outliers is:  0.45\n",
      "For epsilon = 4.540816326530613  and number of min samples 100.0 , percentage of outliers is:  0.45\n",
      "For epsilon = 4.63265306122449  and number of min samples 100.0 , percentage of outliers is:  0.45\n",
      "For epsilon = 4.724489795918368  and number of min samples 100.0 , percentage of outliers is:  0.45\n",
      "For epsilon = 4.816326530612245  and number of min samples 100.0 , percentage of outliers is:  0.45\n",
      "For epsilon = 4.908163265306123  and number of min samples 100.0 , percentage of outliers is:  0.45\n",
      "For epsilon = 5.0  and number of min samples 100.0 , percentage of outliers is:  0.45\n"
     ]
    }
   ],
   "source": [
    "r=np.linspace(0.5,5)\n",
    "m=np.linspace(10,100,10)\n",
    "for mins in m:\n",
    "    for epsilon in r:\n",
    "        db = DBSCAN(eps=epsilon, min_samples=mins, metric='euclidean').fit(groc_std)\n",
    "        labels = db.labels_\n",
    "    #     n_clust=len(set(labels))-1\n",
    "        outlier=np.round((labels == -1).sum()/len(labels)*100,2)\n",
    "    #     print('Estimated number of clusters: %d', n_clust)\n",
    "        print(\"For epsilon =\", epsilon ,\" and number of min samples\", mins, \", percentage of outliers is: \",outlier)"
   ]
  },
  {
   "cell_type": "code",
   "execution_count": 77,
   "metadata": {},
   "outputs": [],
   "source": [
    "db = DBSCAN(eps=0.77, min_samples=20, metric='euclidean').fit(groc_std)\n",
    "groc['cluster']=db.labels_"
   ]
  },
  {
   "cell_type": "code",
   "execution_count": 78,
   "metadata": {},
   "outputs": [
    {
     "data": {
      "text/plain": [
       "<seaborn.axisgrid.FacetGrid at 0x7fc538d45790>"
      ]
     },
     "execution_count": 78,
     "metadata": {},
     "output_type": "execute_result"
    },
    {
     "data": {
      "image/png": "[encoded data removed]",
      "text/plain": [
       "<Figure size 406x360 with 1 Axes>"
      ]
     },
     "metadata": {
      "needs_background": "light"
     },
     "output_type": "display_data"
    }
   ],
   "source": [
    "sns.lmplot(x='Milk',y='Grocery',data=groc,fit_reg=False,hue='cluster')"
   ]
  },
  {
   "cell_type": "code",
   "execution_count": null,
   "metadata": {},
   "outputs": [],
   "source": []
  },
  {
   "cell_type": "code",
   "execution_count": null,
   "metadata": {},
   "outputs": [],
   "source": []
  }
 ],
 "metadata": {
  "kernelspec": {
   "display_name": "Python 3",
   "language": "python",
   "name": "python3"
  },
  "language_info": {
   "codemirror_mode": {
    "name": "ipython",
    "version": 3
   },
   "file_extension": ".py",
   "mimetype": "text/x-python",
   "name": "python",
   "nbconvert_exporter": "python",
   "pygments_lexer": "ipython3",
   "version": "3.7.4"
  }
 },
 "nbformat": 4,
 "nbformat_minor": 4
}
