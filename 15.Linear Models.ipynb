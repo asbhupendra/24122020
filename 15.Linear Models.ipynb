{
 "cells": [
  {
   "cell_type": "markdown",
   "metadata": {},
   "source": [
    "# Linear Regression "
   ]
  },
  {
   "cell_type": "code",
   "execution_count": 1,
   "metadata": {},
   "outputs": [],
   "source": [
    "import pandas as pd \n",
    "import numpy as np"
   ]
  },
  {
   "cell_type": "code",
   "execution_count": 1,
   "metadata": {},
   "outputs": [
    {
     "data": {
      "application/javascript": [
       "\n",
       "        if (window._pyforest_update_imports_cell) { window._pyforest_update_imports_cell('import pandas as pd'); }\n",
       "    "
      ],
      "text/plain": [
       "<IPython.core.display.Javascript object>"
      ]
     },
     "metadata": {},
     "output_type": "display_data"
    },
    {
     "data": {
      "application/javascript": [
       "\n",
       "        if (window._pyforest_update_imports_cell) { window._pyforest_update_imports_cell('import pandas as pd'); }\n",
       "    "
      ],
      "text/plain": [
       "<IPython.core.display.Javascript object>"
      ]
     },
     "metadata": {},
     "output_type": "display_data"
    }
   ],
   "source": [
    "train_file=r\"D:/A1...Data Science/02.Python ML/DATA/loan_data_train.csv\"\n",
    "test_file=r\"D:/A1...Data Science/02.Python ML/DATA/loan_data_test.csv\"\n",
    "\n",
    "\n",
    "ld_train=pd.read_csv(train_file)\n",
    "ld_test=pd.read_csv(test_file)               "
   ]
  },
  {
   "cell_type": "code",
   "execution_count": 2,
   "metadata": {},
   "outputs": [
    {
     "data": {
      "text/html": [
       "<div>\n",
       "<style scoped>\n",
       "    .dataframe tbody tr th:only-of-type {\n",
       "        vertical-align: middle;\n",
       "    }\n",
       "\n",
       "    .dataframe tbody tr th {\n",
       "        vertical-align: top;\n",
       "    }\n",
       "\n",
       "    .dataframe thead th {\n",
       "        text-align: right;\n",
       "    }\n",
       "</style>\n",
       "<table border=\"1\" class=\"dataframe\">\n",
       "  <thead>\n",
       "    <tr style=\"text-align: right;\">\n",
       "      <th></th>\n",
       "      <th>ID</th>\n",
       "      <th>Amount.Requested</th>\n",
       "      <th>Amount.Funded.By.Investors</th>\n",
       "      <th>Interest.Rate</th>\n",
       "      <th>Loan.Length</th>\n",
       "      <th>Loan.Purpose</th>\n",
       "      <th>Debt.To.Income.Ratio</th>\n",
       "      <th>State</th>\n",
       "      <th>Home.Ownership</th>\n",
       "      <th>Monthly.Income</th>\n",
       "      <th>FICO.Range</th>\n",
       "      <th>Open.CREDIT.Lines</th>\n",
       "      <th>Revolving.CREDIT.Balance</th>\n",
       "      <th>Inquiries.in.the.Last.6.Months</th>\n",
       "      <th>Employment.Length</th>\n",
       "    </tr>\n",
       "  </thead>\n",
       "  <tbody>\n",
       "    <tr>\n",
       "      <th>0</th>\n",
       "      <td>79542.0</td>\n",
       "      <td>25000</td>\n",
       "      <td>25000</td>\n",
       "      <td>18.49%</td>\n",
       "      <td>60 months</td>\n",
       "      <td>debt_consolidation</td>\n",
       "      <td>27.56%</td>\n",
       "      <td>VA</td>\n",
       "      <td>MORTGAGE</td>\n",
       "      <td>8606.56</td>\n",
       "      <td>720-724</td>\n",
       "      <td>11</td>\n",
       "      <td>15210</td>\n",
       "      <td>3.0</td>\n",
       "      <td>5 years</td>\n",
       "    </tr>\n",
       "    <tr>\n",
       "      <th>1</th>\n",
       "      <td>75473.0</td>\n",
       "      <td>19750</td>\n",
       "      <td>19750</td>\n",
       "      <td>17.27%</td>\n",
       "      <td>60 months</td>\n",
       "      <td>debt_consolidation</td>\n",
       "      <td>13.39%</td>\n",
       "      <td>NY</td>\n",
       "      <td>MORTGAGE</td>\n",
       "      <td>6737.50</td>\n",
       "      <td>710-714</td>\n",
       "      <td>14</td>\n",
       "      <td>19070</td>\n",
       "      <td>3.0</td>\n",
       "      <td>4 years</td>\n",
       "    </tr>\n",
       "    <tr>\n",
       "      <th>2</th>\n",
       "      <td>67265.0</td>\n",
       "      <td>2100</td>\n",
       "      <td>2100</td>\n",
       "      <td>14.33%</td>\n",
       "      <td>36 months</td>\n",
       "      <td>major_purchase</td>\n",
       "      <td>3.50%</td>\n",
       "      <td>LA</td>\n",
       "      <td>OWN</td>\n",
       "      <td>1000.00</td>\n",
       "      <td>690-694</td>\n",
       "      <td>13</td>\n",
       "      <td>893</td>\n",
       "      <td>1.0</td>\n",
       "      <td>&lt; 1 year</td>\n",
       "    </tr>\n",
       "    <tr>\n",
       "      <th>3</th>\n",
       "      <td>80167.0</td>\n",
       "      <td>28000</td>\n",
       "      <td>28000</td>\n",
       "      <td>16.29%</td>\n",
       "      <td>36 months</td>\n",
       "      <td>credit_card</td>\n",
       "      <td>19.62%</td>\n",
       "      <td>NV</td>\n",
       "      <td>MORTGAGE</td>\n",
       "      <td>7083.33</td>\n",
       "      <td>710-714</td>\n",
       "      <td>12</td>\n",
       "      <td>38194</td>\n",
       "      <td>1.0</td>\n",
       "      <td>10+ years</td>\n",
       "    </tr>\n",
       "    <tr>\n",
       "      <th>4</th>\n",
       "      <td>17240.0</td>\n",
       "      <td>24250</td>\n",
       "      <td>17431.82</td>\n",
       "      <td>12.23%</td>\n",
       "      <td>60 months</td>\n",
       "      <td>credit_card</td>\n",
       "      <td>23.79%</td>\n",
       "      <td>OH</td>\n",
       "      <td>MORTGAGE</td>\n",
       "      <td>5833.33</td>\n",
       "      <td>730-734</td>\n",
       "      <td>6</td>\n",
       "      <td>31061</td>\n",
       "      <td>2.0</td>\n",
       "      <td>10+ years</td>\n",
       "    </tr>\n",
       "    <tr>\n",
       "      <th>5</th>\n",
       "      <td>32737.0</td>\n",
       "      <td>5400</td>\n",
       "      <td>5375</td>\n",
       "      <td>8.90%</td>\n",
       "      <td>36 months</td>\n",
       "      <td>small_business</td>\n",
       "      <td>6.27%</td>\n",
       "      <td>OH</td>\n",
       "      <td>RENT</td>\n",
       "      <td>3000.00</td>\n",
       "      <td>785-789</td>\n",
       "      <td>2</td>\n",
       "      <td>90</td>\n",
       "      <td>2.0</td>\n",
       "      <td>NaN</td>\n",
       "    </tr>\n",
       "    <tr>\n",
       "      <th>6</th>\n",
       "      <td>71685.0</td>\n",
       "      <td>16000</td>\n",
       "      <td>16000</td>\n",
       "      <td>22.47%</td>\n",
       "      <td>60 months</td>\n",
       "      <td>credit_card</td>\n",
       "      <td>11.27%</td>\n",
       "      <td>CA</td>\n",
       "      <td>RENT</td>\n",
       "      <td>4791.67</td>\n",
       "      <td>665-669</td>\n",
       "      <td>5</td>\n",
       "      <td>8474</td>\n",
       "      <td>0.0</td>\n",
       "      <td>2 years</td>\n",
       "    </tr>\n",
       "    <tr>\n",
       "      <th>7</th>\n",
       "      <td>38028.0</td>\n",
       "      <td>6400</td>\n",
       "      <td>6400</td>\n",
       "      <td>7.51%</td>\n",
       "      <td>36 months</td>\n",
       "      <td>major_purchase</td>\n",
       "      <td>9.58%</td>\n",
       "      <td>IL</td>\n",
       "      <td>RENT</td>\n",
       "      <td>6400.00</td>\n",
       "      <td>735-739</td>\n",
       "      <td>11</td>\n",
       "      <td>12306</td>\n",
       "      <td>1.0</td>\n",
       "      <td>&lt; 1 year</td>\n",
       "    </tr>\n",
       "    <tr>\n",
       "      <th>8</th>\n",
       "      <td>32119.0</td>\n",
       "      <td>24000</td>\n",
       "      <td>23772.15</td>\n",
       "      <td>12.99%</td>\n",
       "      <td>60 months</td>\n",
       "      <td>home_improvement</td>\n",
       "      <td>15.54%</td>\n",
       "      <td>NC</td>\n",
       "      <td>MORTGAGE</td>\n",
       "      <td>8333.33</td>\n",
       "      <td>740-744</td>\n",
       "      <td>24</td>\n",
       "      <td>56984</td>\n",
       "      <td>0.0</td>\n",
       "      <td>NaN</td>\n",
       "    </tr>\n",
       "    <tr>\n",
       "      <th>9</th>\n",
       "      <td>84563.0</td>\n",
       "      <td>8000</td>\n",
       "      <td>8000</td>\n",
       "      <td>7.62%</td>\n",
       "      <td>36 months</td>\n",
       "      <td>other</td>\n",
       "      <td>0%</td>\n",
       "      <td>NC</td>\n",
       "      <td>MORTGAGE</td>\n",
       "      <td>3500.00</td>\n",
       "      <td>765-769</td>\n",
       "      <td>7</td>\n",
       "      <td>0</td>\n",
       "      <td>1.0</td>\n",
       "      <td>NaN</td>\n",
       "    </tr>\n",
       "  </tbody>\n",
       "</table>\n",
       "</div>"
      ],
      "text/plain": [
       "        ID Amount.Requested Amount.Funded.By.Investors Interest.Rate  \\\n",
       "0  79542.0            25000                      25000        18.49%   \n",
       "1  75473.0            19750                      19750        17.27%   \n",
       "2  67265.0             2100                       2100        14.33%   \n",
       "3  80167.0            28000                      28000        16.29%   \n",
       "4  17240.0            24250                   17431.82        12.23%   \n",
       "5  32737.0             5400                       5375         8.90%   \n",
       "6  71685.0            16000                      16000        22.47%   \n",
       "7  38028.0             6400                       6400         7.51%   \n",
       "8  32119.0            24000                   23772.15        12.99%   \n",
       "9  84563.0             8000                       8000         7.62%   \n",
       "\n",
       "  Loan.Length        Loan.Purpose Debt.To.Income.Ratio State Home.Ownership  \\\n",
       "0   60 months  debt_consolidation               27.56%    VA       MORTGAGE   \n",
       "1   60 months  debt_consolidation               13.39%    NY       MORTGAGE   \n",
       "2   36 months      major_purchase                3.50%    LA            OWN   \n",
       "3   36 months         credit_card               19.62%    NV       MORTGAGE   \n",
       "4   60 months         credit_card               23.79%    OH       MORTGAGE   \n",
       "5   36 months      small_business                6.27%    OH           RENT   \n",
       "6   60 months         credit_card               11.27%    CA           RENT   \n",
       "7   36 months      major_purchase                9.58%    IL           RENT   \n",
       "8   60 months    home_improvement               15.54%    NC       MORTGAGE   \n",
       "9   36 months               other                   0%    NC       MORTGAGE   \n",
       "\n",
       "   Monthly.Income FICO.Range Open.CREDIT.Lines Revolving.CREDIT.Balance  \\\n",
       "0         8606.56    720-724                11                    15210   \n",
       "1         6737.50    710-714                14                    19070   \n",
       "2         1000.00    690-694                13                      893   \n",
       "3         7083.33    710-714                12                    38194   \n",
       "4         5833.33    730-734                 6                    31061   \n",
       "5         3000.00    785-789                 2                       90   \n",
       "6         4791.67    665-669                 5                     8474   \n",
       "7         6400.00    735-739                11                    12306   \n",
       "8         8333.33    740-744                24                    56984   \n",
       "9         3500.00    765-769                 7                        0   \n",
       "\n",
       "   Inquiries.in.the.Last.6.Months Employment.Length  \n",
       "0                             3.0           5 years  \n",
       "1                             3.0           4 years  \n",
       "2                             1.0          < 1 year  \n",
       "3                             1.0         10+ years  \n",
       "4                             2.0         10+ years  \n",
       "5                             2.0               NaN  \n",
       "6                             0.0           2 years  \n",
       "7                             1.0          < 1 year  \n",
       "8                             0.0               NaN  \n",
       "9                             1.0               NaN  "
      ]
     },
     "execution_count": 2,
     "metadata": {},
     "output_type": "execute_result"
    }
   ],
   "source": [
    "ld_train.head(10)\n",
    "#ld_train.shape"
   ]
  },
  {
   "cell_type": "code",
   "execution_count": 14,
   "metadata": {},
   "outputs": [
    {
     "data": {
      "text/html": [
       "<div>\n",
       "<style scoped>\n",
       "    .dataframe tbody tr th:only-of-type {\n",
       "        vertical-align: middle;\n",
       "    }\n",
       "\n",
       "    .dataframe tbody tr th {\n",
       "        vertical-align: top;\n",
       "    }\n",
       "\n",
       "    .dataframe thead th {\n",
       "        text-align: right;\n",
       "    }\n",
       "</style>\n",
       "<table border=\"1\" class=\"dataframe\">\n",
       "  <thead>\n",
       "    <tr style=\"text-align: right;\">\n",
       "      <th></th>\n",
       "      <th>ID</th>\n",
       "      <th>Monthly.Income</th>\n",
       "      <th>Inquiries.in.the.Last.6.Months</th>\n",
       "    </tr>\n",
       "  </thead>\n",
       "  <tbody>\n",
       "    <tr>\n",
       "      <th>count</th>\n",
       "      <td>2199.000000</td>\n",
       "      <td>2197.000000</td>\n",
       "      <td>2197.000000</td>\n",
       "    </tr>\n",
       "    <tr>\n",
       "      <th>mean</th>\n",
       "      <td>52024.256480</td>\n",
       "      <td>5727.459290</td>\n",
       "      <td>0.898498</td>\n",
       "    </tr>\n",
       "    <tr>\n",
       "      <th>std</th>\n",
       "      <td>30223.972207</td>\n",
       "      <td>4073.529708</td>\n",
       "      <td>1.219223</td>\n",
       "    </tr>\n",
       "    <tr>\n",
       "      <th>min</th>\n",
       "      <td>10.000000</td>\n",
       "      <td>588.500000</td>\n",
       "      <td>0.000000</td>\n",
       "    </tr>\n",
       "    <tr>\n",
       "      <th>25%</th>\n",
       "      <td>26361.500000</td>\n",
       "      <td>3458.000000</td>\n",
       "      <td>0.000000</td>\n",
       "    </tr>\n",
       "    <tr>\n",
       "      <th>50%</th>\n",
       "      <td>51302.000000</td>\n",
       "      <td>5000.000000</td>\n",
       "      <td>0.000000</td>\n",
       "    </tr>\n",
       "    <tr>\n",
       "      <th>75%</th>\n",
       "      <td>78386.500000</td>\n",
       "      <td>6883.330000</td>\n",
       "      <td>1.000000</td>\n",
       "    </tr>\n",
       "    <tr>\n",
       "      <th>max</th>\n",
       "      <td>104202.000000</td>\n",
       "      <td>102750.000000</td>\n",
       "      <td>9.000000</td>\n",
       "    </tr>\n",
       "    <tr>\n",
       "      <th>newrow</th>\n",
       "      <td>104212.000000</td>\n",
       "      <td>103338.500000</td>\n",
       "      <td>9.000000</td>\n",
       "    </tr>\n",
       "  </tbody>\n",
       "</table>\n",
       "</div>"
      ],
      "text/plain": [
       "                   ID  Monthly.Income  Inquiries.in.the.Last.6.Months\n",
       "count     2199.000000     2197.000000                     2197.000000\n",
       "mean     52024.256480     5727.459290                        0.898498\n",
       "std      30223.972207     4073.529708                        1.219223\n",
       "min         10.000000      588.500000                        0.000000\n",
       "25%      26361.500000     3458.000000                        0.000000\n",
       "50%      51302.000000     5000.000000                        0.000000\n",
       "75%      78386.500000     6883.330000                        1.000000\n",
       "max     104202.000000   102750.000000                        9.000000\n",
       "newrow  104212.000000   103338.500000                        9.000000"
      ]
     },
     "execution_count": 14,
     "metadata": {},
     "output_type": "execute_result"
    }
   ],
   "source": [
    "AA= ld_train.describe()\n",
    "AA.loc['newrow'] = AA.loc['min']+AA.loc['max']\n",
    "AA"
   ]
  },
  {
   "cell_type": "code",
   "execution_count": 20,
   "metadata": {},
   "outputs": [
    {
     "data": {
      "application/javascript": [
       "\n",
       "        if (window._pyforest_update_imports_cell) { window._pyforest_update_imports_cell('import pandas as pd\\nimport numpy as np'); }\n",
       "    "
      ],
      "text/plain": [
       "<IPython.core.display.Javascript object>"
      ]
     },
     "metadata": {},
     "output_type": "display_data"
    },
    {
     "data": {
      "text/html": [
       "<div>\n",
       "<style scoped>\n",
       "    .dataframe tbody tr th:only-of-type {\n",
       "        vertical-align: middle;\n",
       "    }\n",
       "\n",
       "    .dataframe tbody tr th {\n",
       "        vertical-align: top;\n",
       "    }\n",
       "\n",
       "    .dataframe thead th {\n",
       "        text-align: right;\n",
       "    }\n",
       "</style>\n",
       "<table border=\"1\" class=\"dataframe\">\n",
       "  <thead>\n",
       "    <tr style=\"text-align: right;\">\n",
       "      <th></th>\n",
       "      <th>ID</th>\n",
       "      <th>Monthly.Income</th>\n",
       "      <th>Inquiries.in.the.Last.6.Months</th>\n",
       "    </tr>\n",
       "  </thead>\n",
       "  <tbody>\n",
       "    <tr>\n",
       "      <th>1</th>\n",
       "      <td>2199.000000</td>\n",
       "      <td>2197.000000</td>\n",
       "      <td>2197.000000</td>\n",
       "    </tr>\n",
       "    <tr>\n",
       "      <th>2</th>\n",
       "      <td>52024.256480</td>\n",
       "      <td>5727.459290</td>\n",
       "      <td>0.898498</td>\n",
       "    </tr>\n",
       "    <tr>\n",
       "      <th>3</th>\n",
       "      <td>30223.972207</td>\n",
       "      <td>4073.529708</td>\n",
       "      <td>1.219223</td>\n",
       "    </tr>\n",
       "    <tr>\n",
       "      <th>4</th>\n",
       "      <td>10.000000</td>\n",
       "      <td>588.500000</td>\n",
       "      <td>0.000000</td>\n",
       "    </tr>\n",
       "    <tr>\n",
       "      <th>5</th>\n",
       "      <td>26361.500000</td>\n",
       "      <td>3458.000000</td>\n",
       "      <td>0.000000</td>\n",
       "    </tr>\n",
       "    <tr>\n",
       "      <th>6</th>\n",
       "      <td>51302.000000</td>\n",
       "      <td>5000.000000</td>\n",
       "      <td>0.000000</td>\n",
       "    </tr>\n",
       "    <tr>\n",
       "      <th>7</th>\n",
       "      <td>78386.500000</td>\n",
       "      <td>6883.330000</td>\n",
       "      <td>1.000000</td>\n",
       "    </tr>\n",
       "    <tr>\n",
       "      <th>8</th>\n",
       "      <td>104202.000000</td>\n",
       "      <td>102750.000000</td>\n",
       "      <td>9.000000</td>\n",
       "    </tr>\n",
       "    <tr>\n",
       "      <th>9</th>\n",
       "      <td>104212.000000</td>\n",
       "      <td>103338.500000</td>\n",
       "      <td>9.000000</td>\n",
       "    </tr>\n",
       "  </tbody>\n",
       "</table>\n",
       "</div>"
      ],
      "text/plain": [
       "              ID  Monthly.Income  Inquiries.in.the.Last.6.Months\n",
       "1    2199.000000     2197.000000                     2197.000000\n",
       "2   52024.256480     5727.459290                        0.898498\n",
       "3   30223.972207     4073.529708                        1.219223\n",
       "4      10.000000      588.500000                        0.000000\n",
       "5   26361.500000     3458.000000                        0.000000\n",
       "6   51302.000000     5000.000000                        0.000000\n",
       "7   78386.500000     6883.330000                        1.000000\n",
       "8  104202.000000   102750.000000                        9.000000\n",
       "9  104212.000000   103338.500000                        9.000000"
      ]
     },
     "execution_count": 20,
     "metadata": {},
     "output_type": "execute_result"
    }
   ],
   "source": [
    "AA.index = np.arange(1,10)\n",
    "AA"
   ]
  },
  {
   "cell_type": "code",
   "execution_count": null,
   "metadata": {},
   "outputs": [],
   "source": [
    "ID"
   ]
  },
  {
   "cell_type": "code",
   "execution_count": null,
   "metadata": {},
   "outputs": [],
   "source": [
    "ld_train.head()"
   ]
  },
  {
   "cell_type": "code",
   "execution_count": 7,
   "metadata": {},
   "outputs": [],
   "source": [
    "# lets combine the data for data prep\n",
    "\n",
    "ld_test['Interest.Rate']=np.nan\n",
    "ld_train['data']='train'\n",
    "ld_test['data']='test'\n",
    "ld_test=ld_test[ld_train.columns]\n",
    "ld_all=pd.concat([ld_train,ld_test],axis=0)"
   ]
  },
  {
   "cell_type": "code",
   "execution_count": 9,
   "metadata": {},
   "outputs": [
    {
     "name": "stdout",
     "output_type": "stream",
     "text": [
      "<class 'pandas.core.frame.DataFrame'>\n",
      "Int64Index: 2500 entries, 0 to 299\n",
      "Data columns (total 16 columns):\n",
      " #   Column                          Non-Null Count  Dtype  \n",
      "---  ------                          --------------  -----  \n",
      " 0   ID                              2499 non-null   float64\n",
      " 1   Amount.Requested                2499 non-null   object \n",
      " 2   Amount.Funded.By.Investors      2499 non-null   object \n",
      " 3   Interest.Rate                   2200 non-null   object \n",
      " 4   Loan.Length                     2499 non-null   object \n",
      " 5   Loan.Purpose                    2499 non-null   object \n",
      " 6   Debt.To.Income.Ratio            2499 non-null   object \n",
      " 7   State                           2499 non-null   object \n",
      " 8   Home.Ownership                  2499 non-null   object \n",
      " 9   Monthly.Income                  2497 non-null   float64\n",
      " 10  FICO.Range                      2500 non-null   object \n",
      " 11  Open.CREDIT.Lines               2496 non-null   object \n",
      " 12  Revolving.CREDIT.Balance        2497 non-null   object \n",
      " 13  Inquiries.in.the.Last.6.Months  2497 non-null   float64\n",
      " 14  Employment.Length               2422 non-null   object \n",
      " 15  data                            2500 non-null   object \n",
      "dtypes: float64(3), object(13)\n",
      "memory usage: 332.0+ KB\n"
     ]
    }
   ],
   "source": [
    "ld_all.head()\n",
    "ld_all.info()"
   ]
  },
  {
   "cell_type": "code",
   "execution_count": 10,
   "metadata": {},
   "outputs": [
    {
     "data": {
      "text/plain": [
       "ID                                float64\n",
       "Amount.Requested                   object\n",
       "Amount.Funded.By.Investors         object\n",
       "Interest.Rate                      object\n",
       "Loan.Length                        object\n",
       "Loan.Purpose                       object\n",
       "Debt.To.Income.Ratio               object\n",
       "State                              object\n",
       "Home.Ownership                     object\n",
       "Monthly.Income                    float64\n",
       "FICO.Range                         object\n",
       "Open.CREDIT.Lines                  object\n",
       "Revolving.CREDIT.Balance           object\n",
       "Inquiries.in.the.Last.6.Months    float64\n",
       "Employment.Length                  object\n",
       "data                               object\n",
       "dtype: object"
      ]
     },
     "execution_count": 10,
     "metadata": {},
     "output_type": "execute_result"
    }
   ],
   "source": [
    "ld_all.dtypes"
   ]
  },
  {
   "cell_type": "code",
   "execution_count": null,
   "metadata": {},
   "outputs": [],
   "source": [
    "# ID,Amount.Funded.By.Investors : drop \n",
    "# Interest Rate , Debt to income ratio : remove % and then to numeric\n",
    "# Amount.Requested , 'Open.CREDIT.Lines','Revolving.CREDIT.Balance': convert it to numeric \n",
    "# FICO.Range : replace it by a numeric column which is average of the range\n",
    "# Employment Length : convert to number\n",
    "# Loan Lenth, Loan Purpose , State , Home ownership: dummies for categories with good occurence rate"
   ]
  },
  {
   "cell_type": "code",
   "execution_count": 11,
   "metadata": {},
   "outputs": [],
   "source": [
    "ld_all.drop(['ID','Amount.Funded.By.Investors'],axis=1,inplace=True)"
   ]
  },
  {
   "cell_type": "code",
   "execution_count": 12,
   "metadata": {},
   "outputs": [],
   "source": [
    "for col in ['Interest.Rate','Debt.To.Income.Ratio']:\n",
    "    ld_all[col]=ld_all[col].str.replace(\"%\",\"\")"
   ]
  },
  {
   "cell_type": "code",
   "execution_count": 13,
   "metadata": {},
   "outputs": [],
   "source": [
    "for col in ['Amount.Requested', 'Interest.Rate','Debt.To.Income.Ratio',\n",
    "            'Open.CREDIT.Lines','Revolving.CREDIT.Balance']:\n",
    "    ld_all[col]=pd.to_numeric(ld_all[col],errors='coerce')"
   ]
  },
  {
   "cell_type": "code",
   "execution_count": 14,
   "metadata": {},
   "outputs": [],
   "source": [
    "k=ld_all['FICO.Range'].str.split(\"-\",expand=True).astype(float)\n",
    "\n",
    "ld_all['fico']=0.5*(k[0]+k[1])\n",
    "\n",
    "del ld_all['FICO.Range']\n",
    "#ttt=pd.Series()\n",
    "#p=ld_all['FICO.Range'].str.split(\"-\",expand=True)\n",
    "#type(p[0])\n",
    "#ttt\n",
    "#t"
   ]
  },
  {
   "cell_type": "code",
   "execution_count": null,
   "metadata": {},
   "outputs": [],
   "source": [
    "#pd.to_numeric(\"aa\",errors='coerce')"
   ]
  },
  {
   "cell_type": "code",
   "execution_count": 15,
   "metadata": {},
   "outputs": [
    {
     "data": {
      "text/plain": [
       "10+ years    653\n",
       "< 1 year     249\n",
       "2 years      243\n",
       "3 years      235\n",
       "5 years      202\n",
       "4 years      191\n",
       "1 year       177\n",
       "6 years      163\n",
       "7 years      127\n",
       "8 years      108\n",
       "9 years       72\n",
       ".              2\n",
       "Name: Employment.Length, dtype: int64"
      ]
     },
     "execution_count": 15,
     "metadata": {},
     "output_type": "execute_result"
    }
   ],
   "source": [
    "ld_all['Employment.Length'].value_counts()"
   ]
  },
  {
   "cell_type": "code",
   "execution_count": 16,
   "metadata": {},
   "outputs": [],
   "source": [
    "ld_all['Employment.Length']=ld_all['Employment.Length'].str.replace('years',\"\")\n",
    "\n",
    "ld_all['Employment.Length']=ld_all['Employment.Length'].str.replace('year',\"\")\n",
    "\n",
    "ld_all['Employment.Length']=np.where(ld_all['Employment.Length'].str[:2]==\"10\",10,ld_all['Employment.Length'])\n",
    "\n",
    "ld_all['Employment.Length']=np.where(ld_all['Employment.Length'].str[0]==\"<\",0,ld_all['Employment.Length'])\n",
    "\n",
    "ld_all['Employment.Length']=pd.to_numeric(ld_all['Employment.Length'],errors='coerce')"
   ]
  },
  {
   "cell_type": "code",
   "execution_count": 17,
   "metadata": {},
   "outputs": [],
   "source": [
    "# Notice that to apply string function on pandas data frame columns you need to str attribute\n",
    "cat_cols=ld_all.select_dtypes(['object']).columns"
   ]
  },
  {
   "cell_type": "code",
   "execution_count": 18,
   "metadata": {},
   "outputs": [
    {
     "data": {
      "text/plain": [
       "Index(['Loan.Length', 'Loan.Purpose', 'State', 'Home.Ownership', 'data'], dtype='object')"
      ]
     },
     "execution_count": 18,
     "metadata": {},
     "output_type": "execute_result"
    }
   ],
   "source": [
    "cat_cols"
   ]
  },
  {
   "cell_type": "code",
   "execution_count": 19,
   "metadata": {},
   "outputs": [],
   "source": [
    "cat_cols=cat_cols[:-1]"
   ]
  },
  {
   "cell_type": "code",
   "execution_count": 20,
   "metadata": {},
   "outputs": [
    {
     "data": {
      "text/plain": [
       "Index(['Loan.Length', 'Loan.Purpose', 'State', 'Home.Ownership'], dtype='object')"
      ]
     },
     "execution_count": 20,
     "metadata": {},
     "output_type": "execute_result"
    }
   ],
   "source": [
    "cat_cols"
   ]
  },
  {
   "cell_type": "code",
   "execution_count": 21,
   "metadata": {},
   "outputs": [
    {
     "data": {
      "text/plain": [
       "debt_consolidation    1307\n",
       "credit_card            444\n",
       "other                  200\n",
       "home_improvement       152\n",
       "major_purchase         101\n",
       "small_business          87\n",
       "car                     50\n",
       "wedding                 39\n",
       "medical                 30\n",
       "moving                  29\n",
       "vacation                21\n",
       "house                   20\n",
       "educational             15\n",
       "renewable_energy         4\n",
       "Name: Loan.Purpose, dtype: int64"
      ]
     },
     "execution_count": 21,
     "metadata": {},
     "output_type": "execute_result"
    }
   ],
   "source": [
    "ld_all['Loan.Purpose'].value_counts()"
   ]
  },
  {
   "cell_type": "code",
   "execution_count": 24,
   "metadata": {},
   "outputs": [
    {
     "name": "stdout",
     "output_type": "stream",
     "text": [
      "Loan.Length first loop\n"
     ]
    },
    {
     "ename": "KeyError",
     "evalue": "'Loan.Length'",
     "output_type": "error",
     "traceback": [
      "\u001b[0;31m---------------------------------------------------------------------------\u001b[0m",
      "\u001b[0;31mKeyError\u001b[0m                                  Traceback (most recent call last)",
      "\u001b[0;32m~/opt/anaconda3/lib/python3.7/site-packages/pandas/core/indexes/base.py\u001b[0m in \u001b[0;36mget_loc\u001b[0;34m(self, key, method, tolerance)\u001b[0m\n\u001b[1;32m   2645\u001b[0m             \u001b[0;32mtry\u001b[0m\u001b[0;34m:\u001b[0m\u001b[0;34m\u001b[0m\u001b[0;34m\u001b[0m\u001b[0m\n\u001b[0;32m-> 2646\u001b[0;31m                 \u001b[0;32mreturn\u001b[0m \u001b[0mself\u001b[0m\u001b[0;34m.\u001b[0m\u001b[0m_engine\u001b[0m\u001b[0;34m.\u001b[0m\u001b[0mget_loc\u001b[0m\u001b[0;34m(\u001b[0m\u001b[0mkey\u001b[0m\u001b[0;34m)\u001b[0m\u001b[0;34m\u001b[0m\u001b[0;34m\u001b[0m\u001b[0m\n\u001b[0m\u001b[1;32m   2647\u001b[0m             \u001b[0;32mexcept\u001b[0m \u001b[0mKeyError\u001b[0m\u001b[0;34m:\u001b[0m\u001b[0;34m\u001b[0m\u001b[0;34m\u001b[0m\u001b[0m\n",
      "\u001b[0;32mpandas/_libs/index.pyx\u001b[0m in \u001b[0;36mpandas._libs.index.IndexEngine.get_loc\u001b[0;34m()\u001b[0m\n",
      "\u001b[0;32mpandas/_libs/index.pyx\u001b[0m in \u001b[0;36mpandas._libs.index.IndexEngine.get_loc\u001b[0;34m()\u001b[0m\n",
      "\u001b[0;32mpandas/_libs/hashtable_class_helper.pxi\u001b[0m in \u001b[0;36mpandas._libs.hashtable.PyObjectHashTable.get_item\u001b[0;34m()\u001b[0m\n",
      "\u001b[0;32mpandas/_libs/hashtable_class_helper.pxi\u001b[0m in \u001b[0;36mpandas._libs.hashtable.PyObjectHashTable.get_item\u001b[0;34m()\u001b[0m\n",
      "\u001b[0;31mKeyError\u001b[0m: 'Loan.Length'",
      "\nDuring handling of the above exception, another exception occurred:\n",
      "\u001b[0;31mKeyError\u001b[0m                                  Traceback (most recent call last)",
      "\u001b[0;32m<ipython-input-24-4fb09f03b529>\u001b[0m in \u001b[0;36m<module>\u001b[0;34m\u001b[0m\n\u001b[1;32m      7\u001b[0m \u001b[0;32mfor\u001b[0m \u001b[0mcol\u001b[0m \u001b[0;32min\u001b[0m \u001b[0mcat_cols\u001b[0m\u001b[0;34m:\u001b[0m\u001b[0;34m\u001b[0m\u001b[0;34m\u001b[0m\u001b[0m\n\u001b[1;32m      8\u001b[0m     \u001b[0mprint\u001b[0m\u001b[0;34m(\u001b[0m\u001b[0mcol\u001b[0m\u001b[0;34m,\u001b[0m\u001b[0;34m\"first loop\"\u001b[0m\u001b[0;34m)\u001b[0m\u001b[0;34m\u001b[0m\u001b[0;34m\u001b[0m\u001b[0m\n\u001b[0;32m----> 9\u001b[0;31m     \u001b[0mfreqs\u001b[0m\u001b[0;34m=\u001b[0m\u001b[0mld_all\u001b[0m\u001b[0;34m[\u001b[0m\u001b[0mcol\u001b[0m\u001b[0;34m]\u001b[0m\u001b[0;34m.\u001b[0m\u001b[0mvalue_counts\u001b[0m\u001b[0;34m(\u001b[0m\u001b[0;34m)\u001b[0m\u001b[0;34m\u001b[0m\u001b[0;34m\u001b[0m\u001b[0m\n\u001b[0m\u001b[1;32m     10\u001b[0m     \u001b[0mprint\u001b[0m\u001b[0;34m(\u001b[0m\u001b[0mcol\u001b[0m\u001b[0;34m,\u001b[0m\u001b[0mfreqs\u001b[0m\u001b[0;34m,\u001b[0m\u001b[0;34m\"first loop frequency\"\u001b[0m\u001b[0;34m)\u001b[0m\u001b[0;34m\u001b[0m\u001b[0;34m\u001b[0m\u001b[0m\n\u001b[1;32m     11\u001b[0m     \u001b[0mk\u001b[0m\u001b[0;34m=\u001b[0m\u001b[0mfreqs\u001b[0m\u001b[0;34m.\u001b[0m\u001b[0mindex\u001b[0m\u001b[0;34m[\u001b[0m\u001b[0mfreqs\u001b[0m\u001b[0;34m>\u001b[0m\u001b[0;36m20\u001b[0m\u001b[0;34m]\u001b[0m\u001b[0;34m[\u001b[0m\u001b[0;34m:\u001b[0m\u001b[0;34m-\u001b[0m\u001b[0;36m1\u001b[0m\u001b[0;34m]\u001b[0m\u001b[0;34m\u001b[0m\u001b[0;34m\u001b[0m\u001b[0m\n",
      "\u001b[0;32m~/opt/anaconda3/lib/python3.7/site-packages/pandas/core/frame.py\u001b[0m in \u001b[0;36m__getitem__\u001b[0;34m(self, key)\u001b[0m\n\u001b[1;32m   2798\u001b[0m             \u001b[0;32mif\u001b[0m \u001b[0mself\u001b[0m\u001b[0;34m.\u001b[0m\u001b[0mcolumns\u001b[0m\u001b[0;34m.\u001b[0m\u001b[0mnlevels\u001b[0m \u001b[0;34m>\u001b[0m \u001b[0;36m1\u001b[0m\u001b[0;34m:\u001b[0m\u001b[0;34m\u001b[0m\u001b[0;34m\u001b[0m\u001b[0m\n\u001b[1;32m   2799\u001b[0m                 \u001b[0;32mreturn\u001b[0m \u001b[0mself\u001b[0m\u001b[0;34m.\u001b[0m\u001b[0m_getitem_multilevel\u001b[0m\u001b[0;34m(\u001b[0m\u001b[0mkey\u001b[0m\u001b[0;34m)\u001b[0m\u001b[0;34m\u001b[0m\u001b[0;34m\u001b[0m\u001b[0m\n\u001b[0;32m-> 2800\u001b[0;31m             \u001b[0mindexer\u001b[0m \u001b[0;34m=\u001b[0m \u001b[0mself\u001b[0m\u001b[0;34m.\u001b[0m\u001b[0mcolumns\u001b[0m\u001b[0;34m.\u001b[0m\u001b[0mget_loc\u001b[0m\u001b[0;34m(\u001b[0m\u001b[0mkey\u001b[0m\u001b[0;34m)\u001b[0m\u001b[0;34m\u001b[0m\u001b[0;34m\u001b[0m\u001b[0m\n\u001b[0m\u001b[1;32m   2801\u001b[0m             \u001b[0;32mif\u001b[0m \u001b[0mis_integer\u001b[0m\u001b[0;34m(\u001b[0m\u001b[0mindexer\u001b[0m\u001b[0;34m)\u001b[0m\u001b[0;34m:\u001b[0m\u001b[0;34m\u001b[0m\u001b[0;34m\u001b[0m\u001b[0m\n\u001b[1;32m   2802\u001b[0m                 \u001b[0mindexer\u001b[0m \u001b[0;34m=\u001b[0m \u001b[0;34m[\u001b[0m\u001b[0mindexer\u001b[0m\u001b[0;34m]\u001b[0m\u001b[0;34m\u001b[0m\u001b[0;34m\u001b[0m\u001b[0m\n",
      "\u001b[0;32m~/opt/anaconda3/lib/python3.7/site-packages/pandas/core/indexes/base.py\u001b[0m in \u001b[0;36mget_loc\u001b[0;34m(self, key, method, tolerance)\u001b[0m\n\u001b[1;32m   2646\u001b[0m                 \u001b[0;32mreturn\u001b[0m \u001b[0mself\u001b[0m\u001b[0;34m.\u001b[0m\u001b[0m_engine\u001b[0m\u001b[0;34m.\u001b[0m\u001b[0mget_loc\u001b[0m\u001b[0;34m(\u001b[0m\u001b[0mkey\u001b[0m\u001b[0;34m)\u001b[0m\u001b[0;34m\u001b[0m\u001b[0;34m\u001b[0m\u001b[0m\n\u001b[1;32m   2647\u001b[0m             \u001b[0;32mexcept\u001b[0m \u001b[0mKeyError\u001b[0m\u001b[0;34m:\u001b[0m\u001b[0;34m\u001b[0m\u001b[0;34m\u001b[0m\u001b[0m\n\u001b[0;32m-> 2648\u001b[0;31m                 \u001b[0;32mreturn\u001b[0m \u001b[0mself\u001b[0m\u001b[0;34m.\u001b[0m\u001b[0m_engine\u001b[0m\u001b[0;34m.\u001b[0m\u001b[0mget_loc\u001b[0m\u001b[0;34m(\u001b[0m\u001b[0mself\u001b[0m\u001b[0;34m.\u001b[0m\u001b[0m_maybe_cast_indexer\u001b[0m\u001b[0;34m(\u001b[0m\u001b[0mkey\u001b[0m\u001b[0;34m)\u001b[0m\u001b[0;34m)\u001b[0m\u001b[0;34m\u001b[0m\u001b[0;34m\u001b[0m\u001b[0m\n\u001b[0m\u001b[1;32m   2649\u001b[0m         \u001b[0mindexer\u001b[0m \u001b[0;34m=\u001b[0m \u001b[0mself\u001b[0m\u001b[0;34m.\u001b[0m\u001b[0mget_indexer\u001b[0m\u001b[0;34m(\u001b[0m\u001b[0;34m[\u001b[0m\u001b[0mkey\u001b[0m\u001b[0;34m]\u001b[0m\u001b[0;34m,\u001b[0m \u001b[0mmethod\u001b[0m\u001b[0;34m=\u001b[0m\u001b[0mmethod\u001b[0m\u001b[0;34m,\u001b[0m \u001b[0mtolerance\u001b[0m\u001b[0;34m=\u001b[0m\u001b[0mtolerance\u001b[0m\u001b[0;34m)\u001b[0m\u001b[0;34m\u001b[0m\u001b[0;34m\u001b[0m\u001b[0m\n\u001b[1;32m   2650\u001b[0m         \u001b[0;32mif\u001b[0m \u001b[0mindexer\u001b[0m\u001b[0;34m.\u001b[0m\u001b[0mndim\u001b[0m \u001b[0;34m>\u001b[0m \u001b[0;36m1\u001b[0m \u001b[0;32mor\u001b[0m \u001b[0mindexer\u001b[0m\u001b[0;34m.\u001b[0m\u001b[0msize\u001b[0m \u001b[0;34m>\u001b[0m \u001b[0;36m1\u001b[0m\u001b[0;34m:\u001b[0m\u001b[0;34m\u001b[0m\u001b[0;34m\u001b[0m\u001b[0m\n",
      "\u001b[0;32mpandas/_libs/index.pyx\u001b[0m in \u001b[0;36mpandas._libs.index.IndexEngine.get_loc\u001b[0;34m()\u001b[0m\n",
      "\u001b[0;32mpandas/_libs/index.pyx\u001b[0m in \u001b[0;36mpandas._libs.index.IndexEngine.get_loc\u001b[0;34m()\u001b[0m\n",
      "\u001b[0;32mpandas/_libs/hashtable_class_helper.pxi\u001b[0m in \u001b[0;36mpandas._libs.hashtable.PyObjectHashTable.get_item\u001b[0;34m()\u001b[0m\n",
      "\u001b[0;32mpandas/_libs/hashtable_class_helper.pxi\u001b[0m in \u001b[0;36mpandas._libs.hashtable.PyObjectHashTable.get_item\u001b[0;34m()\u001b[0m\n",
      "\u001b[0;31mKeyError\u001b[0m: 'Loan.Length'"
     ]
    }
   ],
   "source": [
    "# you can use following method if you want to ignore categories with too low frequencies ,\n",
    "#in next section for logistic regression we will be using  pandas' get dummies function. \n",
    "# you can work with either of these . \n",
    "#ignoring categories with low frequencies however will result in fewer columns without \n",
    "# affecting model performance too much .\n",
    "\n",
    "for col in cat_cols:\n",
    "    #print(col,\"first loop\")\n",
    "    freqs=ld_all[col].value_counts()\n",
    "    #print(col,freqs,\"first loop frequency\")\n",
    "    k=freqs.index[freqs>20][:-1]\n",
    "    #print(\"value of \", k)\n",
    "    #print(k, col,freqs,\"first loop frequency k\")\n",
    "    for cat in k:\n",
    "        name=col+'_'+cat\n",
    "        ld_all[name]=(ld_all[col]==cat).astype(int)\n",
    "        #print(name)\n",
    "    del ld_all[col]\n",
    "    print(col)\n",
    "    \n",
    "    "
   ]
  },
  {
   "cell_type": "code",
   "execution_count": 23,
   "metadata": {},
   "outputs": [
    {
     "data": {
      "text/html": [
       "<div>\n",
       "<style scoped>\n",
       "    .dataframe tbody tr th:only-of-type {\n",
       "        vertical-align: middle;\n",
       "    }\n",
       "\n",
       "    .dataframe tbody tr th {\n",
       "        vertical-align: top;\n",
       "    }\n",
       "\n",
       "    .dataframe thead th {\n",
       "        text-align: right;\n",
       "    }\n",
       "</style>\n",
       "<table border=\"1\" class=\"dataframe\">\n",
       "  <thead>\n",
       "    <tr style=\"text-align: right;\">\n",
       "      <th></th>\n",
       "      <th>Amount.Requested</th>\n",
       "      <th>Interest.Rate</th>\n",
       "      <th>Debt.To.Income.Ratio</th>\n",
       "      <th>Monthly.Income</th>\n",
       "      <th>Open.CREDIT.Lines</th>\n",
       "      <th>Revolving.CREDIT.Balance</th>\n",
       "      <th>Inquiries.in.the.Last.6.Months</th>\n",
       "      <th>Employment.Length</th>\n",
       "      <th>data</th>\n",
       "      <th>fico</th>\n",
       "      <th>...</th>\n",
       "      <th>State_MO</th>\n",
       "      <th>State_NV</th>\n",
       "      <th>State_OR</th>\n",
       "      <th>State_SC</th>\n",
       "      <th>State_WI</th>\n",
       "      <th>State_KY</th>\n",
       "      <th>State_LA</th>\n",
       "      <th>State_KS</th>\n",
       "      <th>Home.Ownership_MORTGAGE</th>\n",
       "      <th>Home.Ownership_RENT</th>\n",
       "    </tr>\n",
       "  </thead>\n",
       "  <tbody>\n",
       "    <tr>\n",
       "      <th>0</th>\n",
       "      <td>25000.0</td>\n",
       "      <td>18.49</td>\n",
       "      <td>27.56</td>\n",
       "      <td>8606.56</td>\n",
       "      <td>11.0</td>\n",
       "      <td>15210.0</td>\n",
       "      <td>3.0</td>\n",
       "      <td>5.0</td>\n",
       "      <td>train</td>\n",
       "      <td>722.0</td>\n",
       "      <td>...</td>\n",
       "      <td>0</td>\n",
       "      <td>0</td>\n",
       "      <td>0</td>\n",
       "      <td>0</td>\n",
       "      <td>0</td>\n",
       "      <td>0</td>\n",
       "      <td>0</td>\n",
       "      <td>0</td>\n",
       "      <td>1</td>\n",
       "      <td>0</td>\n",
       "    </tr>\n",
       "    <tr>\n",
       "      <th>1</th>\n",
       "      <td>19750.0</td>\n",
       "      <td>17.27</td>\n",
       "      <td>13.39</td>\n",
       "      <td>6737.50</td>\n",
       "      <td>14.0</td>\n",
       "      <td>19070.0</td>\n",
       "      <td>3.0</td>\n",
       "      <td>4.0</td>\n",
       "      <td>train</td>\n",
       "      <td>712.0</td>\n",
       "      <td>...</td>\n",
       "      <td>0</td>\n",
       "      <td>0</td>\n",
       "      <td>0</td>\n",
       "      <td>0</td>\n",
       "      <td>0</td>\n",
       "      <td>0</td>\n",
       "      <td>0</td>\n",
       "      <td>0</td>\n",
       "      <td>1</td>\n",
       "      <td>0</td>\n",
       "    </tr>\n",
       "    <tr>\n",
       "      <th>2</th>\n",
       "      <td>2100.0</td>\n",
       "      <td>14.33</td>\n",
       "      <td>3.50</td>\n",
       "      <td>1000.00</td>\n",
       "      <td>13.0</td>\n",
       "      <td>893.0</td>\n",
       "      <td>1.0</td>\n",
       "      <td>0.0</td>\n",
       "      <td>train</td>\n",
       "      <td>692.0</td>\n",
       "      <td>...</td>\n",
       "      <td>0</td>\n",
       "      <td>0</td>\n",
       "      <td>0</td>\n",
       "      <td>0</td>\n",
       "      <td>0</td>\n",
       "      <td>0</td>\n",
       "      <td>1</td>\n",
       "      <td>0</td>\n",
       "      <td>0</td>\n",
       "      <td>0</td>\n",
       "    </tr>\n",
       "    <tr>\n",
       "      <th>3</th>\n",
       "      <td>28000.0</td>\n",
       "      <td>16.29</td>\n",
       "      <td>19.62</td>\n",
       "      <td>7083.33</td>\n",
       "      <td>12.0</td>\n",
       "      <td>38194.0</td>\n",
       "      <td>1.0</td>\n",
       "      <td>10.0</td>\n",
       "      <td>train</td>\n",
       "      <td>712.0</td>\n",
       "      <td>...</td>\n",
       "      <td>0</td>\n",
       "      <td>1</td>\n",
       "      <td>0</td>\n",
       "      <td>0</td>\n",
       "      <td>0</td>\n",
       "      <td>0</td>\n",
       "      <td>0</td>\n",
       "      <td>0</td>\n",
       "      <td>1</td>\n",
       "      <td>0</td>\n",
       "    </tr>\n",
       "    <tr>\n",
       "      <th>4</th>\n",
       "      <td>24250.0</td>\n",
       "      <td>12.23</td>\n",
       "      <td>23.79</td>\n",
       "      <td>5833.33</td>\n",
       "      <td>6.0</td>\n",
       "      <td>31061.0</td>\n",
       "      <td>2.0</td>\n",
       "      <td>10.0</td>\n",
       "      <td>train</td>\n",
       "      <td>732.0</td>\n",
       "      <td>...</td>\n",
       "      <td>0</td>\n",
       "      <td>0</td>\n",
       "      <td>0</td>\n",
       "      <td>0</td>\n",
       "      <td>0</td>\n",
       "      <td>0</td>\n",
       "      <td>0</td>\n",
       "      <td>0</td>\n",
       "      <td>1</td>\n",
       "      <td>0</td>\n",
       "    </tr>\n",
       "  </tbody>\n",
       "</table>\n",
       "<p>5 rows × 51 columns</p>\n",
       "</div>"
      ],
      "text/plain": [
       "   Amount.Requested  Interest.Rate  Debt.To.Income.Ratio  Monthly.Income  \\\n",
       "0           25000.0          18.49                 27.56         8606.56   \n",
       "1           19750.0          17.27                 13.39         6737.50   \n",
       "2            2100.0          14.33                  3.50         1000.00   \n",
       "3           28000.0          16.29                 19.62         7083.33   \n",
       "4           24250.0          12.23                 23.79         5833.33   \n",
       "\n",
       "   Open.CREDIT.Lines  Revolving.CREDIT.Balance  \\\n",
       "0               11.0                   15210.0   \n",
       "1               14.0                   19070.0   \n",
       "2               13.0                     893.0   \n",
       "3               12.0                   38194.0   \n",
       "4                6.0                   31061.0   \n",
       "\n",
       "   Inquiries.in.the.Last.6.Months  Employment.Length   data   fico  ...  \\\n",
       "0                             3.0                5.0  train  722.0  ...   \n",
       "1                             3.0                4.0  train  712.0  ...   \n",
       "2                             1.0                0.0  train  692.0  ...   \n",
       "3                             1.0               10.0  train  712.0  ...   \n",
       "4                             2.0               10.0  train  732.0  ...   \n",
       "\n",
       "   State_MO  State_NV  State_OR  State_SC  State_WI  State_KY  State_LA  \\\n",
       "0         0         0         0         0         0         0         0   \n",
       "1         0         0         0         0         0         0         0   \n",
       "2         0         0         0         0         0         0         1   \n",
       "3         0         1         0         0         0         0         0   \n",
       "4         0         0         0         0         0         0         0   \n",
       "\n",
       "   State_KS  Home.Ownership_MORTGAGE  Home.Ownership_RENT  \n",
       "0         0                        1                    0  \n",
       "1         0                        1                    0  \n",
       "2         0                        0                    0  \n",
       "3         0                        1                    0  \n",
       "4         0                        1                    0  \n",
       "\n",
       "[5 rows x 51 columns]"
      ]
     },
     "execution_count": 23,
     "metadata": {},
     "output_type": "execute_result"
    }
   ],
   "source": [
    "ld_all.head()"
   ]
  },
  {
   "cell_type": "code",
   "execution_count": 25,
   "metadata": {},
   "outputs": [
    {
     "data": {
      "text/plain": [
       "(2500, 51)"
      ]
     },
     "execution_count": 25,
     "metadata": {},
     "output_type": "execute_result"
    }
   ],
   "source": [
    "ld_all.shape"
   ]
  },
  {
   "cell_type": "code",
   "execution_count": 26,
   "metadata": {},
   "outputs": [
    {
     "data": {
      "text/plain": [
       "Amount.Requested                     5\n",
       "Interest.Rate                      300\n",
       "Debt.To.Income.Ratio                 1\n",
       "Monthly.Income                       3\n",
       "Open.CREDIT.Lines                    9\n",
       "Revolving.CREDIT.Balance             5\n",
       "Inquiries.in.the.Last.6.Months       3\n",
       "Employment.Length                   80\n",
       "data                                 0\n",
       "fico                                 0\n",
       "Loan.Length_36 months                0\n",
       "Loan.Purpose_debt_consolidation      0\n",
       "Loan.Purpose_credit_card             0\n",
       "Loan.Purpose_other                   0\n",
       "Loan.Purpose_home_improvement        0\n",
       "Loan.Purpose_major_purchase          0\n",
       "Loan.Purpose_small_business          0\n",
       "Loan.Purpose_car                     0\n",
       "Loan.Purpose_wedding                 0\n",
       "Loan.Purpose_medical                 0\n",
       "Loan.Purpose_moving                  0\n",
       "State_CA                             0\n",
       "State_NY                             0\n",
       "State_TX                             0\n",
       "State_FL                             0\n",
       "State_IL                             0\n",
       "State_GA                             0\n",
       "State_PA                             0\n",
       "State_NJ                             0\n",
       "State_VA                             0\n",
       "State_MA                             0\n",
       "State_OH                             0\n",
       "State_MD                             0\n",
       "State_NC                             0\n",
       "State_CO                             0\n",
       "State_WA                             0\n",
       "State_CT                             0\n",
       "State_AZ                             0\n",
       "State_MI                             0\n",
       "State_AL                             0\n",
       "State_MN                             0\n",
       "State_MO                             0\n",
       "State_NV                             0\n",
       "State_OR                             0\n",
       "State_SC                             0\n",
       "State_WI                             0\n",
       "State_KY                             0\n",
       "State_LA                             0\n",
       "State_KS                             0\n",
       "Home.Ownership_MORTGAGE              0\n",
       "Home.Ownership_RENT                  0\n",
       "dtype: int64"
      ]
     },
     "execution_count": 26,
     "metadata": {},
     "output_type": "execute_result"
    }
   ],
   "source": [
    "ld_all.isnull().sum()"
   ]
  },
  {
   "cell_type": "code",
   "execution_count": 27,
   "metadata": {},
   "outputs": [],
   "source": [
    "for col in ld_all.columns:\n",
    "    if (col not in ['Interest.Rate','data'])& (ld_all[col].isnull().sum()>0):\n",
    "        ld_all.loc[ld_all[col].isnull(),col]=ld_all.loc[ld_all['data']=='train',col].mean()"
   ]
  },
  {
   "cell_type": "code",
   "execution_count": 28,
   "metadata": {},
   "outputs": [
    {
     "data": {
      "text/plain": [
       "0      False\n",
       "1      False\n",
       "2      False\n",
       "3      False\n",
       "4      False\n",
       "       ...  \n",
       "295    False\n",
       "296    False\n",
       "297    False\n",
       "298    False\n",
       "299    False\n",
       "Name: Employment.Length, Length: 2500, dtype: bool"
      ]
     },
     "execution_count": 28,
     "metadata": {},
     "output_type": "execute_result"
    }
   ],
   "source": [
    "ld_all['Employment.Length'].isnull()"
   ]
  },
  {
   "cell_type": "code",
   "execution_count": 29,
   "metadata": {},
   "outputs": [
    {
     "data": {
      "text/plain": [
       "Series([], Name: Employment.Length, dtype: float64)"
      ]
     },
     "execution_count": 29,
     "metadata": {},
     "output_type": "execute_result"
    }
   ],
   "source": [
    "ld_all.loc[ld_all['Employment.Length'].isnull(),'Employment.Length']"
   ]
  },
  {
   "cell_type": "code",
   "execution_count": 30,
   "metadata": {},
   "outputs": [
    {
     "data": {
      "text/plain": [
       "Amount.Requested                     0\n",
       "Interest.Rate                      300\n",
       "Debt.To.Income.Ratio                 0\n",
       "Monthly.Income                       0\n",
       "Open.CREDIT.Lines                    0\n",
       "Revolving.CREDIT.Balance             0\n",
       "Inquiries.in.the.Last.6.Months       0\n",
       "Employment.Length                    0\n",
       "data                                 0\n",
       "fico                                 0\n",
       "Loan.Length_36 months                0\n",
       "Loan.Purpose_debt_consolidation      0\n",
       "Loan.Purpose_credit_card             0\n",
       "Loan.Purpose_other                   0\n",
       "Loan.Purpose_home_improvement        0\n",
       "Loan.Purpose_major_purchase          0\n",
       "Loan.Purpose_small_business          0\n",
       "Loan.Purpose_car                     0\n",
       "Loan.Purpose_wedding                 0\n",
       "Loan.Purpose_medical                 0\n",
       "Loan.Purpose_moving                  0\n",
       "State_CA                             0\n",
       "State_NY                             0\n",
       "State_TX                             0\n",
       "State_FL                             0\n",
       "State_IL                             0\n",
       "State_GA                             0\n",
       "State_PA                             0\n",
       "State_NJ                             0\n",
       "State_VA                             0\n",
       "State_MA                             0\n",
       "State_OH                             0\n",
       "State_MD                             0\n",
       "State_NC                             0\n",
       "State_CO                             0\n",
       "State_WA                             0\n",
       "State_CT                             0\n",
       "State_AZ                             0\n",
       "State_MI                             0\n",
       "State_AL                             0\n",
       "State_MN                             0\n",
       "State_MO                             0\n",
       "State_NV                             0\n",
       "State_OR                             0\n",
       "State_SC                             0\n",
       "State_WI                             0\n",
       "State_KY                             0\n",
       "State_LA                             0\n",
       "State_KS                             0\n",
       "Home.Ownership_MORTGAGE              0\n",
       "Home.Ownership_RENT                  0\n",
       "dtype: int64"
      ]
     },
     "execution_count": 30,
     "metadata": {},
     "output_type": "execute_result"
    }
   ],
   "source": [
    "ld_all.isnull().sum()"
   ]
  },
  {
   "cell_type": "code",
   "execution_count": 31,
   "metadata": {},
   "outputs": [
    {
     "name": "stderr",
     "output_type": "stream",
     "text": [
      "/Users/ed/opt/anaconda3/lib/python3.7/site-packages/pandas/core/frame.py:3997: SettingWithCopyWarning: \n",
      "A value is trying to be set on a copy of a slice from a DataFrame\n",
      "\n",
      "See the caveats in the documentation: https://pandas.pydata.org/pandas-docs/stable/user_guide/indexing.html#returning-a-view-versus-a-copy\n",
      "  errors=errors,\n"
     ]
    }
   ],
   "source": [
    "ld_train=ld_all[ld_all['data']=='train']\n",
    "del ld_train['data']\n",
    "ld_test=ld_all[ld_all['data']=='test']\n",
    "ld_test.drop(['Interest.Rate','data'],axis=1,inplace=True)"
   ]
  },
  {
   "cell_type": "code",
   "execution_count": 32,
   "metadata": {},
   "outputs": [],
   "source": [
    "del ld_all"
   ]
  },
  {
   "cell_type": "code",
   "execution_count": 33,
   "metadata": {},
   "outputs": [],
   "source": [
    "from sklearn.model_selection import train_test_split"
   ]
  },
  {
   "cell_type": "code",
   "execution_count": 34,
   "metadata": {},
   "outputs": [],
   "source": [
    "ld_train1,ld_train2=train_test_split(ld_train,test_size=0.2,random_state=2)"
   ]
  },
  {
   "cell_type": "code",
   "execution_count": 35,
   "metadata": {},
   "outputs": [
    {
     "data": {
      "text/plain": [
       "(2200, 50)"
      ]
     },
     "execution_count": 35,
     "metadata": {},
     "output_type": "execute_result"
    }
   ],
   "source": [
    "ld_train.shape"
   ]
  },
  {
   "cell_type": "code",
   "execution_count": 36,
   "metadata": {},
   "outputs": [
    {
     "data": {
      "text/plain": [
       "(1760, 50)"
      ]
     },
     "execution_count": 36,
     "metadata": {},
     "output_type": "execute_result"
    }
   ],
   "source": [
    "ld_train1.shape"
   ]
  },
  {
   "cell_type": "code",
   "execution_count": 37,
   "metadata": {},
   "outputs": [
    {
     "data": {
      "text/plain": [
       "(440, 50)"
      ]
     },
     "execution_count": 37,
     "metadata": {},
     "output_type": "execute_result"
    }
   ],
   "source": [
    "ld_train2.shape"
   ]
  },
  {
   "cell_type": "code",
   "execution_count": 38,
   "metadata": {},
   "outputs": [],
   "source": [
    "# Notice that only train data is used for imputing missing values in both train and test \n",
    "\n",
    "x_train1=ld_train1.drop('Interest.Rate',axis=1)\n",
    "y_train1=ld_train1['Interest.Rate']"
   ]
  },
  {
   "cell_type": "code",
   "execution_count": 39,
   "metadata": {},
   "outputs": [],
   "source": [
    "from sklearn.linear_model import LinearRegression"
   ]
  },
  {
   "cell_type": "code",
   "execution_count": 40,
   "metadata": {},
   "outputs": [],
   "source": [
    "lm=LinearRegression()"
   ]
  },
  {
   "cell_type": "code",
   "execution_count": 41,
   "metadata": {},
   "outputs": [
    {
     "data": {
      "text/plain": [
       "LinearRegression(copy_X=True, fit_intercept=True, n_jobs=None, normalize=False)"
      ]
     },
     "execution_count": 41,
     "metadata": {},
     "output_type": "execute_result"
    }
   ],
   "source": [
    "lm.fit(x_train1,y_train1)"
   ]
  },
  {
   "cell_type": "code",
   "execution_count": 42,
   "metadata": {},
   "outputs": [
    {
     "data": {
      "text/plain": [
       "(1760, 49)"
      ]
     },
     "execution_count": 42,
     "metadata": {},
     "output_type": "execute_result"
    }
   ],
   "source": [
    "x_train1.shape"
   ]
  },
  {
   "cell_type": "code",
   "execution_count": 43,
   "metadata": {},
   "outputs": [
    {
     "data": {
      "text/plain": [
       "75.9212141359478"
      ]
     },
     "execution_count": 43,
     "metadata": {},
     "output_type": "execute_result"
    }
   ],
   "source": [
    "lm.intercept_"
   ]
  },
  {
   "cell_type": "code",
   "execution_count": 44,
   "metadata": {},
   "outputs": [
    {
     "data": {
      "text/plain": [
       "[('Amount.Requested', 0.00015602405153877186),\n",
       " ('Debt.To.Income.Ratio', -0.003938504173777158),\n",
       " ('Monthly.Income', -2.6568573569170736e-05),\n",
       " ('Open.CREDIT.Lines', -0.039922608340240945),\n",
       " ('Revolving.CREDIT.Balance', -3.923647858838919e-06),\n",
       " ('Inquiries.in.the.Last.6.Months', 0.3361172111313311),\n",
       " ('Employment.Length', 0.0349936718945103),\n",
       " ('fico', -0.08667701121950822),\n",
       " ('Loan.Length_36 months', -3.143747246950592),\n",
       " ('Loan.Purpose_debt_consolidation', -0.46739356903559237),\n",
       " ('Loan.Purpose_credit_card', -0.6069873604061792),\n",
       " ('Loan.Purpose_other', 0.44417142270192733),\n",
       " ('Loan.Purpose_home_improvement', -0.3611899849181419),\n",
       " ('Loan.Purpose_major_purchase', -0.09589524932665638),\n",
       " ('Loan.Purpose_small_business', 0.06800548772823811),\n",
       " ('Loan.Purpose_car', 0.025259628036013893),\n",
       " ('Loan.Purpose_wedding', -0.779154265005644),\n",
       " ('Loan.Purpose_medical', -0.4281152109954953),\n",
       " ('Loan.Purpose_moving', 1.2845276544595716),\n",
       " ('State_CA', -0.21159715256759293),\n",
       " ('State_NY', -0.12777976346385944),\n",
       " ('State_TX', 0.4656519996969049),\n",
       " ('State_FL', 0.08536509194007688),\n",
       " ('State_IL', -0.6478521077890976),\n",
       " ('State_GA', -0.028715232683424435),\n",
       " ('State_PA', -0.5531491923550254),\n",
       " ('State_NJ', -0.4252715824292991),\n",
       " ('State_VA', -0.1900182794302424),\n",
       " ('State_MA', 0.09032034036316791),\n",
       " ('State_OH', -0.36139403402199943),\n",
       " ('State_MD', -0.0166147969097057),\n",
       " ('State_NC', -0.3012520492515626),\n",
       " ('State_CO', -0.05643938739112131),\n",
       " ('State_WA', -0.24431943682020324),\n",
       " ('State_CT', 0.4450659067910986),\n",
       " ('State_AZ', 0.2647218526843679),\n",
       " ('State_MI', -0.1581658355736979),\n",
       " ('State_AL', -0.32176623527151654),\n",
       " ('State_MN', -0.07658290397396375),\n",
       " ('State_MO', -0.4320941840325308),\n",
       " ('State_NV', -0.12433340941261034),\n",
       " ('State_OR', 0.1202482945947619),\n",
       " ('State_SC', 0.02477134526043881),\n",
       " ('State_WI', -0.16506920267021277),\n",
       " ('State_KY', 0.2692286032568502),\n",
       " ('State_LA', -0.0487968799518559),\n",
       " ('State_KS', 0.2442429179644846),\n",
       " ('Home.Ownership_MORTGAGE', -0.4927899396352776),\n",
       " ('Home.Ownership_RENT', -0.22835804629261117)]"
      ]
     },
     "execution_count": 44,
     "metadata": {},
     "output_type": "execute_result"
    }
   ],
   "source": [
    "list(zip(x_train1.columns,lm.coef_))"
   ]
  },
  {
   "cell_type": "code",
   "execution_count": 45,
   "metadata": {},
   "outputs": [],
   "source": [
    "x_train2=ld_train2.drop('Interest.Rate',axis=1)"
   ]
  },
  {
   "cell_type": "code",
   "execution_count": 46,
   "metadata": {},
   "outputs": [],
   "source": [
    "predicted_ir=lm.predict(x_train2)"
   ]
  },
  {
   "cell_type": "code",
   "execution_count": 47,
   "metadata": {},
   "outputs": [
    {
     "data": {
      "text/plain": [
       "array([18.96007625, 15.68099596, 10.14154029, 10.80537547, 16.09510115,\n",
       "       13.28266455, 14.15627793, 13.59490966, 17.25381424,  7.74671329,\n",
       "       13.96084005, 14.15976694, 14.5116874 ,  8.41303044, 16.02214589,\n",
       "       15.53857845, 14.60187497, 11.2164128 , 17.11027588,  7.525951  ,\n",
       "       17.49182743, 14.37980908, 12.34682825,  9.19881096, 17.10446457,\n",
       "       13.88671969,  7.53464716, 10.18960852,  6.82742392, 15.97550678,\n",
       "       10.93625928,  9.86962182, 12.52599367, 11.54186066, 12.81539187,\n",
       "       13.69385332,  6.97157344, 15.70964264,  3.85555035, 13.97126418,\n",
       "        8.7820166 , 15.62504435, 13.64099551, 12.45314658, 10.63749612,\n",
       "        9.46725306,  7.65609584, 13.29654221, 17.16652983, 17.13135764,\n",
       "        1.91783148, 20.17388851, 11.03136906, 15.1718277 ,  9.22543667,\n",
       "       11.9245573 , 13.85420737, 14.50177037, 13.08240117, 16.13305406,\n",
       "       17.72461292, 14.35884901, 15.47805815, 13.08037347, 13.71118587,\n",
       "       15.25975869, 16.82296199, 12.24692511, 13.55408036, 14.56601405,\n",
       "       11.50537181, 13.6575852 , 10.85312201, 14.47557573, 14.91290069,\n",
       "       12.51992752, 13.21660203, 13.77757598,  9.13309835, 13.30493889,\n",
       "       18.15692975, 10.32645488, 12.43881397, 15.64932644, 12.9965591 ,\n",
       "       10.55714062,  9.64766166, 11.74864374, 18.08736525,  9.29630207,\n",
       "       12.89456147, 11.89903722, 11.01259552, 14.9835072 , 14.14468308,\n",
       "       15.5903446 , 16.3757485 , 14.88777374, 14.37878602,  9.47530133,\n",
       "       10.64734788, 18.54390518, 16.25932021, 12.98463018, 15.82074388,\n",
       "       16.0429134 ,  7.08779   , 12.25521167, 14.00546648, 14.15118731,\n",
       "       11.83425417, 10.05791253, 16.08672399, 13.22901136,  9.52653744,\n",
       "       15.78944869, 16.1279028 , 16.013182  ,  4.40914623, 12.78553042,\n",
       "       19.44490532, 14.90863783,  5.74925524, 13.83170649, 14.08728827,\n",
       "       15.49811007,  9.14383038,  6.84992147, 12.62385746, 13.31907118,\n",
       "       15.21669833, 13.41119401, 10.90641154, 10.10794664, 15.13731309,\n",
       "       14.15226582,  7.67988916,  5.59805709,  5.96916776, 15.76080354,\n",
       "       17.78813282, 21.6786382 , 12.03140063, 13.8477381 , 13.83803473,\n",
       "        9.38244978, 15.20813663, 12.42388157, 14.08163924, 12.61241723,\n",
       "       14.30154964,  7.97131897, 14.15905458, 12.6351854 , 15.27875879,\n",
       "       15.76418483,  6.59069349, 12.06378604, 15.5057718 , 10.64764495,\n",
       "        4.92433384, 15.41192752, 14.92456886, 15.27487053, 11.46735965,\n",
       "       15.45653546,  9.42268418, 15.70339076, 15.46843147,  6.56466563,\n",
       "       10.31352389, 10.62372602, 10.79319581, 11.33693759, 13.96313009,\n",
       "       13.04057629, 14.44916535, 13.54448207, 14.33220364,  9.98796736,\n",
       "       17.42700234,  5.43116985, 13.61715446,  9.60431496, 11.92663518,\n",
       "       12.62862345, 13.42984959, 10.15834668, 19.22252045, 17.84803297,\n",
       "       14.53416164, 16.21039382, 16.87976003,  9.15502837, 15.18740849,\n",
       "       10.33317253,  6.96239989, 19.31860691, 14.69900148, 13.28469293,\n",
       "       12.79411477, 10.25202369, 15.02009532, 18.38205032,  9.72346728,\n",
       "       20.41323236, 12.70394487, 15.63766415,  7.41798219, 11.05208589,\n",
       "        6.747258  ,  9.14953341, 15.35498556, 13.40050592, 18.85859126,\n",
       "       10.79955635, 11.87421516,  8.38372393, 15.35246705, 15.09567768,\n",
       "        8.79042663, 17.10766936, 14.1826043 , 13.34071729, 13.36778098,\n",
       "       12.98737529,  9.79898368,  4.4665751 ,  8.52960905, 19.63843716,\n",
       "       12.15420636,  9.43019772, 11.98414771,  5.17877424, 13.79475266,\n",
       "       13.08125123, 16.92249986, 18.01793184, 19.95433436, 18.3864468 ,\n",
       "       19.31574188, 13.70921718, 13.68188797, 11.69709702,  8.57963189,\n",
       "       10.23699322, 12.56540105, 10.53332351,  8.26615735,  7.91523269,\n",
       "       13.31146616, 17.20375976, 14.68640758, 21.28425217,  8.74745585,\n",
       "        6.60685705, 12.01629832, 11.53684936, 10.88501284, 14.13829945,\n",
       "        9.57142918, 16.16677681, 15.7738885 , 16.92012773, 14.85222252,\n",
       "       13.55866925, 17.14236581, 12.78103902, 17.7621833 , 13.70691092,\n",
       "       11.6338656 , 20.85113317, 16.03620697, 10.44088105,  3.71953797,\n",
       "       11.12778414,  5.01807482, 14.8619857 , 13.42524304, 12.28496588,\n",
       "        5.16971181,  7.69245532, 14.96727853, 15.78148842, 19.05567995,\n",
       "       19.04576299, 18.59296131,  3.60840341, 19.62967421, 16.85390689,\n",
       "       16.19303068, 12.02164492, 14.38113959, 16.85239066,  5.87955958,\n",
       "       13.73203992, 15.73246867, 13.97539436, 10.2781424 , 10.9668294 ,\n",
       "       13.18265553, 14.85158176, 10.17829978, 12.80963777,  9.44837461,\n",
       "       13.36371652, 10.47613695, 18.64265183, 15.25726285, 10.52927693,\n",
       "       16.40426266, 15.58389986, 10.5119744 , 15.22653899, 12.93890663,\n",
       "        6.34212024,  6.0849373 , 13.83595114, 10.32457177, 14.02921305,\n",
       "       12.70179283, 14.41148917, 13.20394776, 16.363831  ,  9.92654017,\n",
       "       16.71789749, 11.39696826, 14.62471545, 13.49129944, 12.28285735,\n",
       "       10.00167712, 17.12767042, 12.42826841, 11.65028506, 10.9181452 ,\n",
       "       20.58887904,  8.26906504, 19.28072494, 11.30706351, 12.01570728,\n",
       "        7.18694058, 17.89645499,  7.33420575, 10.26238824,  9.25146176,\n",
       "       16.17674928,  6.63492306,  8.36950564, 12.69897553, 18.16026472,\n",
       "        9.10608526, 13.32433717, 10.74946962, 11.9379325 , 15.29859299,\n",
       "       15.10882199, 10.93944138, 13.28664449, 12.08177089,  8.58839832,\n",
       "       15.71026217, 12.63543309, 13.17804816, 13.98793022,  9.37420804,\n",
       "       10.25341623, 17.69918044, 14.3674367 , 14.32477119, 14.83222872,\n",
       "        8.98630251, 11.43689193, 11.93525923,  6.37615739,  8.76801911,\n",
       "        9.62248735,  9.7076685 , 13.90918419, 11.99128144, 11.05093045,\n",
       "        1.8311276 , 13.44223993,  8.90600932, 16.84773684, 12.99159053,\n",
       "       12.97688682, 15.15831713, 15.64211036, 12.29652253, 13.84545003,\n",
       "       17.63892927, 16.65479441, 15.78916066, 12.78103542, 12.30659868,\n",
       "       12.68816405, 18.12812991, 11.39661916, 15.60807061, 13.62237706,\n",
       "       13.95243035, 14.53490264, 13.71174044, 15.06214748, 12.03109215,\n",
       "       19.86987604, 12.29444819, 16.50679251, 11.00835237, 13.33417726,\n",
       "       10.62531849, 10.18001634, 12.11893955,  6.7323057 , 10.94640432,\n",
       "       14.72865132, 10.70084156, 12.79195205, 14.8241756 , 10.09386916,\n",
       "        5.14102354, 20.96606676, 15.82178402,  6.06734788, 19.48485695,\n",
       "       13.90630135, 15.611249  , 18.72026328, 12.18891354, 12.12786874,\n",
       "       11.38578821, 13.52997699, 14.73164897,  5.81275013, 15.09142067,\n",
       "       11.85469253, 16.20836972, 18.56880869, 14.41535334, 12.09028505])"
      ]
     },
     "execution_count": 47,
     "metadata": {},
     "output_type": "execute_result"
    }
   ],
   "source": [
    "predicted_ir"
   ]
  },
  {
   "cell_type": "code",
   "execution_count": 49,
   "metadata": {},
   "outputs": [],
   "source": [
    "from sklearn.metrics import mean_absolute_error"
   ]
  },
  {
   "cell_type": "code",
   "execution_count": 50,
   "metadata": {},
   "outputs": [
    {
     "data": {
      "text/plain": [
       "1.6278267948887137"
      ]
     },
     "execution_count": 50,
     "metadata": {},
     "output_type": "execute_result"
    }
   ],
   "source": [
    "mean_absolute_error(ld_train2['Interest.Rate'],predicted_ir)\n"
   ]
  },
  {
   "cell_type": "code",
   "execution_count": 60,
   "metadata": {},
   "outputs": [
    {
     "data": {
      "text/plain": [
       "2.041171856641195"
      ]
     },
     "execution_count": 60,
     "metadata": {},
     "output_type": "execute_result"
    }
   ],
   "source": [
    "from sklearn.metrics import mean_squared_error\n",
    "import math\n",
    "math.sqrt(mean_squared_error(ld_train2['Interest.Rate'],predicted_ir))"
   ]
  },
  {
   "cell_type": "markdown",
   "metadata": {},
   "source": [
    "We know the tentative performance now, lets build the model on entire training to make prediction on test/production"
   ]
  },
  {
   "cell_type": "code",
   "execution_count": 51,
   "metadata": {},
   "outputs": [],
   "source": [
    "x_train=ld_train.drop('Interest.Rate',axis=1)\n",
    "y_train=ld_train['Interest.Rate']"
   ]
  },
  {
   "cell_type": "code",
   "execution_count": 52,
   "metadata": {},
   "outputs": [
    {
     "data": {
      "text/plain": [
       "LinearRegression(copy_X=True, fit_intercept=True, n_jobs=None, normalize=False)"
      ]
     },
     "execution_count": 52,
     "metadata": {},
     "output_type": "execute_result"
    }
   ],
   "source": [
    "lm.fit(x_train,y_train)"
   ]
  },
  {
   "cell_type": "code",
   "execution_count": 54,
   "metadata": {},
   "outputs": [],
   "source": [
    "test_pred=lm.predict(ld_test)"
   ]
  },
  {
   "cell_type": "code",
   "execution_count": 57,
   "metadata": {},
   "outputs": [
    {
     "data": {
      "text/plain": [
       "array([16.64053907, 15.92333314, 10.62442413,  3.68858934, 15.37668977,\n",
       "        6.95695006, 15.77478061, 10.69584154, 15.99366692, 12.40004029,\n",
       "        9.69621957, 14.90849621, 11.4279855 , 13.69760261, 13.45711858,\n",
       "       18.36541882, 10.38001928, 15.75628145, 13.77538126, 13.84583946,\n",
       "       22.3804198 , 17.45250815, 12.11902659, 14.84771773,  9.69203293,\n",
       "       11.16430968, 13.14635014, 19.40592245, 12.00567735, 16.98946667,\n",
       "       15.2551322 , 15.42213149, 12.30174956, 15.17708654, 13.75654827,\n",
       "       14.19966644, 19.47712689, 11.2401567 , 12.01449614, 16.97399154,\n",
       "       14.14450509, 11.09451828, 14.64373925, 13.10928142, 15.60021088,\n",
       "       17.02336061, 14.86391602, 17.02627341, 16.91087168, 10.43750086,\n",
       "       13.59113402, 19.76538598,  9.98291996, 19.65614199, 15.59732627,\n",
       "       14.86330077, 17.53029645, 14.36354332, 10.89850493, 14.43726354,\n",
       "       13.12110203, 16.97895444,  8.80954649, 14.55515897, 10.54106043,\n",
       "       11.46056567, 12.84163797, 14.99689981, 12.05873592, 14.48464381,\n",
       "       14.39157873, 17.4405373 , 20.71397974, 19.59077596, 13.35791246,\n",
       "       16.98340094, 11.09563328,  9.94849485, 16.60777596,  6.89213275,\n",
       "       16.05250844, 10.3564702 ,  9.50901537, 12.98355283, 13.98908878,\n",
       "        9.46233524,  9.32422713, 13.94859415,  8.56570697, 11.78069493,\n",
       "       12.19882738, 16.95059142, 13.67449969, 17.84808986, 14.23761374,\n",
       "       10.40891256, 10.20098383, 17.13003938, 16.90623348, 13.8235561 ,\n",
       "       15.32622516, 13.46801871, 15.22444431, 14.55363376, 13.52465177,\n",
       "       12.27586905,  8.8171075 , 11.88671351, 10.85957174, 13.96332966,\n",
       "       11.70882387, 20.20265701,  7.58187376, 16.73283074, 15.54716743,\n",
       "        6.54034298, 13.29368997, 14.29826393, 15.0965198 ,  9.28832524,\n",
       "       16.12334997, 14.32511302,  8.98022453, 12.97415886, 17.3710332 ,\n",
       "       15.97604611,  8.44850913, 18.54011339,  3.40844497, 12.2074236 ,\n",
       "       13.74846462, 13.13046845, 10.04461314, 14.1147719 , 18.73075122,\n",
       "       14.14020264, 15.54664877, 13.39644071, 12.94717159,  9.53862392,\n",
       "       14.12718299, 14.39737469, 11.69314841, 11.50040734, 11.65376883,\n",
       "       16.91422885, 11.96358039, 10.56307829,  7.80502167, 10.11550911,\n",
       "       11.43584323, 13.87875516, 10.34077801,  7.71931341, 13.98454941,\n",
       "       12.21293971, 11.10750405,  7.98055938, 14.53086903, 14.57405613,\n",
       "       14.10588939,  7.13272821, 15.10975343, 17.99637384, 15.25059609,\n",
       "       15.98874991, 14.75205266, 10.07123162, 13.62565496, 16.65521601,\n",
       "       14.60744559, 12.86003618,  6.57284919, 13.2830544 , 10.34677098,\n",
       "       10.48459878, 11.09986818,  8.57035826,  9.6291262 , 11.6486142 ,\n",
       "       12.81121192, 14.43581167, 10.38051741, 13.37012586, 10.8471006 ,\n",
       "       14.00386533,  8.60062218, 17.85520605, 13.64672062,  9.47069636,\n",
       "        7.66451813, 11.47429032, 16.02076972, 15.45212115, 15.05727663,\n",
       "       18.00705991,  9.20067811, 18.84809188,  4.82524409, 13.89889736,\n",
       "       14.52184212, 12.44743108, 18.02337663, 16.68420845,  4.74185113,\n",
       "       15.56729254, 15.39238317, 19.69295883, 16.42509559,  8.7820325 ,\n",
       "       14.65744065, 11.70797104, 12.11800323, 14.60243803, 10.48626323,\n",
       "       12.34289717, 13.25708899, 20.68846638, 13.84592725,  6.32855647,\n",
       "        5.64735532,  9.41776166, 17.93615533, 11.32923263, 15.85637486,\n",
       "       14.59990411, 11.55443929, 11.63818146, 12.54845254, 10.780471  ,\n",
       "       11.66129397, 14.90088138, 12.71230339, 15.84811507,  7.58104125,\n",
       "       11.30671834, 13.25603086, 10.44777997,  4.81898933, 19.9414846 ,\n",
       "       14.17198279, 19.80310622,  7.86767101, 20.75071162, 12.82182143,\n",
       "       12.26037667, 20.12111571,  9.21738625,  7.69132981, 12.97951592,\n",
       "       16.01927013, 15.06000054, 10.75502913, 13.9848295 , 15.14984949,\n",
       "       18.85541698, 11.36811285,  8.03467625, 12.67484186, 18.04361929,\n",
       "       16.38121965, 13.41516634, 18.43601275,  7.47136962, 19.87647628,\n",
       "        8.75384998, 15.69616577, 10.81938693,  4.54610218, 14.91430431,\n",
       "       13.48165351, 13.12785854,  6.80581591, 10.66337431,  9.80939662,\n",
       "        6.5172182 , 14.17256962, 13.77596569, 10.92236274, 14.60964513,\n",
       "       17.11351851, 20.25917552, 16.2936166 , 14.25305956, 15.9711771 ,\n",
       "        8.15455304, 12.75316232, 13.46938871, 10.92291681, 11.94514091,\n",
       "       14.4647272 , 10.09840411, 14.56500006,  9.62942329,  7.11246406,\n",
       "       15.82276831, 11.20235314, 14.50544941, 17.84395411, 13.04754169])"
      ]
     },
     "execution_count": 57,
     "metadata": {},
     "output_type": "execute_result"
    }
   ],
   "source": [
    "test_pred"
   ]
  },
  {
   "cell_type": "markdown",
   "metadata": {},
   "source": [
    "We can write these to a csv file for submission like this :"
   ]
  },
  {
   "cell_type": "code",
   "execution_count": 59,
   "metadata": {},
   "outputs": [],
   "source": [
    "pd.DataFrame(test_pred).to_csv(\"mysubmission.csv\",index=False)"
   ]
  },
  {
   "cell_type": "markdown",
   "metadata": {},
   "source": [
    "# Ridge  Regression"
   ]
  },
  {
   "cell_type": "code",
   "execution_count": null,
   "metadata": {},
   "outputs": [],
   "source": [
    "from sklearn.linear_model import Ridge,Lasso\n",
    "from sklearn.model_selection import GridSearchCV"
   ]
  },
  {
   "cell_type": "code",
   "execution_count": null,
   "metadata": {},
   "outputs": [],
   "source": [
    "lambdas=np.linspace(1,100,100)"
   ]
  },
  {
   "cell_type": "code",
   "execution_count": null,
   "metadata": {},
   "outputs": [],
   "source": [
    "lambdas"
   ]
  },
  {
   "cell_type": "code",
   "execution_count": null,
   "metadata": {},
   "outputs": [],
   "source": [
    "params={'alpha':lambdas}"
   ]
  },
  {
   "cell_type": "code",
   "execution_count": null,
   "metadata": {},
   "outputs": [],
   "source": [
    "params"
   ]
  },
  {
   "cell_type": "code",
   "execution_count": null,
   "metadata": {},
   "outputs": [],
   "source": [
    "model=Ridge(fit_intercept=True)"
   ]
  },
  {
   "cell_type": "code",
   "execution_count": null,
   "metadata": {},
   "outputs": [],
   "source": [
    "grid_search=GridSearchCV(model,param_grid=params,cv=10,scoring='neg_mean_absolute_error')"
   ]
  },
  {
   "cell_type": "code",
   "execution_count": null,
   "metadata": {},
   "outputs": [],
   "source": [
    "grid_search.fit(x_train,y_train)"
   ]
  },
  {
   "cell_type": "code",
   "execution_count": null,
   "metadata": {},
   "outputs": [],
   "source": [
    "grid_search.best_estimator_"
   ]
  },
  {
   "cell_type": "code",
   "execution_count": null,
   "metadata": {},
   "outputs": [],
   "source": [
    "import warnings\n",
    "warnings.filterwarnings('ignore')\n",
    "grid_search.cv_results_"
   ]
  },
  {
   "cell_type": "markdown",
   "metadata": {},
   "source": [
    " if you want you can now fit a ridge regression model with obtained value of alpha , although there is no need, grid search automatically fits the best estimator on the entire data, you can directly use this to make predictions on test_data. But if you want to look at coefficients , its much more convenient to fit the model with direct function"
   ]
  },
  {
   "cell_type": "markdown",
   "metadata": {},
   "source": [
    "Using the report function given below you can see the cv performance of top few models as well, that will the tentative performance"
   ]
  },
  {
   "cell_type": "code",
   "execution_count": null,
   "metadata": {},
   "outputs": [],
   "source": [
    "def report(results, n_top=3):\n",
    "    for i in range(1, n_top + 1):\n",
    "        candidates = np.flatnonzero(results['rank_test_score'] == i)\n",
    "        for candidate in candidates:\n",
    "            print(\"Model with rank: {0}\".format(i))\n",
    "            print(\"Mean validation score: {0:.8f} (std: {1:.5f})\".format(\n",
    "                  results['mean_test_score'][candidate],\n",
    "                  results['std_test_score'][candidate]))\n",
    "            print(\"Parameters: {0}\".format(results['params'][candidate]))\n",
    "            print(\"\")"
   ]
  },
  {
   "cell_type": "code",
   "execution_count": null,
   "metadata": {},
   "outputs": [],
   "source": []
  },
  {
   "cell_type": "code",
   "execution_count": null,
   "metadata": {},
   "outputs": [],
   "source": [
    "report(grid_search.cv_results_)"
   ]
  },
  {
   "cell_type": "code",
   "execution_count": null,
   "metadata": {},
   "outputs": [],
   "source": [
    "a = np.arange(-5,6)\n",
    "a"
   ]
  },
  {
   "cell_type": "code",
   "execution_count": null,
   "metadata": {},
   "outputs": [],
   "source": [
    "np.flatnonzero(a)"
   ]
  },
  {
   "cell_type": "code",
   "execution_count": null,
   "metadata": {},
   "outputs": [],
   "source": [
    "test_pred=grid_search.predict(ld_test)"
   ]
  },
  {
   "cell_type": "code",
   "execution_count": null,
   "metadata": {},
   "outputs": [],
   "source": [
    "pd.DataFrame(test_pred).to_csv(\"mysubmission.csv\",index=False)"
   ]
  },
  {
   "cell_type": "markdown",
   "metadata": {},
   "source": [
    "## For looking at coefficients"
   ]
  },
  {
   "cell_type": "code",
   "execution_count": null,
   "metadata": {},
   "outputs": [],
   "source": [
    "ridge_model=grid_search.best_estimator_"
   ]
  },
  {
   "cell_type": "code",
   "execution_count": null,
   "metadata": {},
   "outputs": [],
   "source": [
    "ridge_model.fit(x_train,y_train)"
   ]
  },
  {
   "cell_type": "code",
   "execution_count": null,
   "metadata": {},
   "outputs": [],
   "source": [
    "list(zip(x_train1.columns,ridge_model.coef_))"
   ]
  },
  {
   "cell_type": "markdown",
   "metadata": {},
   "source": [
    "## Lasso Regression"
   ]
  },
  {
   "cell_type": "code",
   "execution_count": null,
   "metadata": {},
   "outputs": [],
   "source": [
    "lambdas=np.linspace(1,10,100)\n",
    "model=Lasso(fit_intercept=True)\n",
    "params={'alpha':lambdas}"
   ]
  },
  {
   "cell_type": "code",
   "execution_count": null,
   "metadata": {},
   "outputs": [],
   "source": [
    "grid_search=GridSearchCV(model,param_grid=params,cv=10,scoring='neg_mean_absolute_error')"
   ]
  },
  {
   "cell_type": "code",
   "execution_count": null,
   "metadata": {},
   "outputs": [],
   "source": [
    "grid_search.fit(x_train,y_train)"
   ]
  },
  {
   "cell_type": "code",
   "execution_count": null,
   "metadata": {},
   "outputs": [],
   "source": [
    "grid_search.best_estimator_"
   ]
  },
  {
   "cell_type": "markdown",
   "metadata": {},
   "source": [
    "you can see that, the best value of alpha comes at the edge of the range that we tried , we should expand the trial range on that side and run this again"
   ]
  },
  {
   "cell_type": "code",
   "execution_count": null,
   "metadata": {},
   "outputs": [],
   "source": [
    "lambdas=np.linspace(.001,2,100)\n",
    "params={'alpha':lambdas}\n",
    "params"
   ]
  },
  {
   "cell_type": "code",
   "execution_count": null,
   "metadata": {},
   "outputs": [],
   "source": [
    "grid_search=GridSearchCV(model,param_grid=params,cv=10,scoring='neg_mean_absolute_error')\n",
    "grid_search.fit(x_train,y_train)"
   ]
  },
  {
   "cell_type": "code",
   "execution_count": null,
   "metadata": {},
   "outputs": [],
   "source": [
    "grid_search.best_estimator_"
   ]
  },
  {
   "cell_type": "code",
   "execution_count": null,
   "metadata": {},
   "outputs": [],
   "source": [
    "report(grid_search.cv_results_,3)"
   ]
  },
  {
   "cell_type": "code",
   "execution_count": null,
   "metadata": {},
   "outputs": [],
   "source": [
    "lasso_model=grid_search.best_estimator_"
   ]
  },
  {
   "cell_type": "code",
   "execution_count": null,
   "metadata": {},
   "outputs": [],
   "source": [
    "lasso_model.fit(x_train,y_train)"
   ]
  },
  {
   "cell_type": "code",
   "execution_count": null,
   "metadata": {},
   "outputs": [],
   "source": [
    "list(zip(x_train.columns,lasso_model.coef_))"
   ]
  },
  {
   "cell_type": "markdown",
   "metadata": {},
   "source": [
    "# Logistic Regression"
   ]
  },
  {
   "cell_type": "code",
   "execution_count": null,
   "metadata": {},
   "outputs": [],
   "source": [
    "import numpy as np\n",
    "import pandas as pd\n",
    "import warnings\n",
    "warnings.filterwarnings('ignore')"
   ]
  },
  {
   "cell_type": "code",
   "execution_count": null,
   "metadata": {},
   "outputs": [],
   "source": [
    "train_file=r'/Users/ed/Dropbox/Python/Dataset/Data/Data/rg_train.csv'\n",
    "test_file=r'/Users/ed/Dropbox/Python/Dataset/Data/Data/rg_test.csv'\n",
    "bd_train=pd.read_csv(train_file)\n",
    "\n",
    "bd_test=pd.read_csv(test_file)\n",
    "\n",
    "\n",
    "bd_test['Revenue.Grid']=np.nan\n",
    "bd_train['data']='train'\n",
    "bd_test['data']='test'\n",
    "bd_test=bd_test[bd_train.columns]\n",
    "bd_all=pd.concat([bd_train,bd_test],axis=0)"
   ]
  },
  {
   "cell_type": "code",
   "execution_count": null,
   "metadata": {},
   "outputs": [],
   "source": [
    "bd_all['Revenue.Grid'].value_counts()"
   ]
  },
  {
   "cell_type": "code",
   "execution_count": null,
   "metadata": {},
   "outputs": [],
   "source": [
    "list(zip(bd_all.columns,bd_all.dtypes,bd_all.nunique()))"
   ]
  },
  {
   "cell_type": "code",
   "execution_count": null,
   "metadata": {},
   "outputs": [],
   "source": [
    "# REF_NO,post_code , post_area  : drop \n",
    "# children : Zero : 0 , 4+ : 4 and then convert to numeric\n",
    "# age_band : dummies \n",
    "# status , occupation , occupation_partner , home_status,family_income : dummies\n",
    "# self_employed, ` : dummies\n",
    "# TVArea , Region , gender : dummies\n",
    "# Revenue Grid : 1,2 : 1,0"
   ]
  },
  {
   "cell_type": "code",
   "execution_count": null,
   "metadata": {},
   "outputs": [],
   "source": [
    "bd_all.drop(['REF_NO','post_code','post_area'],axis=1,inplace=True)"
   ]
  },
  {
   "cell_type": "code",
   "execution_count": null,
   "metadata": {},
   "outputs": [],
   "source": [
    "bd_all['children']=np.where(bd_all['children']=='Zero',0,bd_all['children'])\n",
    "bd_all['children']=np.where(bd_all['children'][:1]=='4',4,bd_all['children'])\n",
    "bd_all['children']=pd.to_numeric(bd_all['children'],errors='coerce')"
   ]
  },
  {
   "cell_type": "code",
   "execution_count": null,
   "metadata": {},
   "outputs": [],
   "source": [
    "bd_all['Revenue.Grid']=(bd_all['Revenue.Grid']==1).astype(int)"
   ]
  },
  {
   "cell_type": "code",
   "execution_count": null,
   "metadata": {},
   "outputs": [],
   "source": [
    "cat_vars=bd_all.select_dtypes(['object']).columns\n",
    "\n",
    "cat_vars"
   ]
  },
  {
   "cell_type": "code",
   "execution_count": null,
   "metadata": {},
   "outputs": [],
   "source": [
    "for col in cat_vars[:-1]:\n",
    "    dummy=pd.get_dummies(bd_all[col],drop_first=True,prefix=col)\n",
    "    bd_all=pd.concat([bd_all,dummy],axis=1)\n",
    "    del bd_all[col]\n",
    "    print(col)\n",
    "del dummy"
   ]
  },
  {
   "cell_type": "code",
   "execution_count": null,
   "metadata": {},
   "outputs": [],
   "source": [
    "bd_all.shape"
   ]
  },
  {
   "cell_type": "code",
   "execution_count": null,
   "metadata": {},
   "outputs": [],
   "source": [
    "bd_all.info()"
   ]
  },
  {
   "cell_type": "code",
   "execution_count": null,
   "metadata": {},
   "outputs": [],
   "source": [
    "bd_all.isnull().sum()"
   ]
  },
  {
   "cell_type": "code",
   "execution_count": null,
   "metadata": {},
   "outputs": [],
   "source": [
    "bd_all.loc[bd_all['children'].isnull(),'children']=bd_all.loc[bd_all['data']=='train','children'].mean()"
   ]
  },
  {
   "cell_type": "code",
   "execution_count": null,
   "metadata": {},
   "outputs": [],
   "source": [
    "bd_train=bd_all[bd_all['data']=='train']\n",
    "del bd_train['data']\n",
    "bd_test=bd_all[bd_all['data']=='test']\n",
    "bd_test.drop(['Revenue.Grid','data'],axis=1,inplace=True)"
   ]
  },
  {
   "cell_type": "code",
   "execution_count": null,
   "metadata": {},
   "outputs": [],
   "source": [
    "from sklearn.linear_model import LogisticRegression\n",
    "from sklearn.metrics import roc_auc_score\n",
    "from sklearn.model_selection import GridSearchCV"
   ]
  },
  {
   "cell_type": "code",
   "execution_count": null,
   "metadata": {},
   "outputs": [],
   "source": [
    "params={'class_weight':['balanced',None],\n",
    "        'penalty':['l1','l2'],\n",
    "        'C':np.linspace(0.01,1000,10)}"
   ]
  },
  {
   "cell_type": "code",
   "execution_count": null,
   "metadata": {},
   "outputs": [],
   "source": [
    "model=LogisticRegression(fit_intercept=True)"
   ]
  },
  {
   "cell_type": "code",
   "execution_count": null,
   "metadata": {},
   "outputs": [],
   "source": [
    "grid_search=GridSearchCV(model,param_grid=params,cv=5,scoring=\"roc_auc\")"
   ]
  },
  {
   "cell_type": "code",
   "execution_count": null,
   "metadata": {},
   "outputs": [],
   "source": [
    "x_train=bd_train.drop('Revenue.Grid',axis=1)\n",
    "y_train=bd_train['Revenue.Grid']"
   ]
  },
  {
   "cell_type": "code",
   "execution_count": null,
   "metadata": {},
   "outputs": [],
   "source": [
    "grid_search.fit(x_train,y_train)"
   ]
  },
  {
   "cell_type": "code",
   "execution_count": null,
   "metadata": {},
   "outputs": [],
   "source": [
    "grid_search.best_estimator_"
   ]
  },
  {
   "cell_type": "code",
   "execution_count": null,
   "metadata": {},
   "outputs": [],
   "source": [
    "logr=grid_search.best_estimator_"
   ]
  },
  {
   "cell_type": "code",
   "execution_count": null,
   "metadata": {},
   "outputs": [],
   "source": [
    "report(grid_search.cv_results_,5)"
   ]
  },
  {
   "cell_type": "code",
   "execution_count": null,
   "metadata": {},
   "outputs": [],
   "source": [
    "logr.fit(x_train,y_train)"
   ]
  },
  {
   "cell_type": "code",
   "execution_count": null,
   "metadata": {},
   "outputs": [],
   "source": [
    "cutoffs=np.linspace(0.01,0.99,99)\n",
    "\n",
    "cutoffs"
   ]
  },
  {
   "cell_type": "code",
   "execution_count": null,
   "metadata": {},
   "outputs": [],
   "source": [
    "train_score=logr.predict_proba(x_train)[:,1]\n",
    "\n",
    "real=y_train"
   ]
  },
  {
   "cell_type": "code",
   "execution_count": null,
   "metadata": {},
   "outputs": [],
   "source": [
    "train_score>0.2"
   ]
  },
  {
   "cell_type": "code",
   "execution_count": null,
   "metadata": {},
   "outputs": [],
   "source": [
    "KS_all=[]\n",
    "\n",
    "for cutoff in cutoffs:\n",
    "    \n",
    "    predicted=(train_score>cutoff).astype(int)\n",
    "\n",
    "    TP=((predicted==1) & (real==1)).sum()\n",
    "    TN=((predicted==0) & (real==0)).sum()\n",
    "    FP=((predicted==1) & (real==0)).sum()\n",
    "    FN=((predicted==0) & (real==1)).sum()\n",
    "    \n",
    "    P=TP+FN\n",
    "    N=TN+FP\n",
    "      \n",
    "    KS=(TP/P)-(FP/N)\n",
    "    \n",
    "    KS_all.append(KS)\n",
    "\n",
    "# try out what cutoffs you get when you use F_beta scores with different values of betas [0.5 , 5]\n",
    "# beta < 1 : you will get cutoff , which is high ( favours precision)\n",
    "# beta > 1 : you will get cutoff , which is low (favours precision )"
   ]
  },
  {
   "cell_type": "code",
   "execution_count": null,
   "metadata": {},
   "outputs": [],
   "source": [
    "mycutoff=cutoffs[KS_all==max(KS_all)][0]\n",
    "mycutoff"
   ]
  },
  {
   "cell_type": "code",
   "execution_count": null,
   "metadata": {},
   "outputs": [],
   "source": [
    "logr.intercept_"
   ]
  },
  {
   "cell_type": "code",
   "execution_count": null,
   "metadata": {},
   "outputs": [],
   "source": [
    "list(zip(x_train.columns,logr.coef_[0]))"
   ]
  },
  {
   "cell_type": "markdown",
   "metadata": {},
   "source": [
    "if you simply had to submit probability scores , you could do this "
   ]
  },
  {
   "cell_type": "code",
   "execution_count": null,
   "metadata": {},
   "outputs": [],
   "source": [
    "test_score=logr.predict_proba(bd_test)[:,1]\n",
    "pd.DataFrame(test_score).to_csv(\"mysubmission.csv\",index=False)"
   ]
  },
  {
   "cell_type": "code",
   "execution_count": null,
   "metadata": {},
   "outputs": [],
   "source": [
    "test_score"
   ]
  },
  {
   "cell_type": "markdown",
   "metadata": {},
   "source": [
    "if you had to submit hardclasses , you can apply the cutoff obtained above and then submit"
   ]
  },
  {
   "cell_type": "code",
   "execution_count": null,
   "metadata": {},
   "outputs": [],
   "source": [
    "test_classes=(test_score>mycutoff).astype(int)"
   ]
  },
  {
   "cell_type": "code",
   "execution_count": null,
   "metadata": {},
   "outputs": [],
   "source": [
    "a=pd.DataFrame(test_classes,columns=['cls'])\n",
    "a['cls'].value_counts()\n",
    "#a.info()"
   ]
  },
  {
   "cell_type": "code",
   "execution_count": null,
   "metadata": {},
   "outputs": [],
   "source": [
    "np.unique(test_classes,return_counts=True)"
   ]
  },
  {
   "cell_type": "code",
   "execution_count": null,
   "metadata": {},
   "outputs": [],
   "source": [
    "pd.DataFrame(test_classes).to_csv(\"mysubmission.csv\",index=False)"
   ]
  },
  {
   "cell_type": "code",
   "execution_count": null,
   "metadata": {},
   "outputs": [],
   "source": []
  },
  {
   "cell_type": "code",
   "execution_count": null,
   "metadata": {},
   "outputs": [],
   "source": []
  }
 ],
 "metadata": {
  "kernelspec": {
   "display_name": "Python 3",
   "language": "python",
   "name": "python3"
  },
  "language_info": {
   "codemirror_mode": {
    "name": "ipython",
    "version": 3
   },
   "file_extension": ".py",
   "mimetype": "text/x-python",
   "name": "python",
   "nbconvert_exporter": "python",
   "pygments_lexer": "ipython3",
   "version": "3.7.6"
  }
 },
 "nbformat": 4,
 "nbformat_minor": 4
}
