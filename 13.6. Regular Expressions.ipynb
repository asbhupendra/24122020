{
 "cells": [
  {
   "cell_type": "code",
   "execution_count": 1,
   "metadata": {},
   "outputs": [
    {
     "data": {
      "text/plain": [
       "'rtring'"
      ]
     },
     "execution_count": 1,
     "metadata": {},
     "output_type": "execute_result"
    }
   ],
   "source": [
    "import re\n",
    "re.sub(\"s\",\"r\",\"string\")"
   ]
  },
  {
   "cell_type": "code",
   "execution_count": 2,
   "metadata": {},
   "outputs": [
    {
     "data": {
      "text/plain": [
       "['abc***xyz', 'define456', '789sth', '379tut']"
      ]
     },
     "execution_count": 2,
     "metadata": {},
     "output_type": "execute_result"
    }
   ],
   "source": [
    "import re\n",
    "\n",
    "mylist=[\"abc123xyz\",\"define456\",\"789sth\",\"379tut\"]\n",
    "[re.sub(\"123\",\"***\",elem) for elem in mylist]"
   ]
  },
  {
   "cell_type": "code",
   "execution_count": 3,
   "metadata": {},
   "outputs": [
    {
     "data": {
      "text/plain": [
       "['abc***xyz', 'define***', '***sth', '***tut', 't***p*']"
      ]
     },
     "execution_count": 3,
     "metadata": {},
     "output_type": "execute_result"
    }
   ],
   "source": [
    "mylist=[\"abc123xyz\",\"define456\",\"789sth\",\"379tut\",\"t899p6\"]\n",
    "[re.sub(\"\\\\d\",\"*\",elem) for elem in mylist]"
   ]
  },
  {
   "cell_type": "code",
   "execution_count": 4,
   "metadata": {},
   "outputs": [
    {
     "data": {
      "text/plain": [
       "['abc+xyz', 'define+', '+sth', '+tut', 't9p+']"
      ]
     },
     "execution_count": 4,
     "metadata": {},
     "output_type": "execute_result"
    }
   ],
   "source": [
    "mylist=[\"abc123xyz\",\"define456\",\"789sth\",\"379tut\",\"t9p888\"]\n",
    "[re.sub(\"\\\\d\\\\d\\\\d\",\"+\",elem) for elem in mylist]"
   ]
  },
  {
   "cell_type": "code",
   "execution_count": 5,
   "metadata": {},
   "outputs": [
    {
     "data": {
      "text/plain": [
       "['abc123xyz', 'define456', '-sth', '-tut']"
      ]
     },
     "execution_count": 5,
     "metadata": {},
     "output_type": "execute_result"
    }
   ],
   "source": [
    "mylist=[\"abc123xyz\",\"define456\",\"789sth\",\"379tut\"]\n",
    "[re.sub(\"\\\\d\\\\d9\",\"-\",elem) for elem in mylist]"
   ]
  },
  {
   "cell_type": "code",
   "execution_count": 6,
   "metadata": {},
   "outputs": [
    {
     "data": {
      "text/plain": [
       "['++++', '++++', '++++++++', '+++']"
      ]
     },
     "execution_count": 6,
     "metadata": {},
     "output_type": "execute_result"
    }
   ],
   "source": [
    "# 2 : . means any single character, for symbol . use \\\\. \n",
    "\n",
    "mylist=[\"ab@c\",\"123#\",\"$qwe.123\",\"...\"]\n",
    "\n",
    "[re.sub(\".\",\"+\",elem) for elem in mylist]"
   ]
  },
  {
   "cell_type": "code",
   "execution_count": 7,
   "metadata": {},
   "outputs": [
    {
     "data": {
      "text/plain": [
       "['ab@c', '123#', '$qwe+123', '+++']"
      ]
     },
     "execution_count": 7,
     "metadata": {},
     "output_type": "execute_result"
    }
   ],
   "source": [
    "[re.sub(\"\\\\.\",\"+\",elem) for elem in mylist]"
   ]
  },
  {
   "cell_type": "code",
   "execution_count": 8,
   "metadata": {},
   "outputs": [],
   "source": [
    "#exercise : substitute first two members only with a single MATCHs\n",
    "mylist=[\"896.\",\"?Q+.\",\"abc1\"]\n",
    "# [\"Match\",\"Match\",\"abc1\"]"
   ]
  },
  {
   "cell_type": "code",
   "execution_count": 9,
   "metadata": {},
   "outputs": [
    {
     "data": {
      "text/plain": [
       "['+', '+', 'abc1']"
      ]
     },
     "execution_count": 9,
     "metadata": {},
     "output_type": "execute_result"
    }
   ],
   "source": [
    "[re.sub(\"...\\\\.\",\"+\",elem) for elem in mylist]"
   ]
  },
  {
   "cell_type": "code",
   "execution_count": 10,
   "metadata": {},
   "outputs": [
    {
     "data": {
      "text/plain": [
       "['abc', 'abc', 'abc']"
      ]
     },
     "execution_count": 10,
     "metadata": {},
     "output_type": "execute_result"
    }
   ],
   "source": [
    "# 3 : replacing multiple characters at once\n",
    "\n",
    "mylist=[\"<abc\",\"#abc\",\"abc<#%\"]\n",
    "\n",
    "[re.sub(\"[<#%]\",\"\",elem) for elem in mylist]"
   ]
  },
  {
   "cell_type": "code",
   "execution_count": 11,
   "metadata": {},
   "outputs": [
    {
     "data": {
      "text/plain": [
       "['abc', 'abc', 'acb']"
      ]
     },
     "execution_count": 11,
     "metadata": {},
     "output_type": "execute_result"
    }
   ],
   "source": [
    "# 4 : excluding a pattern with metacharacter ^\n",
    "\n",
    "mylist=[\"<abc\",\"#1abc\",\"acb%\"]\n",
    "[re.sub(\"[^abc]\",\"\",elem) for elem in mylist]"
   ]
  },
  {
   "cell_type": "code",
   "execution_count": 12,
   "metadata": {},
   "outputs": [
    {
     "data": {
      "text/plain": [
       "['abc', 'def', 'hi']"
      ]
     },
     "execution_count": 12,
     "metadata": {},
     "output_type": "execute_result"
    }
   ],
   "source": [
    "# 5 : character ranges with -\n",
    "\n",
    "mylist=[\"<abc\",\"#def\",\"Ghi%\"]\n",
    "[re.sub(\"[^a-z]\",\"\",elem) for elem in mylist]\n"
   ]
  },
  {
   "cell_type": "code",
   "execution_count": 13,
   "metadata": {},
   "outputs": [
    {
     "data": {
      "text/plain": [
       "['<', '#', 'G%']"
      ]
     },
     "execution_count": 13,
     "metadata": {},
     "output_type": "execute_result"
    }
   ],
   "source": [
    "[re.sub(\"[a-z]\",\"\",elem) for elem in mylist]"
   ]
  },
  {
   "cell_type": "code",
   "execution_count": 14,
   "metadata": {},
   "outputs": [],
   "source": [
    "#exercise:\n",
    "myvec=[\"Ana\",\"Bob\",\"Cpc\",\"aax\",\"bby\",\"ccz\"]\n",
    "\n",
    "# Match  Ana,Bob,Cpc\t\n",
    "# Skip\taax,bby,ccz"
   ]
  },
  {
   "cell_type": "code",
   "execution_count": 15,
   "metadata": {},
   "outputs": [
    {
     "data": {
      "text/plain": [
       "['', '', '', 'aax', 'bby', 'ccz']"
      ]
     },
     "execution_count": 15,
     "metadata": {},
     "output_type": "execute_result"
    }
   ],
   "source": [
    "[re.sub(\"[A-Z][a-z][a-z]\",\"\",elem) for elem in myvec]"
   ]
  },
  {
   "cell_type": "code",
   "execution_count": 16,
   "metadata": {},
   "outputs": [
    {
     "data": {
      "text/plain": [
       "['abcxyz', 'define', 'sth', 'tut6', '8lkkjh']"
      ]
     },
     "execution_count": 16,
     "metadata": {},
     "output_type": "execute_result"
    }
   ],
   "source": [
    "# 6 : more compact way for repetition\n",
    "\n",
    "myvec=[\"abc123xyz\",\"define456\",\"789sth\",\"379tut6\",\"7678lkkjh\"]\n",
    "#[re.sub(\"\\\\d\\\\d\\\\d\",\"+\",elem) for elem in myvec]\n",
    "[re.sub(\"\\\\d{3}\",\"\",elem) for elem in myvec]"
   ]
  },
  {
   "cell_type": "code",
   "execution_count": 17,
   "metadata": {},
   "outputs": [
    {
     "data": {
      "text/plain": [
       "['abcxyz', 'define', 'sth', 'tut6', 'lkkjh', '8yyu9']"
      ]
     },
     "execution_count": 17,
     "metadata": {},
     "output_type": "execute_result"
    }
   ],
   "source": [
    "myvec=[\"abc123xyz\",\"define456\",\"789sth\",\"379tut6\",\"7678lkkjh\",\"87878yyu9\"]\n",
    "#[re.sub(\"\\\\d\\\\d\\\\d\",\"+\",elem) for elem in myvec]\n",
    "[re.sub(\"\\\\d{3,4}\",\"\",elem) for elem in myvec]"
   ]
  },
  {
   "cell_type": "code",
   "execution_count": 18,
   "metadata": {},
   "outputs": [
    {
     "data": {
      "text/plain": [
       "['abc+xy+z+', 'def+ine+', '+sth', '+tut6']"
      ]
     },
     "execution_count": 18,
     "metadata": {},
     "output_type": "execute_result"
    }
   ],
   "source": [
    "myvec=[\"abc123xy1234z12345\",\"def4567ine456\",\"789sth\",\"379tut6\"]\n",
    "[re.sub(\"\\\\d{3,5}\",\"+\",elem) for elem in myvec]"
   ]
  },
  {
   "cell_type": "code",
   "execution_count": 19,
   "metadata": {},
   "outputs": [
    {
     "data": {
      "text/plain": [
       "['abc+xy+z+', 'def+ine+', '+sth', '+tut6']"
      ]
     },
     "execution_count": 19,
     "metadata": {},
     "output_type": "execute_result"
    }
   ],
   "source": [
    "[re.sub(\"\\\\d{3,}\",\"+\",elem) for elem in myvec]"
   ]
  },
  {
   "cell_type": "code",
   "execution_count": 20,
   "metadata": {},
   "outputs": [
    {
     "data": {
      "text/plain": [
       "['abc+xy+4z+45', 'def+7ine+', '+sth', '+tut6']"
      ]
     },
     "execution_count": 20,
     "metadata": {},
     "output_type": "execute_result"
    }
   ],
   "source": [
    "[re.sub(\"\\\\d{3}\",\"+\",elem) for elem in myvec]"
   ]
  },
  {
   "cell_type": "code",
   "execution_count": 21,
   "metadata": {},
   "outputs": [
    {
     "data": {
      "text/plain": [
       "['abc+xy+z+', 'def+ine+', '+sth', '+tut+']"
      ]
     },
     "execution_count": 21,
     "metadata": {},
     "output_type": "execute_result"
    }
   ],
   "source": [
    "[re.sub(\"\\\\d{1,}\",\"+\",elem) for elem in myvec]"
   ]
  },
  {
   "cell_type": "code",
   "execution_count": 22,
   "metadata": {},
   "outputs": [],
   "source": [
    "# 7 : Kleene Plus and Kleene Star\n",
    "\n",
    "# * means it matches zero or more character\n",
    "# + means it matches atleast one or more character\n",
    "\n",
    "# people names\n",
    "people = [\"rori\", \"emmilia\", \"mehment\", \"filipe\",\n",
    "          \"anna\", \"tyler\",\n",
    "           \"rasmus\", \"mit jacob\", \"youna\", \"flora\", \"adi ammmmmit\",\"matteo\"]"
   ]
  },
  {
   "cell_type": "code",
   "execution_count": 23,
   "metadata": {},
   "outputs": [
    {
     "data": {
      "text/plain": [
       "['rori',\n",
       " 'emmilia',\n",
       " 'mehmen+',\n",
       " 'filipe',\n",
       " 'anna',\n",
       " '+yler',\n",
       " 'rasmus',\n",
       " 'mi+ jacob',\n",
       " 'youna',\n",
       " 'flora',\n",
       " 'adi ammmmmi+',\n",
       " 'ma++eo']"
      ]
     },
     "execution_count": 23,
     "metadata": {},
     "output_type": "execute_result"
    }
   ],
   "source": [
    "# match m zero or more times, and t\n",
    "[re.sub(\"m*t\",\"+\",elem) for elem in people]"
   ]
  },
  {
   "cell_type": "code",
   "execution_count": 24,
   "metadata": {},
   "outputs": [
    {
     "data": {
      "text/plain": [
       "['rori',\n",
       " 'emmilia',\n",
       " 'matteo',\n",
       " 'mehme+',\n",
       " 'filipe',\n",
       " 'anna',\n",
       " 'tyler',\n",
       " 'rasmus',\n",
       " '+ jacob',\n",
       " 'youna',\n",
       " 'flora',\n",
       " 'adi +']"
      ]
     },
     "execution_count": 24,
     "metadata": {},
     "output_type": "execute_result"
    }
   ],
   "source": [
    "people = [\"rori\", \"emmilia\", \"matteo\", \"mehmemt\", \"filipe\",\n",
    "          \"anna\", \"tyler\",\n",
    "           \"rasmus\", \"mt jacob\", \"youna\", \"flora\", \"adi mmt\"]\n",
    "[re.sub(\"m+t\",\"+\",elem) for elem in people]"
   ]
  },
  {
   "cell_type": "code",
   "execution_count": 25,
   "metadata": {},
   "outputs": [
    {
     "data": {
      "text/plain": [
       "['ac', '+', 'ab?c', '12ac']"
      ]
     },
     "execution_count": 25,
     "metadata": {},
     "output_type": "execute_result"
    }
   ],
   "source": [
    "# 8 : metacharacter or with ?\n",
    "\n",
    "myvec=[\"ac\",\"abc\",\"ab?c\",\"12ac\"]\n",
    "[re.sub(\"abc\",\"+\",elem) for elem in myvec]"
   ]
  },
  {
   "cell_type": "code",
   "execution_count": 26,
   "metadata": {},
   "outputs": [
    {
     "data": {
      "text/plain": [
       "['+', '+', 'ab?c', '12+']"
      ]
     },
     "execution_count": 26,
     "metadata": {},
     "output_type": "execute_result"
    }
   ],
   "source": [
    "[re.sub(\"ab?c\",\"+\",elem) for elem in myvec]"
   ]
  },
  {
   "cell_type": "code",
   "execution_count": 27,
   "metadata": {},
   "outputs": [
    {
     "data": {
      "text/plain": [
       "['+', '+', '+', '12+']"
      ]
     },
     "execution_count": 27,
     "metadata": {},
     "output_type": "execute_result"
    }
   ],
   "source": [
    "[re.sub(\"ab?\\\\??c\",\"+\",elem) for elem in myvec]"
   ]
  },
  {
   "cell_type": "code",
   "execution_count": 28,
   "metadata": {},
   "outputs": [
    {
     "data": {
      "text/plain": [
       "['+',\n",
       " '+',\n",
       " 'file.pdf',\n",
       " 'fileabcpdf',\n",
       " '+',\n",
       " 'testfile_fake.pdf.tmp',\n",
       " 'file_record_transcript.pdff']"
      ]
     },
     "execution_count": 28,
     "metadata": {},
     "output_type": "execute_result"
    }
   ],
   "source": [
    "# 10 : ^ start and $ end\n",
    "myvec=[\"file_record_transcript.pdf\",\"file_07241999.pdf\",\n",
    "       \"file.pdf\",\n",
    "        \"fileabcpdf\",\"fileabc.pdf\",\"testfile_fake.pdf.tmp\",\n",
    "       \"file_record_transcript.pdff\"]\n",
    "\n",
    "[re.sub(\"^file.+\\\\.pdf$\",\"+\",elem) for elem in myvec]"
   ]
  },
  {
   "cell_type": "code",
   "execution_count": 29,
   "metadata": {},
   "outputs": [
    {
     "data": {
      "text/plain": [
       "['+',\n",
       " '+',\n",
       " '+',\n",
       " 'fileabcpdf',\n",
       " '+',\n",
       " 'testfile_fake.pdf.tmp',\n",
       " 'file_record_transcript.pdff']"
      ]
     },
     "execution_count": 29,
     "metadata": {},
     "output_type": "execute_result"
    }
   ],
   "source": [
    "# 10 : ^ start and $ end\n",
    "myvec=[\"file_record_transcript.pdf\",\"file_07241999.pdf\",\n",
    "       \"file.pdf\",\n",
    "        \"fileabcpdf\",\"fileabc.pdf\",\"testfile_fake.pdf.tmp\",\n",
    "       \"file_record_transcript.pdff\"]\n",
    "\n",
    "[re.sub(\"^file.*\\\\.pdf$\",\"+\",elem) for elem in myvec]"
   ]
  },
  {
   "cell_type": "code",
   "execution_count": 30,
   "metadata": {},
   "outputs": [
    {
     "data": {
      "text/plain": [
       "['+', '+', '+', '12+', '+']"
      ]
     },
     "execution_count": 30,
     "metadata": {},
     "output_type": "execute_result"
    }
   ],
   "source": [
    "# 11 : groups with ()\n",
    "\n",
    "myvec=[\"ac\",\"abc\",\"aQAc\",\"12ac\",\"abQAc\"]\n",
    "[re.sub(\"ab?Q?A?c\",\"+\",elem) for elem in myvec]"
   ]
  },
  {
   "cell_type": "code",
   "execution_count": 31,
   "metadata": {},
   "outputs": [
    {
     "data": {
      "text/plain": [
       "['ac', 'abc', '+', '12ac', '+']"
      ]
     },
     "execution_count": 31,
     "metadata": {},
     "output_type": "execute_result"
    }
   ],
   "source": [
    "[re.sub(\"ab?QA?c\",\"+\",elem) for elem in myvec]"
   ]
  },
  {
   "cell_type": "code",
   "execution_count": 32,
   "metadata": {},
   "outputs": [
    {
     "data": {
      "text/plain": [
       "['+', '+', '+', '12+', '+']"
      ]
     },
     "execution_count": 32,
     "metadata": {},
     "output_type": "execute_result"
    }
   ],
   "source": [
    "[re.sub(\"ab?(QA)?c\",\"+\",elem) for elem in myvec]"
   ]
  },
  {
   "cell_type": "markdown",
   "metadata": {},
   "source": [
    "## Extracting with findall"
   ]
  },
  {
   "cell_type": "code",
   "execution_count": 33,
   "metadata": {},
   "outputs": [],
   "source": [
    "mydata=['name:lalit, phone:9920581396','name:john doe , contact:123467890']"
   ]
  },
  {
   "cell_type": "code",
   "execution_count": 34,
   "metadata": {},
   "outputs": [
    {
     "data": {
      "text/plain": [
       "[['9920581396'], []]"
      ]
     },
     "execution_count": 34,
     "metadata": {},
     "output_type": "execute_result"
    }
   ],
   "source": [
    "[re.findall('\\\\d{10}',x) for x in mydata]"
   ]
  },
  {
   "cell_type": "code",
   "execution_count": 35,
   "metadata": {},
   "outputs": [
    {
     "data": {
      "text/plain": [
       "[['(091)(9920581396)'], ['(1)(6666681396)'], []]"
      ]
     },
     "execution_count": 35,
     "metadata": {},
     "output_type": "execute_result"
    }
   ],
   "source": [
    "mydata=['phone:(091)(9920581396)','contact:(1)(6666681396)','contact:16666681396']\n",
    "[re.findall('\\\\(\\\\d{1,3}\\\\)\\\\(\\\\d{10}\\\\)',x) for x in mydata]"
   ]
  }
 ],
 "metadata": {
  "kernelspec": {
   "display_name": "Python 3",
   "language": "python",
   "name": "python3"
  },
  "language_info": {
   "codemirror_mode": {
    "name": "ipython",
    "version": 3
   },
   "file_extension": ".py",
   "mimetype": "text/x-python",
   "name": "python",
   "nbconvert_exporter": "python",
   "pygments_lexer": "ipython3",
   "version": "3.7.4"
  }
 },
 "nbformat": 4,
 "nbformat_minor": 4
}
