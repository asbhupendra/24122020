{
 "cells": [
  {
   "cell_type": "markdown",
   "metadata": {},
   "source": [
    "# t-sne"
   ]
  },
  {
   "cell_type": "code",
   "execution_count": null,
   "metadata": {},
   "outputs": [],
   "source": [
    "import pandas as pd\n",
    "import numpy as np\n",
    "from sklearn.decomposition import PCA\n",
    "from sklearn.preprocessing import scale\n",
    "from sklearn.manifold import TSNE"
   ]
  },
  {
   "cell_type": "code",
   "execution_count": null,
   "metadata": {},
   "outputs": [],
   "source": [
    "from sklearn import datasets\n",
    "digits = datasets.load_digits()\n",
    "# Take the first 500 data points: it's hard to see 1500 points\n",
    "X = digits.data[:500]\n",
    "y = digits.target[:500]"
   ]
  },
  {
   "cell_type": "code",
   "execution_count": null,
   "metadata": {},
   "outputs": [],
   "source": []
  },
  {
   "cell_type": "code",
   "execution_count": null,
   "metadata": {},
   "outputs": [],
   "source": [
    "X.shape"
   ]
  },
  {
   "cell_type": "code",
   "execution_count": null,
   "metadata": {},
   "outputs": [],
   "source": [
    "pd.DataFrame(X).head()"
   ]
  },
  {
   "cell_type": "code",
   "execution_count": null,
   "metadata": {},
   "outputs": [],
   "source": [
    "from sklearn.manifold import TSNE\n",
    "tsne = TSNE(n_components=2, random_state=0)"
   ]
  },
  {
   "cell_type": "code",
   "execution_count": null,
   "metadata": {},
   "outputs": [],
   "source": [
    "X_2d = tsne.fit_transform(X)"
   ]
  },
  {
   "cell_type": "code",
   "execution_count": null,
   "metadata": {},
   "outputs": [],
   "source": [
    "mydata=pd.DataFrame(X_2d,columns=['X','Y'])"
   ]
  },
  {
   "cell_type": "code",
   "execution_count": null,
   "metadata": {},
   "outputs": [],
   "source": [
    "mydata['digits']=y"
   ]
  },
  {
   "cell_type": "code",
   "execution_count": null,
   "metadata": {},
   "outputs": [],
   "source": [
    "mydata"
   ]
  },
  {
   "cell_type": "code",
   "execution_count": null,
   "metadata": {},
   "outputs": [],
   "source": [
    "import seaborn as sns\n",
    "%matplotlib inline"
   ]
  },
  {
   "cell_type": "code",
   "execution_count": null,
   "metadata": {},
   "outputs": [],
   "source": [
    "sns.lmplot('X','Y',hue='digits',data=mydata,fit_reg=False)"
   ]
  },
  {
   "cell_type": "markdown",
   "metadata": {},
   "source": [
    "# tsne on wine data"
   ]
  },
  {
   "cell_type": "code",
   "execution_count": null,
   "metadata": {},
   "outputs": [],
   "source": [
    "wine=pd.read_csv(r'/Users/ed/Dropbox/Python/Dataset/Data/Data/winequality-white.csv',sep=\";\")"
   ]
  },
  {
   "cell_type": "code",
   "execution_count": null,
   "metadata": {},
   "outputs": [],
   "source": [
    "wine.shape"
   ]
  },
  {
   "cell_type": "code",
   "execution_count": null,
   "metadata": {},
   "outputs": [],
   "source": [
    "wine.head()"
   ]
  },
  {
   "cell_type": "code",
   "execution_count": null,
   "metadata": {},
   "outputs": [],
   "source": [
    "X=scale(wine.iloc[:,:-1])"
   ]
  },
  {
   "cell_type": "code",
   "execution_count": null,
   "metadata": {},
   "outputs": [],
   "source": [
    "X"
   ]
  },
  {
   "cell_type": "code",
   "execution_count": null,
   "metadata": {},
   "outputs": [],
   "source": [
    "X_2d=tsne.fit_transform(X)"
   ]
  },
  {
   "cell_type": "code",
   "execution_count": null,
   "metadata": {},
   "outputs": [],
   "source": [
    "mydata=pd.DataFrame(X_2d,columns=['X','Y'])"
   ]
  },
  {
   "cell_type": "code",
   "execution_count": null,
   "metadata": {},
   "outputs": [],
   "source": [
    "mydata['quality']=wine['quality']"
   ]
  },
  {
   "cell_type": "code",
   "execution_count": null,
   "metadata": {},
   "outputs": [],
   "source": [
    "sns.lmplot('X','Y',data=mydata,fit_reg=False)"
   ]
  },
  {
   "cell_type": "code",
   "execution_count": null,
   "metadata": {},
   "outputs": [],
   "source": [
    "sns.lmplot('X','Y',hue='quality',data=mydata,fit_reg=False)"
   ]
  },
  {
   "cell_type": "code",
   "execution_count": null,
   "metadata": {},
   "outputs": [],
   "source": [
    "mydata['quality'].value_counts()"
   ]
  },
  {
   "cell_type": "markdown",
   "metadata": {},
   "source": [
    "# PCA"
   ]
  },
  {
   "cell_type": "code",
   "execution_count": 76,
   "metadata": {},
   "outputs": [],
   "source": [
    "import pandas as pd\n",
    "import numpy as np\n",
    "from sklearn.decomposition import PCA,FactorAnalysis\n",
    "from sklearn.preprocessing import scale"
   ]
  },
  {
   "cell_type": "code",
   "execution_count": 77,
   "metadata": {},
   "outputs": [],
   "source": [
    "file=r'/Users/ed/Dropbox/Python/Dataset/Data/Data/Existing Base.csv'"
   ]
  },
  {
   "cell_type": "code",
   "execution_count": 78,
   "metadata": {},
   "outputs": [],
   "source": [
    "bd=pd.read_csv(file)"
   ]
  },
  {
   "cell_type": "code",
   "execution_count": 79,
   "metadata": {},
   "outputs": [
    {
     "data": {
      "text/plain": [
       "(10155, 32)"
      ]
     },
     "execution_count": 79,
     "metadata": {},
     "output_type": "execute_result"
    }
   ],
   "source": [
    "bd.shape"
   ]
  },
  {
   "cell_type": "code",
   "execution_count": 80,
   "metadata": {},
   "outputs": [
    {
     "data": {
      "text/plain": [
       "Index(['REF_NO', 'children', 'age_band', 'status', 'occupation',\n",
       "       'occupation_partner', 'home_status', 'family_income', 'self_employed',\n",
       "       'self_employed_partner', 'year_last_moved', 'TVarea', 'post_code',\n",
       "       'post_area', 'Average Credit Card Transaction', 'Balance Transfer',\n",
       "       'Term Deposit', 'Life Insurance', 'Medical Insurance',\n",
       "       'Average A/C Balance', 'Personal Loan', 'Investment in Mutual Fund',\n",
       "       'Investment Tax Saving Bond', 'Home Loan', 'Online Purchase Amount',\n",
       "       'Revenue Grid', 'gender', 'region', 'Investment in Commudity',\n",
       "       'Investment in Equity', 'Investment in Derivative',\n",
       "       'Portfolio Balance'],\n",
       "      dtype='object')"
      ]
     },
     "execution_count": 80,
     "metadata": {},
     "output_type": "execute_result"
    }
   ],
   "source": [
    "bd.columns"
   ]
  },
  {
   "cell_type": "code",
   "execution_count": 81,
   "metadata": {},
   "outputs": [],
   "source": [
    "bd=bd[['Average Credit Card Transaction', 'Balance Transfer',\n",
    "       'Term Deposit', 'Life Insurance', 'Medical Insurance',\n",
    "       'Average A/C Balance', 'Personal Loan', 'Investment in Mutual Fund',\n",
    "       'Investment Tax Saving Bond', 'Home Loan', 'Online Purchase Amount',\n",
    "        'Investment in Commudity',\n",
    "       'Investment in Equity', 'Investment in Derivative',\n",
    "       'Portfolio Balance']]"
   ]
  },
  {
   "cell_type": "code",
   "execution_count": 82,
   "metadata": {},
   "outputs": [
    {
     "data": {
      "text/html": [
       "<div>\n",
       "<style scoped>\n",
       "    .dataframe tbody tr th:only-of-type {\n",
       "        vertical-align: middle;\n",
       "    }\n",
       "\n",
       "    .dataframe tbody tr th {\n",
       "        vertical-align: top;\n",
       "    }\n",
       "\n",
       "    .dataframe thead th {\n",
       "        text-align: right;\n",
       "    }\n",
       "</style>\n",
       "<table border=\"1\" class=\"dataframe\">\n",
       "  <thead>\n",
       "    <tr style=\"text-align: right;\">\n",
       "      <th></th>\n",
       "      <th>Average Credit Card Transaction</th>\n",
       "      <th>Balance Transfer</th>\n",
       "      <th>Term Deposit</th>\n",
       "      <th>Life Insurance</th>\n",
       "      <th>Medical Insurance</th>\n",
       "      <th>Average A/C Balance</th>\n",
       "      <th>Personal Loan</th>\n",
       "      <th>Investment in Mutual Fund</th>\n",
       "      <th>Investment Tax Saving Bond</th>\n",
       "      <th>Home Loan</th>\n",
       "      <th>Online Purchase Amount</th>\n",
       "      <th>Investment in Commudity</th>\n",
       "      <th>Investment in Equity</th>\n",
       "      <th>Investment in Derivative</th>\n",
       "      <th>Portfolio Balance</th>\n",
       "    </tr>\n",
       "  </thead>\n",
       "  <tbody>\n",
       "    <tr>\n",
       "      <th>Average Credit Card Transaction</th>\n",
       "      <td>1.000000</td>\n",
       "      <td>0.123855</td>\n",
       "      <td>0.323462</td>\n",
       "      <td>0.145041</td>\n",
       "      <td>0.405090</td>\n",
       "      <td>0.172240</td>\n",
       "      <td>0.087289</td>\n",
       "      <td>0.150667</td>\n",
       "      <td>0.133126</td>\n",
       "      <td>0.087695</td>\n",
       "      <td>0.132518</td>\n",
       "      <td>0.497025</td>\n",
       "      <td>0.205289</td>\n",
       "      <td>0.228141</td>\n",
       "      <td>0.335674</td>\n",
       "    </tr>\n",
       "    <tr>\n",
       "      <th>Balance Transfer</th>\n",
       "      <td>0.123855</td>\n",
       "      <td>1.000000</td>\n",
       "      <td>0.229457</td>\n",
       "      <td>0.564538</td>\n",
       "      <td>0.162085</td>\n",
       "      <td>0.358938</td>\n",
       "      <td>0.351499</td>\n",
       "      <td>0.454602</td>\n",
       "      <td>0.166496</td>\n",
       "      <td>0.153097</td>\n",
       "      <td>0.112012</td>\n",
       "      <td>0.739791</td>\n",
       "      <td>0.463556</td>\n",
       "      <td>0.581039</td>\n",
       "      <td>0.639400</td>\n",
       "    </tr>\n",
       "    <tr>\n",
       "      <th>Term Deposit</th>\n",
       "      <td>0.323462</td>\n",
       "      <td>0.229457</td>\n",
       "      <td>1.000000</td>\n",
       "      <td>0.274691</td>\n",
       "      <td>0.506367</td>\n",
       "      <td>0.274027</td>\n",
       "      <td>0.146755</td>\n",
       "      <td>0.208948</td>\n",
       "      <td>0.176975</td>\n",
       "      <td>0.170584</td>\n",
       "      <td>0.099455</td>\n",
       "      <td>0.620256</td>\n",
       "      <td>0.266908</td>\n",
       "      <td>0.354304</td>\n",
       "      <td>0.454740</td>\n",
       "    </tr>\n",
       "    <tr>\n",
       "      <th>Life Insurance</th>\n",
       "      <td>0.145041</td>\n",
       "      <td>0.564538</td>\n",
       "      <td>0.274691</td>\n",
       "      <td>1.000000</td>\n",
       "      <td>0.238435</td>\n",
       "      <td>0.514339</td>\n",
       "      <td>0.380563</td>\n",
       "      <td>0.544439</td>\n",
       "      <td>0.263675</td>\n",
       "      <td>0.279959</td>\n",
       "      <td>0.128785</td>\n",
       "      <td>0.803326</td>\n",
       "      <td>0.564287</td>\n",
       "      <td>0.839266</td>\n",
       "      <td>0.787311</td>\n",
       "    </tr>\n",
       "    <tr>\n",
       "      <th>Medical Insurance</th>\n",
       "      <td>0.405090</td>\n",
       "      <td>0.162085</td>\n",
       "      <td>0.506367</td>\n",
       "      <td>0.238435</td>\n",
       "      <td>1.000000</td>\n",
       "      <td>0.264615</td>\n",
       "      <td>0.105134</td>\n",
       "      <td>0.209651</td>\n",
       "      <td>0.201057</td>\n",
       "      <td>0.136310</td>\n",
       "      <td>0.149651</td>\n",
       "      <td>0.548282</td>\n",
       "      <td>0.269922</td>\n",
       "      <td>0.392548</td>\n",
       "      <td>0.441631</td>\n",
       "    </tr>\n",
       "    <tr>\n",
       "      <th>Average A/C Balance</th>\n",
       "      <td>0.172240</td>\n",
       "      <td>0.358938</td>\n",
       "      <td>0.274027</td>\n",
       "      <td>0.514339</td>\n",
       "      <td>0.264615</td>\n",
       "      <td>1.000000</td>\n",
       "      <td>0.219801</td>\n",
       "      <td>0.448270</td>\n",
       "      <td>0.307552</td>\n",
       "      <td>0.367590</td>\n",
       "      <td>0.162821</td>\n",
       "      <td>0.517832</td>\n",
       "      <td>0.600278</td>\n",
       "      <td>0.657742</td>\n",
       "      <td>0.616051</td>\n",
       "    </tr>\n",
       "    <tr>\n",
       "      <th>Personal Loan</th>\n",
       "      <td>0.087289</td>\n",
       "      <td>0.351499</td>\n",
       "      <td>0.146755</td>\n",
       "      <td>0.380563</td>\n",
       "      <td>0.105134</td>\n",
       "      <td>0.219801</td>\n",
       "      <td>1.000000</td>\n",
       "      <td>0.379615</td>\n",
       "      <td>0.233020</td>\n",
       "      <td>0.128062</td>\n",
       "      <td>0.073292</td>\n",
       "      <td>0.377170</td>\n",
       "      <td>0.676053</td>\n",
       "      <td>0.687417</td>\n",
       "      <td>0.598919</td>\n",
       "    </tr>\n",
       "    <tr>\n",
       "      <th>Investment in Mutual Fund</th>\n",
       "      <td>0.150667</td>\n",
       "      <td>0.454602</td>\n",
       "      <td>0.208948</td>\n",
       "      <td>0.544439</td>\n",
       "      <td>0.209651</td>\n",
       "      <td>0.448270</td>\n",
       "      <td>0.379615</td>\n",
       "      <td>1.000000</td>\n",
       "      <td>0.271580</td>\n",
       "      <td>0.261562</td>\n",
       "      <td>0.115087</td>\n",
       "      <td>0.536715</td>\n",
       "      <td>0.693435</td>\n",
       "      <td>0.761125</td>\n",
       "      <td>0.695337</td>\n",
       "    </tr>\n",
       "    <tr>\n",
       "      <th>Investment Tax Saving Bond</th>\n",
       "      <td>0.133126</td>\n",
       "      <td>0.166496</td>\n",
       "      <td>0.176975</td>\n",
       "      <td>0.263675</td>\n",
       "      <td>0.201057</td>\n",
       "      <td>0.307552</td>\n",
       "      <td>0.233020</td>\n",
       "      <td>0.271580</td>\n",
       "      <td>1.000000</td>\n",
       "      <td>0.261626</td>\n",
       "      <td>0.211596</td>\n",
       "      <td>0.289110</td>\n",
       "      <td>0.446271</td>\n",
       "      <td>0.407148</td>\n",
       "      <td>0.395889</td>\n",
       "    </tr>\n",
       "    <tr>\n",
       "      <th>Home Loan</th>\n",
       "      <td>0.087695</td>\n",
       "      <td>0.153097</td>\n",
       "      <td>0.170584</td>\n",
       "      <td>0.279959</td>\n",
       "      <td>0.136310</td>\n",
       "      <td>0.367590</td>\n",
       "      <td>0.128062</td>\n",
       "      <td>0.261562</td>\n",
       "      <td>0.261626</td>\n",
       "      <td>1.000000</td>\n",
       "      <td>0.101066</td>\n",
       "      <td>0.268989</td>\n",
       "      <td>0.348181</td>\n",
       "      <td>0.335651</td>\n",
       "      <td>0.326663</td>\n",
       "    </tr>\n",
       "    <tr>\n",
       "      <th>Online Purchase Amount</th>\n",
       "      <td>0.132518</td>\n",
       "      <td>0.112012</td>\n",
       "      <td>0.099455</td>\n",
       "      <td>0.128785</td>\n",
       "      <td>0.149651</td>\n",
       "      <td>0.162821</td>\n",
       "      <td>0.073292</td>\n",
       "      <td>0.115087</td>\n",
       "      <td>0.211596</td>\n",
       "      <td>0.101066</td>\n",
       "      <td>1.000000</td>\n",
       "      <td>0.180074</td>\n",
       "      <td>0.597440</td>\n",
       "      <td>0.173943</td>\n",
       "      <td>0.309800</td>\n",
       "    </tr>\n",
       "    <tr>\n",
       "      <th>Investment in Commudity</th>\n",
       "      <td>0.497025</td>\n",
       "      <td>0.739791</td>\n",
       "      <td>0.620256</td>\n",
       "      <td>0.803326</td>\n",
       "      <td>0.548282</td>\n",
       "      <td>0.517832</td>\n",
       "      <td>0.377170</td>\n",
       "      <td>0.536715</td>\n",
       "      <td>0.289110</td>\n",
       "      <td>0.268989</td>\n",
       "      <td>0.180074</td>\n",
       "      <td>1.000000</td>\n",
       "      <td>0.586210</td>\n",
       "      <td>0.800779</td>\n",
       "      <td>0.858020</td>\n",
       "    </tr>\n",
       "    <tr>\n",
       "      <th>Investment in Equity</th>\n",
       "      <td>0.205289</td>\n",
       "      <td>0.463556</td>\n",
       "      <td>0.266908</td>\n",
       "      <td>0.564287</td>\n",
       "      <td>0.269922</td>\n",
       "      <td>0.600278</td>\n",
       "      <td>0.676053</td>\n",
       "      <td>0.693435</td>\n",
       "      <td>0.446271</td>\n",
       "      <td>0.348181</td>\n",
       "      <td>0.597440</td>\n",
       "      <td>0.586210</td>\n",
       "      <td>1.000000</td>\n",
       "      <td>0.839552</td>\n",
       "      <td>0.831134</td>\n",
       "    </tr>\n",
       "    <tr>\n",
       "      <th>Investment in Derivative</th>\n",
       "      <td>0.228141</td>\n",
       "      <td>0.581039</td>\n",
       "      <td>0.354304</td>\n",
       "      <td>0.839266</td>\n",
       "      <td>0.392548</td>\n",
       "      <td>0.657742</td>\n",
       "      <td>0.687417</td>\n",
       "      <td>0.761125</td>\n",
       "      <td>0.407148</td>\n",
       "      <td>0.335651</td>\n",
       "      <td>0.173943</td>\n",
       "      <td>0.800779</td>\n",
       "      <td>0.839552</td>\n",
       "      <td>1.000000</td>\n",
       "      <td>0.927232</td>\n",
       "    </tr>\n",
       "    <tr>\n",
       "      <th>Portfolio Balance</th>\n",
       "      <td>0.335674</td>\n",
       "      <td>0.639400</td>\n",
       "      <td>0.454740</td>\n",
       "      <td>0.787311</td>\n",
       "      <td>0.441631</td>\n",
       "      <td>0.616051</td>\n",
       "      <td>0.598919</td>\n",
       "      <td>0.695337</td>\n",
       "      <td>0.395889</td>\n",
       "      <td>0.326663</td>\n",
       "      <td>0.309800</td>\n",
       "      <td>0.858020</td>\n",
       "      <td>0.831134</td>\n",
       "      <td>0.927232</td>\n",
       "      <td>1.000000</td>\n",
       "    </tr>\n",
       "  </tbody>\n",
       "</table>\n",
       "</div>"
      ],
      "text/plain": [
       "                                 Average Credit Card Transaction  \\\n",
       "Average Credit Card Transaction                         1.000000   \n",
       "Balance Transfer                                        0.123855   \n",
       "Term Deposit                                            0.323462   \n",
       "Life Insurance                                          0.145041   \n",
       "Medical Insurance                                       0.405090   \n",
       "Average A/C Balance                                     0.172240   \n",
       "Personal Loan                                           0.087289   \n",
       "Investment in Mutual Fund                               0.150667   \n",
       "Investment Tax Saving Bond                              0.133126   \n",
       "Home Loan                                               0.087695   \n",
       "Online Purchase Amount                                  0.132518   \n",
       "Investment in Commudity                                 0.497025   \n",
       "Investment in Equity                                    0.205289   \n",
       "Investment in Derivative                                0.228141   \n",
       "Portfolio Balance                                       0.335674   \n",
       "\n",
       "                                 Balance Transfer  Term Deposit  \\\n",
       "Average Credit Card Transaction          0.123855      0.323462   \n",
       "Balance Transfer                         1.000000      0.229457   \n",
       "Term Deposit                             0.229457      1.000000   \n",
       "Life Insurance                           0.564538      0.274691   \n",
       "Medical Insurance                        0.162085      0.506367   \n",
       "Average A/C Balance                      0.358938      0.274027   \n",
       "Personal Loan                            0.351499      0.146755   \n",
       "Investment in Mutual Fund                0.454602      0.208948   \n",
       "Investment Tax Saving Bond               0.166496      0.176975   \n",
       "Home Loan                                0.153097      0.170584   \n",
       "Online Purchase Amount                   0.112012      0.099455   \n",
       "Investment in Commudity                  0.739791      0.620256   \n",
       "Investment in Equity                     0.463556      0.266908   \n",
       "Investment in Derivative                 0.581039      0.354304   \n",
       "Portfolio Balance                        0.639400      0.454740   \n",
       "\n",
       "                                 Life Insurance  Medical Insurance  \\\n",
       "Average Credit Card Transaction        0.145041           0.405090   \n",
       "Balance Transfer                       0.564538           0.162085   \n",
       "Term Deposit                           0.274691           0.506367   \n",
       "Life Insurance                         1.000000           0.238435   \n",
       "Medical Insurance                      0.238435           1.000000   \n",
       "Average A/C Balance                    0.514339           0.264615   \n",
       "Personal Loan                          0.380563           0.105134   \n",
       "Investment in Mutual Fund              0.544439           0.209651   \n",
       "Investment Tax Saving Bond             0.263675           0.201057   \n",
       "Home Loan                              0.279959           0.136310   \n",
       "Online Purchase Amount                 0.128785           0.149651   \n",
       "Investment in Commudity                0.803326           0.548282   \n",
       "Investment in Equity                   0.564287           0.269922   \n",
       "Investment in Derivative               0.839266           0.392548   \n",
       "Portfolio Balance                      0.787311           0.441631   \n",
       "\n",
       "                                 Average A/C Balance  Personal Loan  \\\n",
       "Average Credit Card Transaction             0.172240       0.087289   \n",
       "Balance Transfer                            0.358938       0.351499   \n",
       "Term Deposit                                0.274027       0.146755   \n",
       "Life Insurance                              0.514339       0.380563   \n",
       "Medical Insurance                           0.264615       0.105134   \n",
       "Average A/C Balance                         1.000000       0.219801   \n",
       "Personal Loan                               0.219801       1.000000   \n",
       "Investment in Mutual Fund                   0.448270       0.379615   \n",
       "Investment Tax Saving Bond                  0.307552       0.233020   \n",
       "Home Loan                                   0.367590       0.128062   \n",
       "Online Purchase Amount                      0.162821       0.073292   \n",
       "Investment in Commudity                     0.517832       0.377170   \n",
       "Investment in Equity                        0.600278       0.676053   \n",
       "Investment in Derivative                    0.657742       0.687417   \n",
       "Portfolio Balance                           0.616051       0.598919   \n",
       "\n",
       "                                 Investment in Mutual Fund  \\\n",
       "Average Credit Card Transaction                   0.150667   \n",
       "Balance Transfer                                  0.454602   \n",
       "Term Deposit                                      0.208948   \n",
       "Life Insurance                                    0.544439   \n",
       "Medical Insurance                                 0.209651   \n",
       "Average A/C Balance                               0.448270   \n",
       "Personal Loan                                     0.379615   \n",
       "Investment in Mutual Fund                         1.000000   \n",
       "Investment Tax Saving Bond                        0.271580   \n",
       "Home Loan                                         0.261562   \n",
       "Online Purchase Amount                            0.115087   \n",
       "Investment in Commudity                           0.536715   \n",
       "Investment in Equity                              0.693435   \n",
       "Investment in Derivative                          0.761125   \n",
       "Portfolio Balance                                 0.695337   \n",
       "\n",
       "                                 Investment Tax Saving Bond  Home Loan  \\\n",
       "Average Credit Card Transaction                    0.133126   0.087695   \n",
       "Balance Transfer                                   0.166496   0.153097   \n",
       "Term Deposit                                       0.176975   0.170584   \n",
       "Life Insurance                                     0.263675   0.279959   \n",
       "Medical Insurance                                  0.201057   0.136310   \n",
       "Average A/C Balance                                0.307552   0.367590   \n",
       "Personal Loan                                      0.233020   0.128062   \n",
       "Investment in Mutual Fund                          0.271580   0.261562   \n",
       "Investment Tax Saving Bond                         1.000000   0.261626   \n",
       "Home Loan                                          0.261626   1.000000   \n",
       "Online Purchase Amount                             0.211596   0.101066   \n",
       "Investment in Commudity                            0.289110   0.268989   \n",
       "Investment in Equity                               0.446271   0.348181   \n",
       "Investment in Derivative                           0.407148   0.335651   \n",
       "Portfolio Balance                                  0.395889   0.326663   \n",
       "\n",
       "                                 Online Purchase Amount  \\\n",
       "Average Credit Card Transaction                0.132518   \n",
       "Balance Transfer                               0.112012   \n",
       "Term Deposit                                   0.099455   \n",
       "Life Insurance                                 0.128785   \n",
       "Medical Insurance                              0.149651   \n",
       "Average A/C Balance                            0.162821   \n",
       "Personal Loan                                  0.073292   \n",
       "Investment in Mutual Fund                      0.115087   \n",
       "Investment Tax Saving Bond                     0.211596   \n",
       "Home Loan                                      0.101066   \n",
       "Online Purchase Amount                         1.000000   \n",
       "Investment in Commudity                        0.180074   \n",
       "Investment in Equity                           0.597440   \n",
       "Investment in Derivative                       0.173943   \n",
       "Portfolio Balance                              0.309800   \n",
       "\n",
       "                                 Investment in Commudity  \\\n",
       "Average Credit Card Transaction                 0.497025   \n",
       "Balance Transfer                                0.739791   \n",
       "Term Deposit                                    0.620256   \n",
       "Life Insurance                                  0.803326   \n",
       "Medical Insurance                               0.548282   \n",
       "Average A/C Balance                             0.517832   \n",
       "Personal Loan                                   0.377170   \n",
       "Investment in Mutual Fund                       0.536715   \n",
       "Investment Tax Saving Bond                      0.289110   \n",
       "Home Loan                                       0.268989   \n",
       "Online Purchase Amount                          0.180074   \n",
       "Investment in Commudity                         1.000000   \n",
       "Investment in Equity                            0.586210   \n",
       "Investment in Derivative                        0.800779   \n",
       "Portfolio Balance                               0.858020   \n",
       "\n",
       "                                 Investment in Equity  \\\n",
       "Average Credit Card Transaction              0.205289   \n",
       "Balance Transfer                             0.463556   \n",
       "Term Deposit                                 0.266908   \n",
       "Life Insurance                               0.564287   \n",
       "Medical Insurance                            0.269922   \n",
       "Average A/C Balance                          0.600278   \n",
       "Personal Loan                                0.676053   \n",
       "Investment in Mutual Fund                    0.693435   \n",
       "Investment Tax Saving Bond                   0.446271   \n",
       "Home Loan                                    0.348181   \n",
       "Online Purchase Amount                       0.597440   \n",
       "Investment in Commudity                      0.586210   \n",
       "Investment in Equity                         1.000000   \n",
       "Investment in Derivative                     0.839552   \n",
       "Portfolio Balance                            0.831134   \n",
       "\n",
       "                                 Investment in Derivative  Portfolio Balance  \n",
       "Average Credit Card Transaction                  0.228141           0.335674  \n",
       "Balance Transfer                                 0.581039           0.639400  \n",
       "Term Deposit                                     0.354304           0.454740  \n",
       "Life Insurance                                   0.839266           0.787311  \n",
       "Medical Insurance                                0.392548           0.441631  \n",
       "Average A/C Balance                              0.657742           0.616051  \n",
       "Personal Loan                                    0.687417           0.598919  \n",
       "Investment in Mutual Fund                        0.761125           0.695337  \n",
       "Investment Tax Saving Bond                       0.407148           0.395889  \n",
       "Home Loan                                        0.335651           0.326663  \n",
       "Online Purchase Amount                           0.173943           0.309800  \n",
       "Investment in Commudity                          0.800779           0.858020  \n",
       "Investment in Equity                             0.839552           0.831134  \n",
       "Investment in Derivative                         1.000000           0.927232  \n",
       "Portfolio Balance                                0.927232           1.000000  "
      ]
     },
     "execution_count": 82,
     "metadata": {},
     "output_type": "execute_result"
    }
   ],
   "source": [
    "bd.corr()"
   ]
  },
  {
   "cell_type": "code",
   "execution_count": 83,
   "metadata": {},
   "outputs": [],
   "source": [
    "import seaborn as sns\n",
    "%matplotlib inline"
   ]
  },
  {
   "cell_type": "code",
   "execution_count": 84,
   "metadata": {},
   "outputs": [
    {
     "data": {
      "text/plain": [
       "<matplotlib.axes._subplots.AxesSubplot at 0x7f92893359d0>"
      ]
     },
     "execution_count": 84,
     "metadata": {},
     "output_type": "execute_result"
    },
    {
     "data": {
      "image/png": "[encoded data removed]",
      "text/plain": [
       "<Figure size 432x288 with 2 Axes>"
      ]
     },
     "metadata": {
      "needs_background": "light"
     },
     "output_type": "display_data"
    }
   ],
   "source": [
    "sns.heatmap(bd.corr())"
   ]
  },
  {
   "cell_type": "code",
   "execution_count": 85,
   "metadata": {},
   "outputs": [
    {
     "data": {
      "text/plain": [
       "(10155, 15)"
      ]
     },
     "execution_count": 85,
     "metadata": {},
     "output_type": "execute_result"
    }
   ],
   "source": [
    "bd.shape"
   ]
  },
  {
   "cell_type": "code",
   "execution_count": 86,
   "metadata": {},
   "outputs": [],
   "source": [
    "X=bd.copy()"
   ]
  },
  {
   "cell_type": "code",
   "execution_count": 87,
   "metadata": {},
   "outputs": [],
   "source": [
    "X = scale(X)"
   ]
  },
  {
   "cell_type": "code",
   "execution_count": 88,
   "metadata": {},
   "outputs": [],
   "source": [
    "pca = PCA(n_components=15)"
   ]
  },
  {
   "cell_type": "code",
   "execution_count": 89,
   "metadata": {},
   "outputs": [
    {
     "data": {
      "text/plain": [
       "PCA(copy=True, iterated_power='auto', n_components=15, random_state=None,\n",
       "    svd_solver='auto', tol=0.0, whiten=False)"
      ]
     },
     "execution_count": 89,
     "metadata": {},
     "output_type": "execute_result"
    }
   ],
   "source": [
    "pca.fit(X)"
   ]
  },
  {
   "cell_type": "code",
   "execution_count": 90,
   "metadata": {},
   "outputs": [
    {
     "data": {
      "text/plain": [
       "array([[ 1.38519523e-01,  2.51914540e-01,  1.88417476e-01,\n",
       "         3.04607540e-01,  1.82510270e-01,  2.58260897e-01,\n",
       "         2.24513067e-01,  2.77210354e-01,  1.74420241e-01,\n",
       "         1.52766829e-01,  1.21072307e-01,  3.40703395e-01,\n",
       "         3.29225771e-01,  3.65017102e-01,  3.68347115e-01],\n",
       "       [-4.88608479e-01,  7.44901633e-02, -4.76410887e-01,\n",
       "         9.36614508e-02, -5.08504340e-01,  5.26391563e-02,\n",
       "         2.84311540e-01,  1.92269168e-01,  6.19345939e-02,\n",
       "         5.87040971e-02,  4.00182080e-02, -2.47299192e-01,\n",
       "         2.27890747e-01,  1.35880508e-01,  1.96728973e-02],\n",
       "       [ 9.92402137e-02, -3.38650619e-01, -2.40778241e-02,\n",
       "        -2.51354679e-01,  9.28872328e-02,  7.39089017e-02,\n",
       "        -7.57792946e-02, -9.24865107e-02,  3.92044037e-01,\n",
       "         2.29065734e-01,  6.57231934e-01, -2.07369984e-01,\n",
       "         2.99511084e-01, -1.06139426e-01, -3.49738696e-02],\n",
       "       [ 1.55828400e-01,  1.29429526e-01, -4.69731932e-02,\n",
       "        -7.39316085e-02,  1.32066879e-02, -3.48621577e-01,\n",
       "         3.16874969e-01, -3.33133119e-02, -2.21569038e-01,\n",
       "        -6.96460705e-01,  3.92834728e-01,  4.21814275e-02,\n",
       "         1.78438644e-01, -3.24013723e-03,  7.72179016e-02],\n",
       "       [-1.18635355e-01,  3.47900775e-01, -7.96158424e-02,\n",
       "         2.05083463e-01, -1.50491249e-01,  1.98475943e-01,\n",
       "        -5.66620380e-01, -2.32182118e-02, -4.16710824e-01,\n",
       "         6.25327500e-02,  4.63935766e-01,  1.49904605e-01,\n",
       "        -1.74119660e-02, -1.31457161e-01,  2.12950896e-03],\n",
       "       [ 5.46995417e-01, -2.06851094e-01, -2.57471120e-01,\n",
       "        -1.11094581e-01, -9.38054647e-02,  4.04260104e-02,\n",
       "         2.01506838e-01,  1.56954859e-01, -5.88784293e-01,\n",
       "         3.68685952e-01, -3.45282931e-02, -7.54947453e-02,\n",
       "         1.14327623e-01,  3.25394670e-02,  9.17265375e-03],\n",
       "       [-5.58930300e-01, -1.88523791e-01,  4.81540622e-01,\n",
       "        -8.98363850e-02,  2.30958580e-01, -2.06425173e-02,\n",
       "         2.53663590e-01, -6.82194325e-02, -4.71395171e-01,\n",
       "         1.85024704e-01,  1.05519040e-01, -8.67593591e-02,\n",
       "         1.11508247e-01,  3.81079077e-02,  1.84759653e-02],\n",
       "       [ 8.09894079e-02,  4.06762177e-01,  1.41497890e-01,\n",
       "        -4.33747212e-03, -2.72605768e-01, -4.87499541e-01,\n",
       "         2.50492991e-01, -3.78947558e-01,  1.13421038e-01,\n",
       "         4.67386604e-01,  9.32071082e-02,  1.62832551e-01,\n",
       "        -5.64364551e-02, -1.40999184e-01, -6.68325987e-03],\n",
       "       [ 1.14973576e-01, -6.97793712e-02,  9.00476562e-02,\n",
       "         7.93488178e-02, -2.69518685e-01,  6.04071877e-01,\n",
       "         2.44532260e-01, -6.62750775e-01, -3.52086496e-02,\n",
       "        -1.67671955e-01, -2.83554163e-02,  1.92390402e-02,\n",
       "         5.58185067e-03,  1.75564577e-02,  7.88927752e-03],\n",
       "       [ 1.37666937e-01, -2.44796936e-02,  5.87021192e-01,\n",
       "        -2.40729859e-01, -6.17221620e-01,  7.39080363e-02,\n",
       "        -9.80427273e-02,  3.84549887e-01,  4.25175347e-02,\n",
       "        -1.14033933e-01, -3.27263569e-02, -2.96995898e-02,\n",
       "         8.43661237e-02, -9.72291798e-02, -2.55378556e-02],\n",
       "       [-3.92333819e-02,  5.73444699e-01, -9.64113555e-02,\n",
       "        -6.67049198e-01,  2.38007301e-01,  3.14205767e-01,\n",
       "         9.72905695e-02,  5.98366153e-02, -3.51433410e-04,\n",
       "         1.61667080e-02, -1.03985639e-01, -8.61330898e-02,\n",
       "         8.96086360e-02, -1.26574260e-01, -6.64030363e-02],\n",
       "       [ 4.75470461e-02,  7.66691140e-02,  5.93841195e-02,\n",
       "         1.79909822e-01,  6.25796325e-02,  5.67372004e-02,\n",
       "         1.26858877e-01,  9.77629731e-02,  1.90220522e-02,\n",
       "        -4.21471590e-05,  6.74692582e-02,  1.46012867e-01,\n",
       "         1.34890417e-01,  1.66140820e-01, -9.22577432e-01],\n",
       "       [ 3.33899061e-02,  5.15092738e-02,  3.54133547e-02,\n",
       "        -9.91003948e-02, -3.36595140e-02,  1.06994032e-01,\n",
       "         1.98231475e-01,  1.50302597e-01,  3.01870255e-02,\n",
       "         4.03865519e-02,  3.62768372e-01, -1.38720941e-01,\n",
       "        -7.74205866e-01,  3.97376643e-01, -3.32928837e-06],\n",
       "       [ 8.89105875e-02,  1.37154400e-01,  9.42925611e-02,\n",
       "        -1.20924937e-01, -4.10720907e-02, -1.93499437e-01,\n",
       "        -3.58507442e-01, -2.71824778e-01, -5.45948408e-02,\n",
       "        -1.23848637e-02, -1.11245463e-01, -3.69380614e-01,\n",
       "         2.37417046e-01,  7.07040296e-01, -7.80466460e-07],\n",
       "       [ 1.75246173e-01,  2.70342555e-01,  1.85857310e-01,\n",
       "         4.48656990e-01,  1.52386408e-01,  5.67684921e-02,\n",
       "         1.05179044e-01,  7.97470620e-02,  1.60162816e-02,\n",
       "        -2.82940261e-05, -2.59054596e-04, -7.28075435e-01,\n",
       "         5.54219314e-04, -2.93513897e-01, -6.14545565e-07]])"
      ]
     },
     "execution_count": 90,
     "metadata": {},
     "output_type": "execute_result"
    }
   ],
   "source": [
    "pca.components_"
   ]
  },
  {
   "cell_type": "code",
   "execution_count": 91,
   "metadata": {},
   "outputs": [
    {
     "data": {
      "text/plain": [
       "(15, 15)"
      ]
     },
     "execution_count": 91,
     "metadata": {},
     "output_type": "execute_result"
    }
   ],
   "source": [
    "pca.components_.shape"
   ]
  },
  {
   "cell_type": "code",
   "execution_count": 92,
   "metadata": {},
   "outputs": [
    {
     "name": "stdout",
     "output_type": "stream",
     "text": [
      "[4.57760905e-01 1.06815789e-01 8.37682574e-02 6.76590833e-02\n",
      " 5.51515528e-02 4.60704467e-02 4.47954686e-02 4.13678442e-02\n",
      " 3.33620268e-02 3.13826959e-02 2.73470603e-02 4.51886955e-03\n",
      " 3.16261746e-10 2.47789450e-10 1.75773727e-10]\n"
     ]
    }
   ],
   "source": [
    "var= pca.explained_variance_ratio_\n",
    "\n",
    "print(var)"
   ]
  },
  {
   "cell_type": "code",
   "execution_count": 93,
   "metadata": {},
   "outputs": [
    {
     "name": "stdout",
     "output_type": "stream",
     "text": [
      "[ 45.78  56.46  64.84  71.61  77.13  81.74  86.22  90.36  93.7   96.84\n",
      "  99.57 100.02 100.02 100.02 100.02]\n"
     ]
    }
   ],
   "source": [
    "var1=np.cumsum(np.round(pca.explained_variance_ratio_, decimals=4)*100)\n",
    "\n",
    "print(var1)"
   ]
  },
  {
   "cell_type": "code",
   "execution_count": 94,
   "metadata": {},
   "outputs": [],
   "source": [
    "pca = PCA(n_components=11)"
   ]
  },
  {
   "cell_type": "code",
   "execution_count": 95,
   "metadata": {},
   "outputs": [
    {
     "data": {
      "text/plain": [
       "PCA(copy=True, iterated_power='auto', n_components=11, random_state=None,\n",
       "    svd_solver='auto', tol=0.0, whiten=False)"
      ]
     },
     "execution_count": 95,
     "metadata": {},
     "output_type": "execute_result"
    }
   ],
   "source": [
    "pca.fit(X)"
   ]
  },
  {
   "cell_type": "code",
   "execution_count": 96,
   "metadata": {},
   "outputs": [
    {
     "data": {
      "text/plain": [
       "(11, 15)"
      ]
     },
     "execution_count": 96,
     "metadata": {},
     "output_type": "execute_result"
    }
   ],
   "source": [
    "pca.components_.shape"
   ]
  },
  {
   "cell_type": "code",
   "execution_count": 97,
   "metadata": {},
   "outputs": [],
   "source": [
    "X1=pd.DataFrame(pca.transform(X))"
   ]
  },
  {
   "cell_type": "code",
   "execution_count": 98,
   "metadata": {},
   "outputs": [
    {
     "data": {
      "text/html": [
       "<div>\n",
       "<style scoped>\n",
       "    .dataframe tbody tr th:only-of-type {\n",
       "        vertical-align: middle;\n",
       "    }\n",
       "\n",
       "    .dataframe tbody tr th {\n",
       "        vertical-align: top;\n",
       "    }\n",
       "\n",
       "    .dataframe thead th {\n",
       "        text-align: right;\n",
       "    }\n",
       "</style>\n",
       "<table border=\"1\" class=\"dataframe\">\n",
       "  <thead>\n",
       "    <tr style=\"text-align: right;\">\n",
       "      <th></th>\n",
       "      <th>0</th>\n",
       "      <th>1</th>\n",
       "      <th>2</th>\n",
       "      <th>3</th>\n",
       "      <th>4</th>\n",
       "      <th>5</th>\n",
       "      <th>6</th>\n",
       "      <th>7</th>\n",
       "      <th>8</th>\n",
       "      <th>9</th>\n",
       "      <th>10</th>\n",
       "    </tr>\n",
       "  </thead>\n",
       "  <tbody>\n",
       "    <tr>\n",
       "      <th>0</th>\n",
       "      <td>0.869774</td>\n",
       "      <td>-0.792852</td>\n",
       "      <td>-0.300362</td>\n",
       "      <td>0.463627</td>\n",
       "      <td>0.016042</td>\n",
       "      <td>0.368796</td>\n",
       "      <td>-2.804879</td>\n",
       "      <td>0.659902</td>\n",
       "      <td>0.076150</td>\n",
       "      <td>0.546220</td>\n",
       "      <td>0.309983</td>\n",
       "    </tr>\n",
       "    <tr>\n",
       "      <th>1</th>\n",
       "      <td>-1.763740</td>\n",
       "      <td>0.271868</td>\n",
       "      <td>-0.529384</td>\n",
       "      <td>0.342982</td>\n",
       "      <td>0.391251</td>\n",
       "      <td>-0.243377</td>\n",
       "      <td>-0.136108</td>\n",
       "      <td>0.514181</td>\n",
       "      <td>0.008195</td>\n",
       "      <td>-0.106689</td>\n",
       "      <td>0.244363</td>\n",
       "    </tr>\n",
       "    <tr>\n",
       "      <th>2</th>\n",
       "      <td>2.759896</td>\n",
       "      <td>0.575463</td>\n",
       "      <td>-1.617375</td>\n",
       "      <td>-0.904037</td>\n",
       "      <td>2.031229</td>\n",
       "      <td>-0.561042</td>\n",
       "      <td>-0.315313</td>\n",
       "      <td>-0.826448</td>\n",
       "      <td>2.165835</td>\n",
       "      <td>-0.664759</td>\n",
       "      <td>-0.131263</td>\n",
       "    </tr>\n",
       "    <tr>\n",
       "      <th>3</th>\n",
       "      <td>-1.682247</td>\n",
       "      <td>0.607132</td>\n",
       "      <td>0.003920</td>\n",
       "      <td>-0.086971</td>\n",
       "      <td>0.092131</td>\n",
       "      <td>0.192318</td>\n",
       "      <td>0.067067</td>\n",
       "      <td>-0.697390</td>\n",
       "      <td>0.119397</td>\n",
       "      <td>0.299323</td>\n",
       "      <td>0.119600</td>\n",
       "    </tr>\n",
       "    <tr>\n",
       "      <th>4</th>\n",
       "      <td>3.433527</td>\n",
       "      <td>0.456228</td>\n",
       "      <td>0.402857</td>\n",
       "      <td>-2.512890</td>\n",
       "      <td>0.613241</td>\n",
       "      <td>2.756212</td>\n",
       "      <td>0.126809</td>\n",
       "      <td>0.513503</td>\n",
       "      <td>-2.382016</td>\n",
       "      <td>-0.410804</td>\n",
       "      <td>-0.479994</td>\n",
       "    </tr>\n",
       "    <tr>\n",
       "      <th>...</th>\n",
       "      <td>...</td>\n",
       "      <td>...</td>\n",
       "      <td>...</td>\n",
       "      <td>...</td>\n",
       "      <td>...</td>\n",
       "      <td>...</td>\n",
       "      <td>...</td>\n",
       "      <td>...</td>\n",
       "      <td>...</td>\n",
       "      <td>...</td>\n",
       "      <td>...</td>\n",
       "    </tr>\n",
       "    <tr>\n",
       "      <th>10150</th>\n",
       "      <td>-1.899811</td>\n",
       "      <td>0.293824</td>\n",
       "      <td>0.006565</td>\n",
       "      <td>0.168493</td>\n",
       "      <td>-0.237207</td>\n",
       "      <td>-0.196357</td>\n",
       "      <td>-0.017735</td>\n",
       "      <td>0.018811</td>\n",
       "      <td>-0.043481</td>\n",
       "      <td>-0.158994</td>\n",
       "      <td>-0.239538</td>\n",
       "    </tr>\n",
       "    <tr>\n",
       "      <th>10151</th>\n",
       "      <td>-0.066473</td>\n",
       "      <td>0.426890</td>\n",
       "      <td>-1.451677</td>\n",
       "      <td>0.350205</td>\n",
       "      <td>0.974095</td>\n",
       "      <td>-0.532417</td>\n",
       "      <td>-0.434767</td>\n",
       "      <td>0.607950</td>\n",
       "      <td>0.045247</td>\n",
       "      <td>-0.582694</td>\n",
       "      <td>-0.906420</td>\n",
       "    </tr>\n",
       "    <tr>\n",
       "      <th>10152</th>\n",
       "      <td>-0.545130</td>\n",
       "      <td>-2.975703</td>\n",
       "      <td>0.119935</td>\n",
       "      <td>0.679196</td>\n",
       "      <td>-0.676347</td>\n",
       "      <td>0.778288</td>\n",
       "      <td>-0.265276</td>\n",
       "      <td>-0.153630</td>\n",
       "      <td>-0.251452</td>\n",
       "      <td>-0.752468</td>\n",
       "      <td>0.172400</td>\n",
       "    </tr>\n",
       "    <tr>\n",
       "      <th>10153</th>\n",
       "      <td>-1.966918</td>\n",
       "      <td>0.371118</td>\n",
       "      <td>-0.019106</td>\n",
       "      <td>-0.272167</td>\n",
       "      <td>0.169842</td>\n",
       "      <td>0.239058</td>\n",
       "      <td>0.150698</td>\n",
       "      <td>0.583076</td>\n",
       "      <td>-0.224180</td>\n",
       "      <td>-0.032177</td>\n",
       "      <td>0.217751</td>\n",
       "    </tr>\n",
       "    <tr>\n",
       "      <th>10154</th>\n",
       "      <td>2.909918</td>\n",
       "      <td>1.461895</td>\n",
       "      <td>-0.638743</td>\n",
       "      <td>-0.250711</td>\n",
       "      <td>-0.259482</td>\n",
       "      <td>-0.780740</td>\n",
       "      <td>-0.556013</td>\n",
       "      <td>-0.901372</td>\n",
       "      <td>1.494755</td>\n",
       "      <td>-0.827845</td>\n",
       "      <td>-1.434420</td>\n",
       "    </tr>\n",
       "  </tbody>\n",
       "</table>\n",
       "<p>10155 rows × 11 columns</p>\n",
       "</div>"
      ],
      "text/plain": [
       "              0         1         2         3         4         5         6  \\\n",
       "0      0.869774 -0.792852 -0.300362  0.463627  0.016042  0.368796 -2.804879   \n",
       "1     -1.763740  0.271868 -0.529384  0.342982  0.391251 -0.243377 -0.136108   \n",
       "2      2.759896  0.575463 -1.617375 -0.904037  2.031229 -0.561042 -0.315313   \n",
       "3     -1.682247  0.607132  0.003920 -0.086971  0.092131  0.192318  0.067067   \n",
       "4      3.433527  0.456228  0.402857 -2.512890  0.613241  2.756212  0.126809   \n",
       "...         ...       ...       ...       ...       ...       ...       ...   \n",
       "10150 -1.899811  0.293824  0.006565  0.168493 -0.237207 -0.196357 -0.017735   \n",
       "10151 -0.066473  0.426890 -1.451677  0.350205  0.974095 -0.532417 -0.434767   \n",
       "10152 -0.545130 -2.975703  0.119935  0.679196 -0.676347  0.778288 -0.265276   \n",
       "10153 -1.966918  0.371118 -0.019106 -0.272167  0.169842  0.239058  0.150698   \n",
       "10154  2.909918  1.461895 -0.638743 -0.250711 -0.259482 -0.780740 -0.556013   \n",
       "\n",
       "              7         8         9        10  \n",
       "0      0.659902  0.076150  0.546220  0.309983  \n",
       "1      0.514181  0.008195 -0.106689  0.244363  \n",
       "2     -0.826448  2.165835 -0.664759 -0.131263  \n",
       "3     -0.697390  0.119397  0.299323  0.119600  \n",
       "4      0.513503 -2.382016 -0.410804 -0.479994  \n",
       "...         ...       ...       ...       ...  \n",
       "10150  0.018811 -0.043481 -0.158994 -0.239538  \n",
       "10151  0.607950  0.045247 -0.582694 -0.906420  \n",
       "10152 -0.153630 -0.251452 -0.752468  0.172400  \n",
       "10153  0.583076 -0.224180 -0.032177  0.217751  \n",
       "10154 -0.901372  1.494755 -0.827845 -1.434420  \n",
       "\n",
       "[10155 rows x 11 columns]"
      ]
     },
     "execution_count": 98,
     "metadata": {},
     "output_type": "execute_result"
    }
   ],
   "source": [
    "X1"
   ]
  },
  {
   "cell_type": "markdown",
   "metadata": {},
   "source": [
    "### individual pc loadings"
   ]
  },
  {
   "cell_type": "code",
   "execution_count": 106,
   "metadata": {},
   "outputs": [
    {
     "data": {
      "text/plain": [
       "array([-3.92333819e-02,  5.73444699e-01, -9.64113555e-02, -6.67049198e-01,\n",
       "        2.38007301e-01,  3.14205767e-01,  9.72905695e-02,  5.98366153e-02,\n",
       "       -3.51433410e-04,  1.61667080e-02, -1.03985639e-01, -8.61330898e-02,\n",
       "        8.96086360e-02, -1.26574260e-01, -6.64030363e-02])"
      ]
     },
     "execution_count": 106,
     "metadata": {},
     "output_type": "execute_result"
    }
   ],
   "source": [
    "# pc1\n",
    "\n",
    "loadings=pca.components_[10]\n",
    "loadings"
   ]
  },
  {
   "cell_type": "code",
   "execution_count": 102,
   "metadata": {},
   "outputs": [
    {
     "data": {
      "text/plain": [
       "[('Average Credit Card Transaction', -0.48860847891174614),\n",
       " ('Balance Transfer', 0.07449016328622181),\n",
       " ('Term Deposit', -0.47641088687351413),\n",
       " ('Life Insurance', 0.0936614507880239),\n",
       " ('Medical Insurance', -0.5085043397663267),\n",
       " ('Average A/C Balance', 0.05263915628379902),\n",
       " ('Personal Loan', 0.28431154013490906),\n",
       " ('Investment in Mutual Fund', 0.192269168370127),\n",
       " ('Investment Tax Saving Bond', 0.061934593902195294),\n",
       " ('Home Loan', 0.058704097146322506),\n",
       " ('Online Purchase Amount', 0.04001820799124719),\n",
       " ('Investment in Commudity', -0.24729919204447523),\n",
       " ('Investment in Equity', 0.22789074687192298),\n",
       " ('Investment in Derivative', 0.13588050787142117),\n",
       " ('Portfolio Balance', 0.019672897326558643)]"
      ]
     },
     "execution_count": 102,
     "metadata": {},
     "output_type": "execute_result"
    }
   ],
   "source": [
    "list(zip(bd.columns,loadings))"
   ]
  },
  {
   "cell_type": "code",
   "execution_count": 107,
   "metadata": {},
   "outputs": [
    {
     "data": {
      "text/plain": [
       "<matplotlib.axes._subplots.AxesSubplot at 0x7f9289f35ed0>"
      ]
     },
     "execution_count": 107,
     "metadata": {},
     "output_type": "execute_result"
    },
    {
     "data": {
      "image/png": "[encoded data removed]",
      "text/plain": [
       "<Figure size 432x288 with 2 Axes>"
      ]
     },
     "metadata": {
      "needs_background": "light"
     },
     "output_type": "display_data"
    }
   ],
   "source": [
    "sns.heatmap(X1.corr())"
   ]
  },
  {
   "cell_type": "code",
   "execution_count": null,
   "metadata": {},
   "outputs": [],
   "source": []
  }
 ],
 "metadata": {
  "kernelspec": {
   "display_name": "Python 3",
   "language": "python",
   "name": "python3"
  },
  "language_info": {
   "codemirror_mode": {
    "name": "ipython",
    "version": 3
   },
   "file_extension": ".py",
   "mimetype": "text/x-python",
   "name": "python",
   "nbconvert_exporter": "python",
   "pygments_lexer": "ipython3",
   "version": "3.7.4"
  }
 },
 "nbformat": 4,
 "nbformat_minor": 4
}
