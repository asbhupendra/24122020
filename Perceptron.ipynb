{
  "nbformat": 4,
  "nbformat_minor": 0,
  "metadata": {
    "colab": {
      "name": "Perceptron.ipynb",
      "provenance": [],
      "include_colab_link": true
    },
    "kernelspec": {
      "name": "python3",
      "display_name": "Python 3"
    },
    "language_info": {
      "name": "python"
    }
  },
  "cells": [
    {
      "cell_type": "markdown",
      "metadata": {
        "id": "view-in-github",
        "colab_type": "text"
      },
      "source": [
        "<a href=\"https://colab.research.google.com/github/asbhupendra/24122020/blob/branch-002/Perceptron.ipynb\" target=\"_parent\"><img src=\"https://colab.research.google.com/assets/colab-badge.svg\" alt=\"Open In Colab\"/></a>"
      ]
    },
    {
      "cell_type": "code",
      "metadata": {
        "id": "m1kj6qxz6fDM"
      },
      "source": [
        "path = '/content/sample_data/california_housing_test.csv'"
      ],
      "execution_count": 4,
      "outputs": []
    },
    {
      "cell_type": "code",
      "metadata": {
        "colab": {
          "base_uri": "https://localhost:8080/",
          "height": 35
        },
        "id": "YgSaCY5N8DlY",
        "outputId": "b8495854-8518-4cbb-9c77-076d9b7b8ee9"
      },
      "source": [
        "pwd"
      ],
      "execution_count": 5,
      "outputs": [
        {
          "output_type": "execute_result",
          "data": {
            "application/vnd.google.colaboratory.intrinsic+json": {
              "type": "string"
            },
            "text/plain": [
              "'/content'"
            ]
          },
          "metadata": {
            "tags": []
          },
          "execution_count": 5
        }
      ]
    },
    {
      "cell_type": "code",
      "metadata": {
        "id": "jM2gk6O68Tl5"
      },
      "source": [
        "import numpy as np\n",
        "import pandas as pd\n",
        "import joblib\n",
        "import matplotlib.pyplot as plt\n",
        "plt.style.use('fivethirtyeight')"
      ],
      "execution_count": 6,
      "outputs": []
    },
    {
      "cell_type": "code",
      "metadata": {
        "id": "hEkKRx-I8w4g"
      },
      "source": [
        "class Perceptron:\n",
        "  def __init__(self, eta, epochs, activationFunction):\n",
        "    self.weights = np.random.randn(3) * 1e-4\n",
        "    print(f\"self.weights: {self.weights}\")\n",
        "    self.eta = eta\n",
        "    self.epochs = epochs\n",
        "    self.activationFunction = activationFunction\n",
        "\n",
        "  def fit(self, X, y):\n",
        "    self.X = X\n",
        "    self.y = y\n",
        "\n",
        "    X_with_bias = np.c_[self.X, -np.ones((len(self.X), 1))] # concactination\n",
        "    print(f\"X_with_bias: \\n{X_with_bias}\")\n",
        "\n",
        "    for epoch in range(self.epochs):\n",
        "      print(f\"for epoch: {epoch}\")\n",
        "      y_hat = self.activationFunction(X_with_bias, self.weights)\n",
        "      print(f\"predicted value: \\n{y_hat}\")\n",
        "      error = self.y - y_hat\n",
        "      print(f\"error: \\n{error}\")\n",
        "      self.weights = self.weights + self.eta * np.dot(X_with_bias.T, error)\n",
        "      print(f\"updated weights: \\n{self.weights}\")\n",
        "      print(\"#############\\n\")\n",
        "\n",
        "  def predict(self, X):\n",
        "    X_with_bias = np.c_[X, -np.ones((len(self.X), 1))]\n",
        "    return self.activationFunction(X_with_bias, self.weights)\n"
      ],
      "execution_count": 27,
      "outputs": []
    },
    {
      "cell_type": "code",
      "metadata": {
        "id": "dLKyugsQAsyB"
      },
      "source": [
        "activationFunction = lambda inputs, weights: np.where(np.dot(inputs,weights)>0,1,0)"
      ],
      "execution_count": 28,
      "outputs": []
    },
    {
      "cell_type": "code",
      "metadata": {
        "id": "8AEHAtqWBD9E"
      },
      "source": [
        "def activationFunction(inputs,weights):\n",
        "  z = np.dot(inputs,weights)\n",
        "  if z>0:\n",
        "    y_hat = 1\n",
        "  else:\n",
        "    y_hat = 0\n",
        "  return y_hat"
      ],
      "execution_count": 8,
      "outputs": []
    },
    {
      "cell_type": "code",
      "metadata": {
        "id": "JN_QJEjYBaWq"
      },
      "source": [
        "def activationFunction(inputs,weights):\n",
        "  z = np.dot(inputs,weights)\n",
        "  y_hat = np.where(z>0,1,0)  \n",
        "  return y_hat"
      ],
      "execution_count": 9,
      "outputs": []
    },
    {
      "cell_type": "code",
      "metadata": {
        "id": "_OUOiSrzBoiA"
      },
      "source": [
        "# AND"
      ],
      "execution_count": 11,
      "outputs": []
    },
    {
      "cell_type": "code",
      "metadata": {
        "colab": {
          "base_uri": "https://localhost:8080/",
          "height": 173
        },
        "id": "-7BxsOrnDn9w",
        "outputId": "741f3f03-c2ef-43a1-9981-3fa845b32545"
      },
      "source": [
        "data = {'x1':[0,0,1,1],'x2':[0,1,0,1],'y':[0,0,0,1]}\n",
        "AND = pd.DataFrame(data)\n",
        "AND"
      ],
      "execution_count": 12,
      "outputs": [
        {
          "output_type": "execute_result",
          "data": {
            "text/html": [
              "<div>\n",
              "<style scoped>\n",
              "    .dataframe tbody tr th:only-of-type {\n",
              "        vertical-align: middle;\n",
              "    }\n",
              "\n",
              "    .dataframe tbody tr th {\n",
              "        vertical-align: top;\n",
              "    }\n",
              "\n",
              "    .dataframe thead th {\n",
              "        text-align: right;\n",
              "    }\n",
              "</style>\n",
              "<table border=\"1\" class=\"dataframe\">\n",
              "  <thead>\n",
              "    <tr style=\"text-align: right;\">\n",
              "      <th></th>\n",
              "      <th>x1</th>\n",
              "      <th>x2</th>\n",
              "      <th>y</th>\n",
              "    </tr>\n",
              "  </thead>\n",
              "  <tbody>\n",
              "    <tr>\n",
              "      <th>0</th>\n",
              "      <td>0</td>\n",
              "      <td>0</td>\n",
              "      <td>0</td>\n",
              "    </tr>\n",
              "    <tr>\n",
              "      <th>1</th>\n",
              "      <td>0</td>\n",
              "      <td>1</td>\n",
              "      <td>0</td>\n",
              "    </tr>\n",
              "    <tr>\n",
              "      <th>2</th>\n",
              "      <td>1</td>\n",
              "      <td>0</td>\n",
              "      <td>0</td>\n",
              "    </tr>\n",
              "    <tr>\n",
              "      <th>3</th>\n",
              "      <td>1</td>\n",
              "      <td>1</td>\n",
              "      <td>1</td>\n",
              "    </tr>\n",
              "  </tbody>\n",
              "</table>\n",
              "</div>"
            ],
            "text/plain": [
              "   x1  x2  y\n",
              "0   0   0  0\n",
              "1   0   1  0\n",
              "2   1   0  0\n",
              "3   1   1  1"
            ]
          },
          "metadata": {
            "tags": []
          },
          "execution_count": 12
        }
      ]
    },
    {
      "cell_type": "code",
      "metadata": {
        "colab": {
          "base_uri": "https://localhost:8080/",
          "height": 173
        },
        "id": "3SMJsnjUD5Y2",
        "outputId": "7952914d-c569-4bda-c049-8ff12786224f"
      },
      "source": [
        "X = AND.drop('y',axis=1)\n",
        "X"
      ],
      "execution_count": 13,
      "outputs": [
        {
          "output_type": "execute_result",
          "data": {
            "text/html": [
              "<div>\n",
              "<style scoped>\n",
              "    .dataframe tbody tr th:only-of-type {\n",
              "        vertical-align: middle;\n",
              "    }\n",
              "\n",
              "    .dataframe tbody tr th {\n",
              "        vertical-align: top;\n",
              "    }\n",
              "\n",
              "    .dataframe thead th {\n",
              "        text-align: right;\n",
              "    }\n",
              "</style>\n",
              "<table border=\"1\" class=\"dataframe\">\n",
              "  <thead>\n",
              "    <tr style=\"text-align: right;\">\n",
              "      <th></th>\n",
              "      <th>x1</th>\n",
              "      <th>x2</th>\n",
              "    </tr>\n",
              "  </thead>\n",
              "  <tbody>\n",
              "    <tr>\n",
              "      <th>0</th>\n",
              "      <td>0</td>\n",
              "      <td>0</td>\n",
              "    </tr>\n",
              "    <tr>\n",
              "      <th>1</th>\n",
              "      <td>0</td>\n",
              "      <td>1</td>\n",
              "    </tr>\n",
              "    <tr>\n",
              "      <th>2</th>\n",
              "      <td>1</td>\n",
              "      <td>0</td>\n",
              "    </tr>\n",
              "    <tr>\n",
              "      <th>3</th>\n",
              "      <td>1</td>\n",
              "      <td>1</td>\n",
              "    </tr>\n",
              "  </tbody>\n",
              "</table>\n",
              "</div>"
            ],
            "text/plain": [
              "   x1  x2\n",
              "0   0   0\n",
              "1   0   1\n",
              "2   1   0\n",
              "3   1   1"
            ]
          },
          "metadata": {
            "tags": []
          },
          "execution_count": 13
        }
      ]
    },
    {
      "cell_type": "code",
      "metadata": {
        "colab": {
          "base_uri": "https://localhost:8080/",
          "height": 173
        },
        "id": "7McT27gXEAzw",
        "outputId": "4a990538-ad0e-4994-e0d9-7a13d08b0062"
      },
      "source": [
        "y = AND['y']\n",
        "y.to_frame()\n"
      ],
      "execution_count": 16,
      "outputs": [
        {
          "output_type": "execute_result",
          "data": {
            "text/html": [
              "<div>\n",
              "<style scoped>\n",
              "    .dataframe tbody tr th:only-of-type {\n",
              "        vertical-align: middle;\n",
              "    }\n",
              "\n",
              "    .dataframe tbody tr th {\n",
              "        vertical-align: top;\n",
              "    }\n",
              "\n",
              "    .dataframe thead th {\n",
              "        text-align: right;\n",
              "    }\n",
              "</style>\n",
              "<table border=\"1\" class=\"dataframe\">\n",
              "  <thead>\n",
              "    <tr style=\"text-align: right;\">\n",
              "      <th></th>\n",
              "      <th>y</th>\n",
              "    </tr>\n",
              "  </thead>\n",
              "  <tbody>\n",
              "    <tr>\n",
              "      <th>0</th>\n",
              "      <td>0</td>\n",
              "    </tr>\n",
              "    <tr>\n",
              "      <th>1</th>\n",
              "      <td>0</td>\n",
              "    </tr>\n",
              "    <tr>\n",
              "      <th>2</th>\n",
              "      <td>0</td>\n",
              "    </tr>\n",
              "    <tr>\n",
              "      <th>3</th>\n",
              "      <td>1</td>\n",
              "    </tr>\n",
              "  </tbody>\n",
              "</table>\n",
              "</div>"
            ],
            "text/plain": [
              "   y\n",
              "0  0\n",
              "1  0\n",
              "2  0\n",
              "3  1"
            ]
          },
          "metadata": {
            "tags": []
          },
          "execution_count": 16
        }
      ]
    },
    {
      "cell_type": "code",
      "metadata": {
        "colab": {
          "base_uri": "https://localhost:8080/"
        },
        "id": "6Xp04-cHEFQQ",
        "outputId": "257b3b45-2cf6-4b53-d810-63f2c516794c"
      },
      "source": [
        "model = Perceptron(eta = 1,epochs = 10,activationFunction=activationFunction)"
      ],
      "execution_count": 33,
      "outputs": [
        {
          "output_type": "stream",
          "text": [
            "self.weights: [ 1.87296812e-05  2.62611627e-06 -1.21829302e-04]\n"
          ],
          "name": "stdout"
        }
      ]
    },
    {
      "cell_type": "code",
      "metadata": {
        "colab": {
          "base_uri": "https://localhost:8080/"
        },
        "id": "-glGMRsGEzZp",
        "outputId": "993e6e51-9402-4bef-b063-640e79e81485"
      },
      "source": [
        "model.fit(X,y)"
      ],
      "execution_count": 34,
      "outputs": [
        {
          "output_type": "stream",
          "text": [
            "X_with_bias: \n",
            "[[ 0.  0. -1.]\n",
            " [ 0.  1. -1.]\n",
            " [ 1.  0. -1.]\n",
            " [ 1.  1. -1.]]\n",
            "for epoch: 0\n",
            "predicted value: \n",
            "[1 1 1 1]\n",
            "error: \n",
            "0   -1\n",
            "1   -1\n",
            "2   -1\n",
            "3    0\n",
            "Name: y, dtype: int64\n",
            "updated weights: \n",
            "[-0.99998127 -0.99999737  2.99987817]\n",
            "#############\n",
            "\n",
            "for epoch: 1\n",
            "predicted value: \n",
            "[0 0 0 0]\n",
            "error: \n",
            "0    0\n",
            "1    0\n",
            "2    0\n",
            "3    1\n",
            "Name: y, dtype: int64\n",
            "updated weights: \n",
            "[1.87296812e-05 2.62611627e-06 1.99987817e+00]\n",
            "#############\n",
            "\n",
            "for epoch: 2\n",
            "predicted value: \n",
            "[0 0 0 0]\n",
            "error: \n",
            "0    0\n",
            "1    0\n",
            "2    0\n",
            "3    1\n",
            "Name: y, dtype: int64\n",
            "updated weights: \n",
            "[1.00001873 1.00000263 0.99987817]\n",
            "#############\n",
            "\n",
            "for epoch: 3\n",
            "predicted value: \n",
            "[0 1 1 1]\n",
            "error: \n",
            "0    0\n",
            "1   -1\n",
            "2   -1\n",
            "3    0\n",
            "Name: y, dtype: int64\n",
            "updated weights: \n",
            "[1.87296812e-05 2.62611627e-06 2.99987817e+00]\n",
            "#############\n",
            "\n",
            "for epoch: 4\n",
            "predicted value: \n",
            "[0 0 0 0]\n",
            "error: \n",
            "0    0\n",
            "1    0\n",
            "2    0\n",
            "3    1\n",
            "Name: y, dtype: int64\n",
            "updated weights: \n",
            "[1.00001873 1.00000263 1.99987817]\n",
            "#############\n",
            "\n",
            "for epoch: 5\n",
            "predicted value: \n",
            "[0 0 0 1]\n",
            "error: \n",
            "0    0\n",
            "1    0\n",
            "2    0\n",
            "3    0\n",
            "Name: y, dtype: int64\n",
            "updated weights: \n",
            "[1.00001873 1.00000263 1.99987817]\n",
            "#############\n",
            "\n",
            "for epoch: 6\n",
            "predicted value: \n",
            "[0 0 0 1]\n",
            "error: \n",
            "0    0\n",
            "1    0\n",
            "2    0\n",
            "3    0\n",
            "Name: y, dtype: int64\n",
            "updated weights: \n",
            "[1.00001873 1.00000263 1.99987817]\n",
            "#############\n",
            "\n",
            "for epoch: 7\n",
            "predicted value: \n",
            "[0 0 0 1]\n",
            "error: \n",
            "0    0\n",
            "1    0\n",
            "2    0\n",
            "3    0\n",
            "Name: y, dtype: int64\n",
            "updated weights: \n",
            "[1.00001873 1.00000263 1.99987817]\n",
            "#############\n",
            "\n",
            "for epoch: 8\n",
            "predicted value: \n",
            "[0 0 0 1]\n",
            "error: \n",
            "0    0\n",
            "1    0\n",
            "2    0\n",
            "3    0\n",
            "Name: y, dtype: int64\n",
            "updated weights: \n",
            "[1.00001873 1.00000263 1.99987817]\n",
            "#############\n",
            "\n",
            "for epoch: 9\n",
            "predicted value: \n",
            "[0 0 0 1]\n",
            "error: \n",
            "0    0\n",
            "1    0\n",
            "2    0\n",
            "3    0\n",
            "Name: y, dtype: int64\n",
            "updated weights: \n",
            "[1.00001873 1.00000263 1.99987817]\n",
            "#############\n",
            "\n"
          ],
          "name": "stdout"
        }
      ]
    },
    {
      "cell_type": "code",
      "metadata": {
        "colab": {
          "base_uri": "https://localhost:8080/",
          "height": 173
        },
        "id": "UaUBXTCfFGD0",
        "outputId": "e6f44f39-bdee-415f-c06d-20336380eb5e"
      },
      "source": [
        "data = {'x1':[0,0,1,1],'x2':[0,1,0,1],'y':[0,1,1,1]}\n",
        "OR = pd.DataFrame(data)\n",
        "OR"
      ],
      "execution_count": 35,
      "outputs": [
        {
          "output_type": "execute_result",
          "data": {
            "text/html": [
              "<div>\n",
              "<style scoped>\n",
              "    .dataframe tbody tr th:only-of-type {\n",
              "        vertical-align: middle;\n",
              "    }\n",
              "\n",
              "    .dataframe tbody tr th {\n",
              "        vertical-align: top;\n",
              "    }\n",
              "\n",
              "    .dataframe thead th {\n",
              "        text-align: right;\n",
              "    }\n",
              "</style>\n",
              "<table border=\"1\" class=\"dataframe\">\n",
              "  <thead>\n",
              "    <tr style=\"text-align: right;\">\n",
              "      <th></th>\n",
              "      <th>x1</th>\n",
              "      <th>x2</th>\n",
              "      <th>y</th>\n",
              "    </tr>\n",
              "  </thead>\n",
              "  <tbody>\n",
              "    <tr>\n",
              "      <th>0</th>\n",
              "      <td>0</td>\n",
              "      <td>0</td>\n",
              "      <td>0</td>\n",
              "    </tr>\n",
              "    <tr>\n",
              "      <th>1</th>\n",
              "      <td>0</td>\n",
              "      <td>1</td>\n",
              "      <td>1</td>\n",
              "    </tr>\n",
              "    <tr>\n",
              "      <th>2</th>\n",
              "      <td>1</td>\n",
              "      <td>0</td>\n",
              "      <td>1</td>\n",
              "    </tr>\n",
              "    <tr>\n",
              "      <th>3</th>\n",
              "      <td>1</td>\n",
              "      <td>1</td>\n",
              "      <td>1</td>\n",
              "    </tr>\n",
              "  </tbody>\n",
              "</table>\n",
              "</div>"
            ],
            "text/plain": [
              "   x1  x2  y\n",
              "0   0   0  0\n",
              "1   0   1  1\n",
              "2   1   0  1\n",
              "3   1   1  1"
            ]
          },
          "metadata": {
            "tags": []
          },
          "execution_count": 35
        }
      ]
    },
    {
      "cell_type": "code",
      "metadata": {
        "id": "2rdRV76AMtgD"
      },
      "source": [
        "data = {'x1':[0,0,1,1],'x2':[0,1,0,1],'y':[0,1,1,1]}\n",
        "OR = pd.DataFrame(data)\n",
        "X = OR.drop('y',axis=1)\n",
        "y = OR['y']\n"
      ],
      "execution_count": 36,
      "outputs": []
    },
    {
      "cell_type": "code",
      "metadata": {
        "colab": {
          "base_uri": "https://localhost:8080/"
        },
        "id": "smN8NzXiM4cL",
        "outputId": "73acefcc-db85-4cdd-d73a-98fa2fddd9f6"
      },
      "source": [
        "model_or = Perceptron(eta = 1,epochs = 10,activationFunction=activationFunction)"
      ],
      "execution_count": 37,
      "outputs": [
        {
          "output_type": "stream",
          "text": [
            "self.weights: [-4.35477159e-05 -4.46880361e-05  1.01426980e-04]\n"
          ],
          "name": "stdout"
        }
      ]
    },
    {
      "cell_type": "code",
      "metadata": {
        "colab": {
          "base_uri": "https://localhost:8080/"
        },
        "id": "Vx4MlAHnNEEz",
        "outputId": "1e306b50-10a8-4ca1-bf8c-aca87f493f9a"
      },
      "source": [
        "model_or.fit(X,y)"
      ],
      "execution_count": 38,
      "outputs": [
        {
          "output_type": "stream",
          "text": [
            "X_with_bias: \n",
            "[[ 0.  0. -1.]\n",
            " [ 0.  1. -1.]\n",
            " [ 1.  0. -1.]\n",
            " [ 1.  1. -1.]]\n",
            "for epoch: 0\n",
            "predicted value: \n",
            "[0 0 0 0]\n",
            "error: \n",
            "0    0\n",
            "1    1\n",
            "2    1\n",
            "3    1\n",
            "Name: y, dtype: int64\n",
            "updated weights: \n",
            "[ 1.99995645  1.99995531 -2.99989857]\n",
            "#############\n",
            "\n",
            "for epoch: 1\n",
            "predicted value: \n",
            "[1 1 1 1]\n",
            "error: \n",
            "0   -1\n",
            "1    0\n",
            "2    0\n",
            "3    0\n",
            "Name: y, dtype: int64\n",
            "updated weights: \n",
            "[ 1.99995645  1.99995531 -1.99989857]\n",
            "#############\n",
            "\n",
            "for epoch: 2\n",
            "predicted value: \n",
            "[1 1 1 1]\n",
            "error: \n",
            "0   -1\n",
            "1    0\n",
            "2    0\n",
            "3    0\n",
            "Name: y, dtype: int64\n",
            "updated weights: \n",
            "[ 1.99995645  1.99995531 -0.99989857]\n",
            "#############\n",
            "\n",
            "for epoch: 3\n",
            "predicted value: \n",
            "[1 1 1 1]\n",
            "error: \n",
            "0   -1\n",
            "1    0\n",
            "2    0\n",
            "3    0\n",
            "Name: y, dtype: int64\n",
            "updated weights: \n",
            "[1.99995645e+00 1.99995531e+00 1.01426980e-04]\n",
            "#############\n",
            "\n",
            "for epoch: 4\n",
            "predicted value: \n",
            "[0 1 1 1]\n",
            "error: \n",
            "0    0\n",
            "1    0\n",
            "2    0\n",
            "3    0\n",
            "Name: y, dtype: int64\n",
            "updated weights: \n",
            "[1.99995645e+00 1.99995531e+00 1.01426980e-04]\n",
            "#############\n",
            "\n",
            "for epoch: 5\n",
            "predicted value: \n",
            "[0 1 1 1]\n",
            "error: \n",
            "0    0\n",
            "1    0\n",
            "2    0\n",
            "3    0\n",
            "Name: y, dtype: int64\n",
            "updated weights: \n",
            "[1.99995645e+00 1.99995531e+00 1.01426980e-04]\n",
            "#############\n",
            "\n",
            "for epoch: 6\n",
            "predicted value: \n",
            "[0 1 1 1]\n",
            "error: \n",
            "0    0\n",
            "1    0\n",
            "2    0\n",
            "3    0\n",
            "Name: y, dtype: int64\n",
            "updated weights: \n",
            "[1.99995645e+00 1.99995531e+00 1.01426980e-04]\n",
            "#############\n",
            "\n",
            "for epoch: 7\n",
            "predicted value: \n",
            "[0 1 1 1]\n",
            "error: \n",
            "0    0\n",
            "1    0\n",
            "2    0\n",
            "3    0\n",
            "Name: y, dtype: int64\n",
            "updated weights: \n",
            "[1.99995645e+00 1.99995531e+00 1.01426980e-04]\n",
            "#############\n",
            "\n",
            "for epoch: 8\n",
            "predicted value: \n",
            "[0 1 1 1]\n",
            "error: \n",
            "0    0\n",
            "1    0\n",
            "2    0\n",
            "3    0\n",
            "Name: y, dtype: int64\n",
            "updated weights: \n",
            "[1.99995645e+00 1.99995531e+00 1.01426980e-04]\n",
            "#############\n",
            "\n",
            "for epoch: 9\n",
            "predicted value: \n",
            "[0 1 1 1]\n",
            "error: \n",
            "0    0\n",
            "1    0\n",
            "2    0\n",
            "3    0\n",
            "Name: y, dtype: int64\n",
            "updated weights: \n",
            "[1.99995645e+00 1.99995531e+00 1.01426980e-04]\n",
            "#############\n",
            "\n"
          ],
          "name": "stdout"
        }
      ]
    },
    {
      "cell_type": "code",
      "metadata": {
        "id": "jOeERgBnNGZE"
      },
      "source": [
        "# XOR"
      ],
      "execution_count": 39,
      "outputs": []
    },
    {
      "cell_type": "code",
      "metadata": {
        "id": "6yfXZWnWNjOm"
      },
      "source": [
        "data = {'x1':[0,0,1,1],'x2':[0,1,0,1],'y':[0,1,1,0]}\n",
        "XOR = pd.DataFrame(data)\n",
        "X = XOR.drop('y',axis=1)\n",
        "y = XOR['y']\n"
      ],
      "execution_count": 40,
      "outputs": []
    },
    {
      "cell_type": "code",
      "metadata": {
        "colab": {
          "base_uri": "https://localhost:8080/"
        },
        "id": "__l_g57sNz8A",
        "outputId": "de5ee32d-65da-4e7c-cda2-2a3c0cae4f46"
      },
      "source": [
        "model_xor = Perceptron(eta = 0.01,epochs = 10,activationFunction=activationFunction)"
      ],
      "execution_count": 41,
      "outputs": [
        {
          "output_type": "stream",
          "text": [
            "self.weights: [1.09861663e-04 9.61953676e-05 3.85511089e-05]\n"
          ],
          "name": "stdout"
        }
      ]
    },
    {
      "cell_type": "code",
      "metadata": {
        "colab": {
          "base_uri": "https://localhost:8080/"
        },
        "id": "s54t5DpWN77_",
        "outputId": "03dd9374-7358-4ee0-a2bc-ed5ff0f12ce7"
      },
      "source": [
        "model_xor.fit(X,y)"
      ],
      "execution_count": 42,
      "outputs": [
        {
          "output_type": "stream",
          "text": [
            "X_with_bias: \n",
            "[[ 0.  0. -1.]\n",
            " [ 0.  1. -1.]\n",
            " [ 1.  0. -1.]\n",
            " [ 1.  1. -1.]]\n",
            "for epoch: 0\n",
            "predicted value: \n",
            "[0 1 1 1]\n",
            "error: \n",
            "0    0\n",
            "1    0\n",
            "2    0\n",
            "3   -1\n",
            "Name: y, dtype: int64\n",
            "updated weights: \n",
            "[-0.00989014 -0.0099038   0.01003855]\n",
            "#############\n",
            "\n",
            "for epoch: 1\n",
            "predicted value: \n",
            "[0 0 0 0]\n",
            "error: \n",
            "0    0\n",
            "1    1\n",
            "2    1\n",
            "3    0\n",
            "Name: y, dtype: int64\n",
            "updated weights: \n",
            "[ 1.09861663e-04  9.61953676e-05 -9.96144889e-03]\n",
            "#############\n",
            "\n",
            "for epoch: 2\n",
            "predicted value: \n",
            "[1 1 1 1]\n",
            "error: \n",
            "0   -1\n",
            "1    0\n",
            "2    0\n",
            "3   -1\n",
            "Name: y, dtype: int64\n",
            "updated weights: \n",
            "[-0.00989014 -0.0099038   0.01003855]\n",
            "#############\n",
            "\n",
            "for epoch: 3\n",
            "predicted value: \n",
            "[0 0 0 0]\n",
            "error: \n",
            "0    0\n",
            "1    1\n",
            "2    1\n",
            "3    0\n",
            "Name: y, dtype: int64\n",
            "updated weights: \n",
            "[ 1.09861663e-04  9.61953676e-05 -9.96144889e-03]\n",
            "#############\n",
            "\n",
            "for epoch: 4\n",
            "predicted value: \n",
            "[1 1 1 1]\n",
            "error: \n",
            "0   -1\n",
            "1    0\n",
            "2    0\n",
            "3   -1\n",
            "Name: y, dtype: int64\n",
            "updated weights: \n",
            "[-0.00989014 -0.0099038   0.01003855]\n",
            "#############\n",
            "\n",
            "for epoch: 5\n",
            "predicted value: \n",
            "[0 0 0 0]\n",
            "error: \n",
            "0    0\n",
            "1    1\n",
            "2    1\n",
            "3    0\n",
            "Name: y, dtype: int64\n",
            "updated weights: \n",
            "[ 1.09861663e-04  9.61953676e-05 -9.96144889e-03]\n",
            "#############\n",
            "\n",
            "for epoch: 6\n",
            "predicted value: \n",
            "[1 1 1 1]\n",
            "error: \n",
            "0   -1\n",
            "1    0\n",
            "2    0\n",
            "3   -1\n",
            "Name: y, dtype: int64\n",
            "updated weights: \n",
            "[-0.00989014 -0.0099038   0.01003855]\n",
            "#############\n",
            "\n",
            "for epoch: 7\n",
            "predicted value: \n",
            "[0 0 0 0]\n",
            "error: \n",
            "0    0\n",
            "1    1\n",
            "2    1\n",
            "3    0\n",
            "Name: y, dtype: int64\n",
            "updated weights: \n",
            "[ 1.09861663e-04  9.61953676e-05 -9.96144889e-03]\n",
            "#############\n",
            "\n",
            "for epoch: 8\n",
            "predicted value: \n",
            "[1 1 1 1]\n",
            "error: \n",
            "0   -1\n",
            "1    0\n",
            "2    0\n",
            "3   -1\n",
            "Name: y, dtype: int64\n",
            "updated weights: \n",
            "[-0.00989014 -0.0099038   0.01003855]\n",
            "#############\n",
            "\n",
            "for epoch: 9\n",
            "predicted value: \n",
            "[0 0 0 0]\n",
            "error: \n",
            "0    0\n",
            "1    1\n",
            "2    1\n",
            "3    0\n",
            "Name: y, dtype: int64\n",
            "updated weights: \n",
            "[ 1.09861663e-04  9.61953676e-05 -9.96144889e-03]\n",
            "#############\n",
            "\n"
          ],
          "name": "stdout"
        }
      ]
    },
    {
      "cell_type": "code",
      "metadata": {
        "colab": {
          "base_uri": "https://localhost:8080/"
        },
        "id": "yHOEiDMRN9pl",
        "outputId": "2d59a7cc-3adc-4a2b-9f3b-06e7c5d6cb53"
      },
      "source": [
        "model_xor.predict(X)"
      ],
      "execution_count": 43,
      "outputs": [
        {
          "output_type": "execute_result",
          "data": {
            "text/plain": [
              "array([1, 1, 1, 1])"
            ]
          },
          "metadata": {
            "tags": []
          },
          "execution_count": 43
        }
      ]
    },
    {
      "cell_type": "code",
      "metadata": {
        "colab": {
          "base_uri": "https://localhost:8080/"
        },
        "id": "iqelrAinOGqq",
        "outputId": "aea5cf39-93d7-44c8-b785-17c9efbcc7e4"
      },
      "source": [
        "model.predict(X)"
      ],
      "execution_count": 44,
      "outputs": [
        {
          "output_type": "execute_result",
          "data": {
            "text/plain": [
              "array([0, 0, 0, 1])"
            ]
          },
          "metadata": {
            "tags": []
          },
          "execution_count": 44
        }
      ]
    },
    {
      "cell_type": "code",
      "metadata": {
        "colab": {
          "base_uri": "https://localhost:8080/"
        },
        "id": "pUOsqXMcOKyv",
        "outputId": "4dd3b894-e226-4440-d694-c5eafd3949cb"
      },
      "source": [
        "model_or.predict(X)"
      ],
      "execution_count": 45,
      "outputs": [
        {
          "output_type": "execute_result",
          "data": {
            "text/plain": [
              "array([0, 1, 1, 1])"
            ]
          },
          "metadata": {
            "tags": []
          },
          "execution_count": 45
        }
      ]
    },
    {
      "cell_type": "code",
      "metadata": {
        "colab": {
          "base_uri": "https://localhost:8080/",
          "height": 326
        },
        "id": "X_GVsWYfOQtL",
        "outputId": "c857fe9c-1cbf-405e-e7b0-e37b489936a0"
      },
      "source": [
        "AND.plot(kind='scatter',x='x1',y='x2',c='y',cmap='winter')"
      ],
      "execution_count": 48,
      "outputs": [
        {
          "output_type": "execute_result",
          "data": {
            "text/plain": [
              "<matplotlib.axes._subplots.AxesSubplot at 0x7f8e5dbf8890>"
            ]
          },
          "metadata": {
            "tags": []
          },
          "execution_count": 48
        },
        {
          "output_type": "display_data",
          "data": {
            "image/png": "[encoded data removed]",
            "text/plain": [
              "<Figure size 432x288 with 2 Axes>"
            ]
          },
          "metadata": {
            "tags": []
          }
        }
      ]
    },
    {
      "cell_type": "code",
      "metadata": {
        "id": "-QcXFuTXPLLj"
      },
      "source": [
        "# XOR"
      ],
      "execution_count": 51,
      "outputs": []
    },
    {
      "cell_type": "code",
      "metadata": {
        "colab": {
          "base_uri": "https://localhost:8080/",
          "height": 326
        },
        "id": "DXSs-qZ3ObQo",
        "outputId": "765ecfc6-cae8-4a62-a241-a8e45887bb48"
      },
      "source": [
        "OR.plot(kind='scatter',x='x1',y='x2',c='y',cmap='winter')\n",
        "plt.axhline(y=0, color = 'black',linestyle = \"--\",linewidth=2)\n",
        "plt.axvline(x=0, color = 'black',linestyle = \"--\",linewidth=2)\n",
        "plt.plot(np.linspace(0,1.4), 0.8 -1*(np.linspace(0,1.4)) )"
      ],
      "execution_count": 60,
      "outputs": [
        {
          "output_type": "execute_result",
          "data": {
            "text/plain": [
              "[<matplotlib.lines.Line2D at 0x7f8e5459f7d0>]"
            ]
          },
          "metadata": {
            "tags": []
          },
          "execution_count": 60
        },
        {
          "output_type": "display_data",
          "data": {
            "image/png": "[encoded data removed]",
            "text/plain": [
              "<Figure size 432x288 with 2 Axes>"
            ]
          },
          "metadata": {
            "tags": []
          }
        }
      ]
    },
    {
      "cell_type": "code",
      "metadata": {
        "colab": {
          "base_uri": "https://localhost:8080/",
          "height": 326
        },
        "id": "YwWf-6SROwEM",
        "outputId": "55015748-17bf-4a46-851e-cc9be87ab026"
      },
      "source": [
        "XOR.plot(kind='scatter',x='x1',y='x2',c='y',cmap='winter')"
      ],
      "execution_count": 50,
      "outputs": [
        {
          "output_type": "execute_result",
          "data": {
            "text/plain": [
              "<matplotlib.axes._subplots.AxesSubplot at 0x7f8e5d4d4b50>"
            ]
          },
          "metadata": {
            "tags": []
          },
          "execution_count": 50
        },
        {
          "output_type": "display_data",
          "data": {
            "image/png": "[encoded data removed]",
            "text/plain": [
              "<Figure size 432x288 with 2 Axes>"
            ]
          },
          "metadata": {
            "tags": []
          }
        }
      ]
    },
    {
      "cell_type": "code",
      "metadata": {
        "colab": {
          "base_uri": "https://localhost:8080/"
        },
        "id": "CsmBhtR2PDhF",
        "outputId": "f40f5225-3326-418a-8614-b853343c10e8"
      },
      "source": [
        "np.random.randint(5,10,6)"
      ],
      "execution_count": 53,
      "outputs": [
        {
          "output_type": "execute_result",
          "data": {
            "text/plain": [
              "array([5, 9, 8, 5, 9, 7])"
            ]
          },
          "metadata": {
            "tags": []
          },
          "execution_count": 53
        }
      ]
    },
    {
      "cell_type": "code",
      "metadata": {
        "colab": {
          "base_uri": "https://localhost:8080/",
          "height": 129
        },
        "id": "74EC9MNCQawJ",
        "outputId": "dfcae48d-e377-4408-cf39-41e133d1f004"
      },
      "source": [
        "np.linspace(5,10,5).1"
      ],
      "execution_count": 56,
      "outputs": [
        {
          "output_type": "error",
          "ename": "SyntaxError",
          "evalue": "ignored",
          "traceback": [
            "\u001b[0;36m  File \u001b[0;32m\"<ipython-input-56-32909242374f>\"\u001b[0;36m, line \u001b[0;32m1\u001b[0m\n\u001b[0;31m    np.linspace(5,10,5).1\u001b[0m\n\u001b[0m                        ^\u001b[0m\n\u001b[0;31mSyntaxError\u001b[0m\u001b[0;31m:\u001b[0m invalid syntax\n"
          ]
        }
      ]
    },
    {
      "cell_type": "code",
      "metadata": {
        "id": "ajDnZoruQdeZ"
      },
      "source": [
        ""
      ],
      "execution_count": null,
      "outputs": []
    }
  ]
}